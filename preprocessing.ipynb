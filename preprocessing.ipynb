{
 "cells": [
  {
   "cell_type": "code",
   "execution_count": 3,
   "id": "2b87394d-7921-499c-847b-f7317f5c0ad0",
   "metadata": {},
   "outputs": [
    {
     "name": "stdout",
     "output_type": "stream",
     "text": [
      "basic_dataset.ipynb  data_loader.py  train.parquet\n"
     ]
    }
   ],
   "source": [
    "!ls dados"
   ]
  },
  {
   "cell_type": "code",
   "execution_count": 1,
   "id": "3d71f218-7ad2-4938-b53f-779f0aa7f85d",
   "metadata": {},
   "outputs": [
    {
     "name": "stdout",
     "output_type": "stream",
     "text": [
      "Collecting pyarrow\n",
      "  Downloading pyarrow-19.0.1-cp310-cp310-manylinux_2_28_x86_64.whl.metadata (3.3 kB)\n",
      "Downloading pyarrow-19.0.1-cp310-cp310-manylinux_2_28_x86_64.whl (42.1 MB)\n",
      "\u001b[2K   \u001b[90m━━━━━━━━━━━━━━━━━━━━━━━━━━━━━━━━━━━━━━━━\u001b[0m \u001b[32m42.1/42.1 MB\u001b[0m \u001b[31m25.1 MB/s\u001b[0m eta \u001b[36m0:00:00\u001b[0m:00:01\u001b[0m00:01\u001b[0m\n",
      "\u001b[?25hInstalling collected packages: pyarrow\n",
      "Successfully installed pyarrow-19.0.1\n",
      "\u001b[33mWARNING: Running pip as the 'root' user can result in broken permissions and conflicting behaviour with the system package manager. It is recommended to use a virtual environment instead: https://pip.pypa.io/warnings/venv\u001b[0m\u001b[33m\n",
      "\u001b[0m"
     ]
    }
   ],
   "source": [
    "!pip install pyarrow"
   ]
  },
  {
   "cell_type": "code",
   "execution_count": 3,
   "id": "69995f62-e542-468f-bffe-636ed3ef6c91",
   "metadata": {},
   "outputs": [],
   "source": [
    "import pandas as pd\n",
    "import ipywidgets as widgets"
   ]
  },
  {
   "cell_type": "code",
   "execution_count": 4,
   "id": "ee0bbb26-a72c-44c1-974d-8bac37999ebe",
   "metadata": {},
   "outputs": [
    {
     "data": {
      "text/plain": [
       "(255471, 18)"
      ]
     },
     "execution_count": 4,
     "metadata": {},
     "output_type": "execute_result"
    }
   ],
   "source": [
    "data = pd.read_parquet('dados/train.parquet')\n",
    "data.shape"
   ]
  },
  {
   "cell_type": "code",
   "execution_count": 52,
   "id": "00595e88-1d2c-4365-8206-0bb0c044f335",
   "metadata": {},
   "outputs": [
    {
     "data": {
      "text/plain": [
       "50222                               MAGAZINE L\n",
       "99431                                 PNEUS GP\n",
       "240152                SANTA CRUZ DISTRIBUIDORA\n",
       "207820                                 DROGALL\n",
       "68386                      ESTAPAR BRASIL LTDA\n",
       "291843                         UNIB DAS TINTAS\n",
       "239942                          IGUACU UNIDADE\n",
       "253364                       FRANSISCO BELTRAO\n",
       "226262                  CURITIBA DISTRIBUIDORA\n",
       "33041                CONGREGACAO BRASIL CRISTA\n",
       "251682                       CAIXA ASSISTENCIA\n",
       "292498                       MACHADO ADVOGADOS\n",
       "88208                          ATACADÃO BRASIL\n",
       "217409                                    CREA\n",
       "171307            MESSIANICA MUNDIAL DO BRASIL\n",
       "302245                                   GALLE\n",
       "186977                      COPACABANA PRINSES\n",
       "122087                 BRADESCO AG. P. OLINPIA\n",
       "248042               INDEPENDENSIA COOPERATIBA\n",
       "16446                 CRUZADA DE EBANJELIZACAO\n",
       "265298                     SINAENCO ARKITETURA\n",
       "223013                        JOANIN COMERCIAL\n",
       "23334                      IGREJA QUADRANGULAR\n",
       "180507                           GASI LUNETTES\n",
       "87736                           COBASI BÁSICOS\n",
       "87634                          COBASI COMERSIO\n",
       "52096                                   SABESP\n",
       "294816                         TOKE INPORTACAO\n",
       "125295                    BRADESCO SANTA MARIA\n",
       "313589                       DELISIAS RIO LTDA\n",
       "124700    BRADESCO PA AB BRASILIA URB CURITIBA\n",
       "300035                                 GRUPO N\n",
       "262465                            UNIAO SICOOB\n",
       "35148                        SAO JOAO FARAMSIA\n",
       "68761                            PERNAMBUCANAS\n",
       "276422                              CANPO BELO\n",
       "171217                             MITRA SANTO\n",
       "115192                COOPERATIBA COOPERSITRUS\n",
       "296252                           RACHED FAMILY\n",
       "78002                   BANCO DO ESTADO DO RGS\n",
       "281791                          CIRURGIA SAUDE\n",
       "135740                         FUNDO MUN IDOSO\n",
       "266191                 SEMINARIO SAO FRANSISCO\n",
       "12427                       CRUZADA EBANJELICA\n",
       "237194                         RANCHO QUEIMADO\n",
       "295173                                  AMADUS\n",
       "19850                EBANJELIZACAO KADRANGULAR\n",
       "165402                             BRASIL PARA\n",
       "286299                                   SANCA\n",
       "155718                                RENASSER\n",
       "Name: user_input, dtype: object"
      ]
     },
     "execution_count": 52,
     "metadata": {},
     "output_type": "execute_result"
    }
   ],
   "source": [
    "data.head(50)['user_input']"
   ]
  },
  {
   "cell_type": "code",
   "execution_count": 5,
   "id": "2749e8b8-c29c-43ed-ac38-0424b26d40db",
   "metadata": {},
   "outputs": [
    {
     "data": {
      "text/html": [
       "<div>\n",
       "<style scoped>\n",
       "    .dataframe tbody tr th:only-of-type {\n",
       "        vertical-align: middle;\n",
       "    }\n",
       "\n",
       "    .dataframe tbody tr th {\n",
       "        vertical-align: top;\n",
       "    }\n",
       "\n",
       "    .dataframe thead th {\n",
       "        text-align: right;\n",
       "    }\n",
       "</style>\n",
       "<table border=\"1\" class=\"dataframe\">\n",
       "  <thead>\n",
       "    <tr style=\"text-align: right;\">\n",
       "      <th></th>\n",
       "      <th>razaosocial</th>\n",
       "      <th>nome_fantasia</th>\n",
       "      <th>uf</th>\n",
       "      <th>user_input</th>\n",
       "    </tr>\n",
       "  </thead>\n",
       "  <tbody>\n",
       "    <tr>\n",
       "      <th>50222</th>\n",
       "      <td>MAGAZINE LUIZA S/A</td>\n",
       "      <td>MAGAZINE LUIZA</td>\n",
       "      <td>SP</td>\n",
       "      <td>MAGAZINE L</td>\n",
       "    </tr>\n",
       "    <tr>\n",
       "      <th>99431</th>\n",
       "      <td>GP PNEUS LTDA</td>\n",
       "      <td>GP PNEUS</td>\n",
       "      <td>PR</td>\n",
       "      <td>PNEUS GP</td>\n",
       "    </tr>\n",
       "    <tr>\n",
       "      <th>240152</th>\n",
       "      <td>DISTRIBUIDORA DE MEDICAMENTOS SANTA CRUZ LTDA</td>\n",
       "      <td>SANTA CRUZ</td>\n",
       "      <td>RS</td>\n",
       "      <td>SANTA CRUZ DISTRIBUIDORA</td>\n",
       "    </tr>\n",
       "    <tr>\n",
       "      <th>207820</th>\n",
       "      <td>DROGAL FARMACEUTICA LTDA</td>\n",
       "      <td>DROGAL JAGUARIUNA</td>\n",
       "      <td>SP</td>\n",
       "      <td>DROGALL</td>\n",
       "    </tr>\n",
       "    <tr>\n",
       "      <th>68386</th>\n",
       "      <td>ALLPARK EMPREENDIMENTOS, PARTICIPACOES E SERVI...</td>\n",
       "      <td>ESTAPAR</td>\n",
       "      <td>ES</td>\n",
       "      <td>ESTAPAR BRASIL LTDA</td>\n",
       "    </tr>\n",
       "    <tr>\n",
       "      <th>291843</th>\n",
       "      <td>LRE UNIVERSO DAS TINTAS LTDA</td>\n",
       "      <td>UNIVERSO DAS TINTAS</td>\n",
       "      <td>MA</td>\n",
       "      <td>UNIB DAS TINTAS</td>\n",
       "    </tr>\n",
       "    <tr>\n",
       "      <th>239942</th>\n",
       "      <td>SEST SERVICO SOCIAL DO TRANSPORTE</td>\n",
       "      <td>FOZ DO IGUACU/PR - OCTAVIANO DA ROS - UNIDADE ...</td>\n",
       "      <td>PR</td>\n",
       "      <td>IGUACU UNIDADE</td>\n",
       "    </tr>\n",
       "    <tr>\n",
       "      <th>253364</th>\n",
       "      <td>COASUL COOPERATIVA AGROINDUSTRIAL</td>\n",
       "      <td>ENTREPOSTO - FRANCISCO BELTRAO - GAUCHA</td>\n",
       "      <td>PR</td>\n",
       "      <td>FRANSISCO BELTRAO</td>\n",
       "    </tr>\n",
       "    <tr>\n",
       "      <th>226262</th>\n",
       "      <td>DISTRIBUIDORA CURITIBA DE PAPEIS E LIVROS S/A</td>\n",
       "      <td>LIVRARIAS CURITIBA</td>\n",
       "      <td>SP</td>\n",
       "      <td>CURITIBA DISTRIBUIDORA</td>\n",
       "    </tr>\n",
       "    <tr>\n",
       "      <th>33041</th>\n",
       "      <td>CONGREGACAO CRISTA NO BRASIL</td>\n",
       "      <td>CONGREGACAO CRISTA NO BRASIL</td>\n",
       "      <td>SP</td>\n",
       "      <td>CONGREGACAO BRASIL CRISTA</td>\n",
       "    </tr>\n",
       "  </tbody>\n",
       "</table>\n",
       "</div>"
      ],
      "text/plain": [
       "                                              razaosocial  \\\n",
       "50222                                  MAGAZINE LUIZA S/A   \n",
       "99431                                       GP PNEUS LTDA   \n",
       "240152      DISTRIBUIDORA DE MEDICAMENTOS SANTA CRUZ LTDA   \n",
       "207820                           DROGAL FARMACEUTICA LTDA   \n",
       "68386   ALLPARK EMPREENDIMENTOS, PARTICIPACOES E SERVI...   \n",
       "291843                       LRE UNIVERSO DAS TINTAS LTDA   \n",
       "239942                  SEST SERVICO SOCIAL DO TRANSPORTE   \n",
       "253364                  COASUL COOPERATIVA AGROINDUSTRIAL   \n",
       "226262      DISTRIBUIDORA CURITIBA DE PAPEIS E LIVROS S/A   \n",
       "33041                        CONGREGACAO CRISTA NO BRASIL   \n",
       "\n",
       "                                            nome_fantasia  uf  \\\n",
       "50222                                      MAGAZINE LUIZA  SP   \n",
       "99431                                            GP PNEUS  PR   \n",
       "240152                                         SANTA CRUZ  RS   \n",
       "207820                                  DROGAL JAGUARIUNA  SP   \n",
       "68386                                             ESTAPAR  ES   \n",
       "291843                                UNIVERSO DAS TINTAS  MA   \n",
       "239942  FOZ DO IGUACU/PR - OCTAVIANO DA ROS - UNIDADE ...  PR   \n",
       "253364            ENTREPOSTO - FRANCISCO BELTRAO - GAUCHA  PR   \n",
       "226262                                 LIVRARIAS CURITIBA  SP   \n",
       "33041                        CONGREGACAO CRISTA NO BRASIL  SP   \n",
       "\n",
       "                       user_input  \n",
       "50222                  MAGAZINE L  \n",
       "99431                    PNEUS GP  \n",
       "240152   SANTA CRUZ DISTRIBUIDORA  \n",
       "207820                    DROGALL  \n",
       "68386         ESTAPAR BRASIL LTDA  \n",
       "291843            UNIB DAS TINTAS  \n",
       "239942             IGUACU UNIDADE  \n",
       "253364          FRANSISCO BELTRAO  \n",
       "226262     CURITIBA DISTRIBUIDORA  \n",
       "33041   CONGREGACAO BRASIL CRISTA  "
      ]
     },
     "execution_count": 5,
     "metadata": {},
     "output_type": "execute_result"
    }
   ],
   "source": [
    "sample = data.head(15)[:10]\n",
    "sample[['razaosocial', 'nome_fantasia', 'uf', 'user_input']]"
   ]
  },
  {
   "cell_type": "code",
   "execution_count": 49,
   "id": "6443e7c6-cdaa-4f3e-ae0f-18f6d7127c9d",
   "metadata": {},
   "outputs": [
    {
     "data": {
      "application/vnd.jupyter.widget-view+json": {
       "model_id": "008d885a575349978dbf336b0bca5d13",
       "version_major": 2,
       "version_minor": 0
      },
      "text/plain": [
       "interactive(children=(Text(value='', description='input_text'), Output()), _dom_classes=('widget-interact',))"
      ]
     },
     "metadata": {},
     "output_type": "display_data"
    }
   ],
   "source": [
    "# @print_timing\n",
    "def interact_cities(input_text):\n",
    "    if not input_text: return\n",
    "    for city, score, _ in rapidfuzz_process.extract(input_text, combined, limit=5):\n",
    "        print(f\"{city:60}{score:3.2f}\")\n",
    "\n",
    "widgets.interact(interact_cities, input_text=\"\");"
   ]
  },
  {
   "cell_type": "code",
   "execution_count": 45,
   "id": "038df5fd-e3dc-4620-bc0a-6764582e623f",
   "metadata": {},
   "outputs": [],
   "source": [
    "combined = [f\"{rs} {nf}\" for rs, nf in zip(sample.razaosocial.str.lower(), sample.nome_fantasia.str.lower())]"
   ]
  },
  {
   "cell_type": "code",
   "execution_count": 46,
   "id": "4ac884fe-8b6c-4788-b29f-084dd77bc1c7",
   "metadata": {},
   "outputs": [
    {
     "data": {
      "text/plain": [
       "'magazine luiza s/a magazine luiza'"
      ]
     },
     "execution_count": 46,
     "metadata": {},
     "output_type": "execute_result"
    }
   ],
   "source": [
    "combined[0]"
   ]
  },
  {
   "cell_type": "code",
   "execution_count": null,
   "id": "a990aa79-fef2-4102-91be-db2941218673",
   "metadata": {},
   "outputs": [],
   "source": []
  },
  {
   "cell_type": "code",
   "execution_count": null,
   "id": "cc18edbe-e23f-4629-bcb7-78c061f49928",
   "metadata": {},
   "outputs": [],
   "source": []
  },
  {
   "cell_type": "code",
   "execution_count": 48,
   "id": "4c585038-4428-4e78-bc9e-58f9764e1dfa",
   "metadata": {},
   "outputs": [
    {
     "data": {
      "text/plain": [
       "[('allpark empreendimentos, participacoes e servicos s.a. estapar', 60.0, 4),\n",
       " ('gp pneus ltda gp pneus', 30.000000000000004, 1)]"
      ]
     },
     "execution_count": 48,
     "metadata": {},
     "output_type": "execute_result"
    }
   ],
   "source": [
    "rapidfuzz_process.extract('park', combined, limit=2)"
   ]
  },
  {
   "cell_type": "code",
   "execution_count": null,
   "id": "a79d3a2c-e269-4e1a-8f37-22f8beba8cf6",
   "metadata": {},
   "outputs": [],
   "source": []
  },
  {
   "cell_type": "code",
   "execution_count": null,
   "id": "de9b54a8-176e-4616-befe-2e8487096559",
   "metadata": {},
   "outputs": [],
   "source": []
  },
  {
   "cell_type": "code",
   "execution_count": 17,
   "id": "db80291c-215d-4a29-83d4-80d2c8cf0c9f",
   "metadata": {},
   "outputs": [
    {
     "name": "stdout",
     "output_type": "stream",
     "text": [
      "Requirement already satisfied: fuzzywuzzy in /opt/conda/lib/python3.10/site-packages (0.18.0)\n",
      "Requirement already satisfied: rapidfuzz in /opt/conda/lib/python3.10/site-packages (3.12.2)\n",
      "Collecting Levenshtein\n",
      "  Downloading levenshtein-0.27.1-cp310-cp310-manylinux_2_17_x86_64.manylinux2014_x86_64.whl.metadata (3.6 kB)\n",
      "Downloading levenshtein-0.27.1-cp310-cp310-manylinux_2_17_x86_64.manylinux2014_x86_64.whl (161 kB)\n",
      "\u001b[2K   \u001b[90m━━━━━━━━━━━━━━━━━━━━━━━━━━━━━━━━━━━━━━━━\u001b[0m \u001b[32m161.5/161.5 kB\u001b[0m \u001b[31m1.8 MB/s\u001b[0m eta \u001b[36m0:00:00\u001b[0ma \u001b[36m0:00:01\u001b[0m\n",
      "\u001b[?25hInstalling collected packages: Levenshtein\n",
      "Successfully installed Levenshtein-0.27.1\n",
      "\u001b[33mWARNING: Running pip as the 'root' user can result in broken permissions and conflicting behaviour with the system package manager. It is recommended to use a virtual environment instead: https://pip.pypa.io/warnings/venv\u001b[0m\u001b[33m\n",
      "\u001b[0m"
     ]
    }
   ],
   "source": [
    "!pip install fuzzywuzzy rapidfuzz Levenshtein"
   ]
  },
  {
   "cell_type": "code",
   "execution_count": 6,
   "id": "9b952806-2ab5-4fba-9dbe-434db6a9fd23",
   "metadata": {},
   "outputs": [],
   "source": [
    "from fuzzywuzzy import fuzz as fuzzywuzzy_fuzz, process as fuzzywuzzy_process\n",
    "from rapidfuzz import fuzz as rapidfuzz_fuzz, process as rapidfuzz_process\n",
    "import Levenshtein\n",
    "\n",
    "import pandas as pd\n",
    "import numpy as np\n",
    "from timeit import default_timer as timer\n",
    "from functools import wraps\n",
    "import ipywidgets as widgets"
   ]
  },
  {
   "cell_type": "code",
   "execution_count": 15,
   "id": "92e212b1-baa6-4819-97eb-142089ca6991",
   "metadata": {},
   "outputs": [
    {
     "data": {
      "application/vnd.jupyter.widget-view+json": {
       "model_id": "41b42eb41be149f3a861680ccbe6c846",
       "version_major": 2,
       "version_minor": 0
      },
      "text/plain": [
       "interactive(children=(Text(value='', description='input_text'), Output()), _dom_classes=('widget-interact',))"
      ]
     },
     "metadata": {},
     "output_type": "display_data"
    }
   ],
   "source": [
    "\n",
    "# @print_timing\n",
    "def interact_cities(input_text):\n",
    "    if not input_text: return\n",
    "    for city, score, _ in rapidfuzz_process.extract(input_text, X_train, limit=10):\n",
    "        print(f\"{city:60}{score:3.2f}\")\n",
    "\n",
    "widgets.interact(interact_cities, input_text=\"\");"
   ]
  },
  {
   "cell_type": "code",
   "execution_count": 14,
   "id": "04353fcc-bc76-49cf-84b0-d170f65a8dfe",
   "metadata": {},
   "outputs": [],
   "source": [
    "X_train = data['razaosocial'] + ' ' + data['nome_fantasia']\n",
    "X_train = X_train.str.lower()\n",
    "\n",
    "def interact_cities(input_text):\n",
    "    if not input_text: return\n",
    "    for city, score, _ in rapidfuzz_process.extract(input_text, X_train, limit=10):\n",
    "        print(f\"{city:60} {score:3.2f}\")"
   ]
  },
  {
   "cell_type": "code",
   "execution_count": 11,
   "id": "eb1bb724-3c02-4076-a2b9-868b10b61c11",
   "metadata": {},
   "outputs": [
    {
     "name": "stdout",
     "output_type": "stream",
     "text": [
      "Agostinho e Calderoni Advogados AGOSTINHO E CALDERONI ADVOGADOS40.00\n",
      "Agostinho e Calderoni Advogados AGOSTINHO E CALDERONI ADVOGADOS40.00\n",
      "Agostinho e Calderoni Advogados AGOSTINHO E CALDERONI ADVOGADOS40.00\n",
      "Dainezi & Passos - Advogados DAINEZI & PASSOS - ADVOGADOS   40.00\n",
      "Agostinho e Calderoni Advogados AGOSTINHO E CALDERONI ADVOGADOS40.00\n",
      "Correa & Brito Advogados Associados CORREA & BRITO ADVOGADOS ASSOCIADOS40.00\n",
      "Dainezi & Passos - Advogados DAINEZI & PASSOS - ADVOGADOS   40.00\n",
      "Correa & Brito Advogados Associados CORREA & BRITO ADVOGADOS ASSOCIADOS40.00\n",
      "Correa & Brito Advogados Associados CORREA & BRITO ADVOGADOS ASSOCIADOS40.00\n",
      "Agostinho e Calderoni Advogados AGOSTINHO E CALDERONI ADVOGADOS40.00\n"
     ]
    }
   ],
   "source": [
    "interact_cities('drogal')"
   ]
  },
  {
   "cell_type": "code",
   "execution_count": 17,
   "id": "0a627434-e533-44e4-9a37-a4073dcff883",
   "metadata": {},
   "outputs": [
    {
     "data": {
      "text/plain": [
       "[('raia drogasil s/a drogaraia', 90.0, 71203),\n",
       " ('raia drogasil s/a drogasil uberaba', 90.0, 137127),\n",
       " ('raia drogasil s/a droga raia', 90.0, 96336),\n",
       " ('csb drogarias s/a drogasmil', 90.0, 141145),\n",
       " ('drogan drogarias ltda drogao super', 90.0, 211231),\n",
       " ('raia drogasil s/a raia drogasil', 90.0, 137115),\n",
       " ('csb drogarias s/a drogasmil', 90.0, 141018),\n",
       " ('drogal farmaceutica ltda drogal boituva', 90.0, 207117),\n",
       " ('drogaria capile ltda farmacias capile', 90.0, 159091),\n",
       " ('raia drogasil s/a drogaraia', 90.0, 71216)]"
      ]
     },
     "execution_count": 17,
     "metadata": {},
     "output_type": "execute_result"
    }
   ],
   "source": [
    "rapidfuzz_process.extract('droga', X_train, limit=10)"
   ]
  },
  {
   "cell_type": "code",
   "execution_count": 18,
   "id": "3a4137b8-54d4-4f88-96d7-a35bb899f5f4",
   "metadata": {},
   "outputs": [
    {
     "data": {
      "text/plain": [
       "'raia drogasil s/a drogaraia'"
      ]
     },
     "execution_count": 18,
     "metadata": {},
     "output_type": "execute_result"
    }
   ],
   "source": [
    "X_train[71203]"
   ]
  }
 ],
 "metadata": {
  "kernelspec": {
   "display_name": "Python 3 (ipykernel)",
   "language": "python",
   "name": "python3"
  },
  "language_info": {
   "codemirror_mode": {
    "name": "ipython",
    "version": 3
   },
   "file_extension": ".py",
   "mimetype": "text/x-python",
   "name": "python",
   "nbconvert_exporter": "python",
   "pygments_lexer": "ipython3",
   "version": "3.10.13"
  }
 },
 "nbformat": 4,
 "nbformat_minor": 5
}
