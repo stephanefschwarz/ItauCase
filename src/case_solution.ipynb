{
 "cells": [
  {
   "cell_type": "markdown",
   "id": "7c9d4821-37c1-4457-b88f-951276e93500",
   "metadata": {},
   "source": [
    "# TO DO\n",
    "\n",
    "### Preprocessing\n",
    "\n",
    "Default preprocessing from the user input string respective:\n",
    "\n",
    "- [x] Set all text sentence to lower\n",
    "- [x] Remove special characters and punctuation\n",
    "- [x] Remove extra write space in the beging and end of the sentence\n",
    "- [x] ~Remove word accents~\n",
    "\n",
    "> [!NOTE]\n",
    "> Below I list a set of preprocessing we can evaluate during inference time, however, I don't believe it will improve the matching processing once it can increase the edit distance (increase the discimilarity) between the original company name and the one provided by the end user, specially in case the user passed the correct name.\n",
    "\n",
    "- [x] Deduplicate repeated words -- NEED IMPROVEMENTS\n",
    "- [x] ~Stemming~\n",
    "- [x] ~Lemmatization~\n",
    "- [x] ~Remove Stop Words~\n",
    "\n",
    "### Searching strategies\n",
    "\n",
    "#### Distance Metrics\n",
    "- [x]  Cosine\n",
    "- [ ]  Euclidean\n",
    "- [ ]  Manhattan\n",
    "- [ ]  Minkowski\n",
    "- [ ]  SEuclidean\n",
    "- [ ]  Mahalanobis\n",
    "- [ ]  Hamming\n",
    "- [ ]  Canberra\n",
    "- [ ]  BrayCurtis\n",
    "\n",
    "#### Embeddings\n",
    "- [x] Bag-of-words normalized with TF-IDF\n",
    "- [x] Multilingual Dense Embeddings\n",
    "- [ ] Hashing Vectorizer\n",
    "\n",
    "#### Techniques\n",
    "- [ ] Clustering (Leiden, RAC++)\n",
    "- [ ] Knowledge Graph\n",
    "- [x] Ranking\n",
    "- [x] Edit Distance\n",
    "- [x] Contrastive Learning\n",
    "- [x] Fuzzy Matching\n",
    "- [ ] Semantic Search\n",
    "\n",
    "## Challanges\n",
    "\n",
    "One of the biggest challanges of this case is to search on two list quickly. We have the razão social and the nome fantasia fields to compare with the input provided by the user. \n",
    "\n",
    "We cannot combine both one it can cause an extra effort for the model find the correct match, and by search into both sequentially, will cause an significan increase in the inference time reponse considering in a real world enviroument we will have millions of names to search for. "
   ]
  },
  {
   "cell_type": "markdown",
   "id": "f52287e7-4981-4562-a8db-68cc93657c3f",
   "metadata": {},
   "source": [
    "## GPU Setup\n",
    "\n",
    "**1 Card da GPU RTX 8000 com 48GB de memória**\n",
    "\n"
   ]
  },
  {
   "cell_type": "markdown",
   "id": "1c8eaed0-ddca-481d-8f34-802b97bbdafb",
   "metadata": {},
   "source": [
    "### Installing packages"
   ]
  },
  {
   "cell_type": "code",
   "execution_count": 94,
   "id": "d3a68260-1106-4c98-a85b-e2ce63299579",
   "metadata": {},
   "outputs": [
    {
     "name": "stderr",
     "output_type": "stream",
     "text": [
      "huggingface/tokenizers: The current process just got forked, after parallelism has already been used. Disabling parallelism to avoid deadlocks...\n",
      "To disable this warning, you can either:\n",
      "\t- Avoid using `tokenizers` before the fork if possible\n",
      "\t- Explicitly set the environment variable TOKENIZERS_PARALLELISM=(true | false)\n"
     ]
    },
    {
     "name": "stdout",
     "output_type": "stream",
     "text": [
      "Requirement already satisfied: accelerate in /opt/conda/lib/python3.10/site-packages (1.6.0)\n",
      "Requirement already satisfied: numpy<3.0.0,>=1.17 in /opt/conda/lib/python3.10/site-packages (from accelerate) (1.26.4)\n",
      "Requirement already satisfied: packaging>=20.0 in /opt/conda/lib/python3.10/site-packages (from accelerate) (23.1)\n",
      "Requirement already satisfied: psutil in /opt/conda/lib/python3.10/site-packages (from accelerate) (5.9.0)\n",
      "Requirement already satisfied: pyyaml in /opt/conda/lib/python3.10/site-packages (from accelerate) (6.0.1)\n",
      "Requirement already satisfied: torch>=2.0.0 in /opt/conda/lib/python3.10/site-packages (from accelerate) (2.2.1)\n",
      "Requirement already satisfied: huggingface-hub>=0.21.0 in /opt/conda/lib/python3.10/site-packages (from accelerate) (0.30.2)\n",
      "Requirement already satisfied: safetensors>=0.4.3 in /opt/conda/lib/python3.10/site-packages (from accelerate) (0.5.3)\n",
      "Requirement already satisfied: filelock in /opt/conda/lib/python3.10/site-packages (from huggingface-hub>=0.21.0->accelerate) (3.13.1)\n",
      "Requirement already satisfied: fsspec>=2023.5.0 in /opt/conda/lib/python3.10/site-packages (from huggingface-hub>=0.21.0->accelerate) (2024.2.0)\n",
      "Requirement already satisfied: requests in /opt/conda/lib/python3.10/site-packages (from huggingface-hub>=0.21.0->accelerate) (2.32.3)\n",
      "Requirement already satisfied: tqdm>=4.42.1 in /opt/conda/lib/python3.10/site-packages (from huggingface-hub>=0.21.0->accelerate) (4.67.1)\n",
      "Requirement already satisfied: typing-extensions>=3.7.4.3 in /opt/conda/lib/python3.10/site-packages (from huggingface-hub>=0.21.0->accelerate) (4.13.2)\n",
      "Requirement already satisfied: sympy in /opt/conda/lib/python3.10/site-packages (from torch>=2.0.0->accelerate) (1.12)\n",
      "Requirement already satisfied: networkx in /opt/conda/lib/python3.10/site-packages (from torch>=2.0.0->accelerate) (3.1)\n",
      "Requirement already satisfied: jinja2 in /opt/conda/lib/python3.10/site-packages (from torch>=2.0.0->accelerate) (3.1.3)\n",
      "Requirement already satisfied: MarkupSafe>=2.0 in /opt/conda/lib/python3.10/site-packages (from jinja2->torch>=2.0.0->accelerate) (2.1.3)\n",
      "Requirement already satisfied: charset-normalizer<4,>=2 in /opt/conda/lib/python3.10/site-packages (from requests->huggingface-hub>=0.21.0->accelerate) (2.0.4)\n",
      "Requirement already satisfied: idna<4,>=2.5 in /opt/conda/lib/python3.10/site-packages (from requests->huggingface-hub>=0.21.0->accelerate) (3.4)\n",
      "Requirement already satisfied: urllib3<3,>=1.21.1 in /opt/conda/lib/python3.10/site-packages (from requests->huggingface-hub>=0.21.0->accelerate) (2.1.0)\n",
      "Requirement already satisfied: certifi>=2017.4.17 in /opt/conda/lib/python3.10/site-packages (from requests->huggingface-hub>=0.21.0->accelerate) (2024.2.2)\n",
      "Requirement already satisfied: mpmath>=0.19 in /opt/conda/lib/python3.10/site-packages (from sympy->torch>=2.0.0->accelerate) (1.3.0)\n",
      "\u001b[33mWARNING: Running pip as the 'root' user can result in broken permissions and conflicting behaviour with the system package manager. It is recommended to use a virtual environment instead: https://pip.pypa.io/warnings/venv\u001b[0m\u001b[33m\n",
      "\u001b[0m"
     ]
    }
   ],
   "source": [
    "# !pip install nltk unidecode\n",
    "# !python -m spacy download pt\n",
    "# !pip install regex spacy unidecode nltk pandas scikit-learn torch sentence-transformers datasets fuzzywuzzy RapidFuzz \n",
    "# !pip install \"numpy<2\"\n",
    "# !pip install transformers[torch]\n",
    "# !pip install accelerate"
   ]
  },
  {
   "cell_type": "markdown",
   "id": "3d677f89-1480-4ceb-b594-201bde841ab5",
   "metadata": {},
   "source": [
    "### Importing Packages"
   ]
  },
  {
   "cell_type": "code",
   "execution_count": 1,
   "id": "656c50bc-d08d-4142-ba4f-3fb4d2af85ce",
   "metadata": {},
   "outputs": [
    {
     "name": "stderr",
     "output_type": "stream",
     "text": [
      "[nltk_data] Downloading package stopwords to /root/nltk_data...\n",
      "[nltk_data]   Package stopwords is already up-to-date!\n"
     ]
    }
   ],
   "source": [
    "import regex\n",
    "import spacy\n",
    "import string\n",
    "from unidecode import unidecode\n",
    "import nltk\n",
    "from nltk.corpus import stopwords\n",
    "nltk.download('stopwords')\n",
    "from pprint import pprint\n",
    "from nltk.stem.snowball import SnowballStemmer\n",
    "\n",
    "import pandas as pd\n",
    "pd.set_option('display.max_colwidth', None)\n",
    "\n",
    "import sklearn\n",
    "from sklearn.model_selection import train_test_split\n",
    "from sklearn.metrics.pairwise import cosine_distances, cosine_similarity, euclidean_distances, haversine_distances, manhattan_distances\n",
    "from sklearn.feature_extraction.text import TfidfVectorizer, CountVectorizer, HashingVectorizer\n",
    "\n",
    "import ipywidgets as widgets\n",
    "\n",
    "import numpy as np\n",
    "import torch\n",
    "\n",
    "from sentence_transformers import SentenceTransformer, util\n",
    "import os"
   ]
  },
  {
   "cell_type": "code",
   "execution_count": 15,
   "id": "be5a44c3-3b03-44fa-95ed-bd2082247830",
   "metadata": {},
   "outputs": [],
   "source": [
    "import datasets\n",
    "from datasets import load_dataset\n",
    "\n",
    "from sentence_transformers import (\n",
    "    SentenceTransformer,\n",
    "    SentenceTransformerTrainer,\n",
    ")\n",
    "from sentence_transformers.losses import MultipleNegativesRankingLoss\n",
    "from sentence_transformers.evaluation import TripletEvaluator\n",
    "\n",
    "from sentence_transformers import (\n",
    "    SentenceTransformer,\n",
    "    SentenceTransformerTrainer,\n",
    "    SentenceTransformerTrainingArguments,\n",
    "    SentenceTransformerModelCardData,\n",
    ")\n",
    "from sentence_transformers.losses import MultipleNegativesRankingLoss\n",
    "from sentence_transformers.training_args import BatchSamplers\n",
    "from sentence_transformers.evaluation import TripletEvaluator\n",
    "from sentence_transformers import losses\n",
    "\n",
    "from fuzzywuzzy import fuzz as fuzzywuzzy_fuzz, process as fuzzywuzzy_process\n",
    "from rapidfuzz import fuzz as rapidfuzz_fuzz, process as rapidfuzz_process"
   ]
  },
  {
   "cell_type": "markdown",
   "id": "377694ab-587c-4373-ac25-e35723bdbcc1",
   "metadata": {},
   "source": [
    "#### Pre-processing"
   ]
  },
  {
   "cell_type": "code",
   "execution_count": 4,
   "id": "15105c78-30e3-4e61-90db-f5bee1a779b2",
   "metadata": {},
   "outputs": [],
   "source": [
    "def string_to_lower(user_input):\n",
    "    return user_input.lower()\n",
    "\n",
    "def remove_special_chars(user_input):\n",
    "    \n",
    "    user_input = unidecode(user_input) ## Remove portugues accents    \n",
    "    special_tokens = str.maketrans(\"\", \"\", string.punctuation)\n",
    "    \n",
    "    return user_input.translate(special_tokens)\n",
    "\n",
    "def remove_extra_white_space(user_input):\n",
    "    return user_input.strip()\n",
    "\n",
    "def remove_duplicates(user_input):\n",
    "    '''\n",
    "        \\w+: select a word\n",
    "        [ ]: followed by a space\n",
    "        \\1: followed by the same word\n",
    "    '''\n",
    "    return regex.sub(r'(\\w+) \\1', r'\\1', user_input, flags=regex.IGNORECASE)\n",
    "\n",
    "def lemma_words(user_input):\n",
    "    lemma = spacy.load('pt_core_news_sm')\n",
    "    doc = lemma(user_input)\n",
    "\n",
    "    final_user_input = ' '.join(token.lemma_ for token in doc)\n",
    "    \n",
    "    return final_user_input\n",
    "\n",
    "# IMPORTANT:: Remove stop words before remove accents\n",
    "def remove_stop_words(user_input):\n",
    "    pt_stop_words = stopwords.words('portuguese')\n",
    "\n",
    "    return \" \".join(token for token in user_input.split() if token not in pt_stop_words)"
   ]
  },
  {
   "cell_type": "code",
   "execution_count": 5,
   "id": "362dbb5f-03d4-4601-ae51-3c0005ecd89a",
   "metadata": {},
   "outputs": [],
   "source": [
    "def run_preprocessing(sample):\n",
    "    output = string_to_lower(sample)\n",
    "    output = remove_special_chars(output)\n",
    "    output = remove_extra_white_space(output)\n",
    "    \n",
    "    return output    "
   ]
  },
  {
   "cell_type": "code",
   "execution_count": null,
   "id": "db9fa6c9-8424-43b5-9389-8c15149ce84d",
   "metadata": {},
   "outputs": [],
   "source": []
  },
  {
   "cell_type": "code",
   "execution_count": null,
   "id": "4ed9ff79-29a9-4008-835a-9d654ebe96d5",
   "metadata": {},
   "outputs": [],
   "source": []
  },
  {
   "cell_type": "markdown",
   "id": "b6db070d-eab2-49c5-8bc3-ed7d7650f016",
   "metadata": {},
   "source": [
    "#### Unit Tests"
   ]
  },
  {
   "cell_type": "code",
   "execution_count": 6,
   "id": "7a008ff7-3374-49ee-9e0a-4aa6015fd6e0",
   "metadata": {},
   "outputs": [
    {
     "name": "stderr",
     "output_type": "stream",
     "text": [
      "test_lemma_words (__main__.TestPreprocessing) ... ok\n",
      "test_remove_duplicates (__main__.TestPreprocessing) ... ok\n",
      "test_remove_extra_white_space (__main__.TestPreprocessing) ... ok\n",
      "test_remove_special_chars (__main__.TestPreprocessing) ... ok\n",
      "test_remove_stop_words (__main__.TestPreprocessing) ... ok\n",
      "test_string_to_lower (__main__.TestPreprocessing) ... ok\n",
      "\n",
      "----------------------------------------------------------------------\n",
      "Ran 6 tests in 0.954s\n",
      "\n",
      "OK\n"
     ]
    }
   ],
   "source": [
    "import unittest\n",
    "\n",
    "class TestPreprocessing(unittest.TestCase):\n",
    "    \n",
    "    def test_string_to_lower(self):\n",
    "        self.assertEqual(string_to_lower('Itaú Unibanco'), 'itaú unibanco')\n",
    "    \n",
    "    def test_remove_special_chars(self):\n",
    "        self.assertEqual(remove_special_chars('\"Itaú Unibanco\"!'), 'Itau Unibanco')\n",
    "    \n",
    "    def test_remove_extra_white_space(self):\n",
    "        self.assertEqual(remove_extra_white_space(' ITAÚ UNIBANCO  '), 'ITAÚ UNIBANCO')\n",
    "    \n",
    "    def test_remove_duplicates(self):\n",
    "        self.assertEqual(remove_duplicates('ITAÚ UNIBANCO UNIBANCO'), 'ITAÚ UNIBANCO')\n",
    "\n",
    "    def test_lemma_words(self):\n",
    "        self.assertEqual(lemma_words('Itaú banco dos bancos'), 'itaú banco de o banco')\n",
    "\n",
    "    def test_remove_stop_words(self):\n",
    "        self.assertEqual(remove_stop_words('Itaú é o banco do povo brasileio'), 'Itaú banco povo brasileio')\n",
    "\n",
    "\n",
    "\n",
    "if __name__ == '__main__':\n",
    "    # unittest.main(argv=['first-arg-is-ignored'], exit=False)\n",
    "    unittest.main(argv=[''], verbosity=2, exit=False)\n"
   ]
  },
  {
   "cell_type": "markdown",
   "id": "9b7edc79-1abf-431c-841e-d07318f74328",
   "metadata": {},
   "source": [
    "#### Loading Dataset"
   ]
  },
  {
   "cell_type": "code",
   "execution_count": 7,
   "id": "8af89859-3aa7-4b5a-9861-b40271b7794d",
   "metadata": {},
   "outputs": [
    {
     "name": "stdout",
     "output_type": "stream",
     "text": [
      "Total samples (255471, 18)\n",
      "\n",
      "['razaosocial',\n",
      " 'nome_fantasia',\n",
      " 'parsed_response',\n",
      " 'cnpj',\n",
      " 'identificador_matriz_filial',\n",
      " 'data_situacao_cadastral',\n",
      " 'nome_cidade_exterior',\n",
      " 'data_inicio_atividade',\n",
      " 'uf',\n",
      " 'capital_social',\n",
      " 'porte',\n",
      " 'cnae_fiscal',\n",
      " 'descricao_cnae',\n",
      " 'nome_pais',\n",
      " 'nome_natureza_juridica',\n",
      " 'nome_motivo',\n",
      " 'nome_qualificacao',\n",
      " 'user_input']\n"
     ]
    }
   ],
   "source": [
    "dataset = pd.read_parquet('../dados/train.parquet')\n",
    "print(f'Total samples {dataset.shape}\\n')\n",
    "\n",
    "pprint(dataset.columns.tolist())"
   ]
  },
  {
   "cell_type": "code",
   "execution_count": 8,
   "id": "64db1cd2-90ea-4dd1-9889-a46132eea0a4",
   "metadata": {},
   "outputs": [],
   "source": [
    "dataset['razaosocial'] = dataset['razaosocial'].apply(run_preprocessing)\n",
    "dataset['nome_fantasia'] = dataset['nome_fantasia'].apply(run_preprocessing)\n",
    "\n",
    "dataset['legal_company_name'] = dataset['razaosocial'] + ' - ' + dataset['nome_fantasia']"
   ]
  },
  {
   "cell_type": "markdown",
   "id": "be21a343-0362-4cf5-b819-3bc2d0052876",
   "metadata": {},
   "source": [
    "#### Deduplicating"
   ]
  },
  {
   "cell_type": "code",
   "execution_count": 9,
   "id": "90d32195-45e1-404e-91a2-3bc767ab6ea2",
   "metadata": {},
   "outputs": [
    {
     "data": {
      "text/plain": [
       "(9962, 19)"
      ]
     },
     "execution_count": 9,
     "metadata": {},
     "output_type": "execute_result"
    }
   ],
   "source": [
    "dataset.drop_duplicates(subset=['legal_company_name'], inplace=True)\n",
    "dataset.shape"
   ]
  },
  {
   "cell_type": "markdown",
   "id": "8828699c-4d0b-44b5-b720-c9b7eaadfc27",
   "metadata": {},
   "source": [
    "#### Split dataset"
   ]
  },
  {
   "cell_type": "code",
   "execution_count": 10,
   "id": "d88a1719-223c-4411-89b9-0f0d520d2204",
   "metadata": {},
   "outputs": [],
   "source": [
    "train_index, test_index = train_test_split(dataset.razaosocial, test_size=0.4)\n",
    "test_index, val_index = train_test_split(test_index, test_size=0.2)"
   ]
  },
  {
   "cell_type": "code",
   "execution_count": 11,
   "id": "6609c114-8d41-4b51-a710-9a9f6a11c89f",
   "metadata": {},
   "outputs": [],
   "source": [
    "train = dataset[dataset.razaosocial.isin(train_index)]\n",
    "val = dataset[dataset.razaosocial.isin(val_index)]\n",
    "test = dataset[dataset.razaosocial.isin(test_index)]"
   ]
  },
  {
   "cell_type": "code",
   "execution_count": 12,
   "id": "d452aa36-c8e9-4cab-9cdd-8b872b1d1154",
   "metadata": {},
   "outputs": [
    {
     "data": {
      "text/plain": [
       "((8432, 19), (5620, 19), (7180, 19))"
      ]
     },
     "execution_count": 12,
     "metadata": {},
     "output_type": "execute_result"
    }
   ],
   "source": [
    "train.shape, val.shape, test.shape"
   ]
  },
  {
   "cell_type": "code",
   "execution_count": 3,
   "id": "6bdc1150-5509-4a65-8c77-a3121c2c6df4",
   "metadata": {},
   "outputs": [],
   "source": [
    "# train.user_input = train.user_input.str.lower()\n",
    "# train.to_parquet('../dados/preprocessed_train_v1.parquet')\n",
    "train = pd.read_parquet('../dados/preprocessed_train_v1.parquet')\n",
    "\n",
    "# test.user_input = test.user_input.str.lower()\n",
    "# test.to_parquet('../dados/preprocessed_test_v1.parquet')\n",
    "test = pd.read_parquet('../dados/preprocessed_test.parquet')\n",
    "\n",
    "# val.user_input = val.user_input.str.lower()\n",
    "# val.to_parquet('../dados/preprocessed_val_v1.parquet')\n",
    "val = pd.read_parquet('../dados/preprocessed_val_v1.parquet')\n"
   ]
  },
  {
   "cell_type": "markdown",
   "id": "af32afc9-a43f-4550-a70c-e6dd7c18d669",
   "metadata": {},
   "source": [
    "## #1 - BoW + TF-IDF\n",
    "\n",
    "- [x] Word level\n",
    "- [x] Char level"
   ]
  },
  {
   "cell_type": "code",
   "execution_count": 14,
   "id": "5902bef7-04ce-45ed-a577-96751f4aba29",
   "metadata": {},
   "outputs": [],
   "source": [
    "def interface(input_text, model, X_train):\n",
    "    if not input_text: \n",
    "        return\n",
    "    \n",
    "    words_dict = model.transform(X_train)    \n",
    "    user_input_vectors = model.transform([input_text])\n",
    "    similarities = cosine_similarity(words_dict, user_input_vectors)\n",
    "    \n",
    "    for index in np.argsort(similarities.flatten())[-5:]:\n",
    "        print(f\"{X_train.iloc[index]:60}{similarities.flatten()[index]:3.2f}\")"
   ]
  },
  {
   "cell_type": "markdown",
   "id": "c8dc0228-ddd7-4d47-8fdc-94d5065e4a91",
   "metadata": {},
   "source": [
    "#### Char-level"
   ]
  },
  {
   "cell_type": "code",
   "execution_count": 15,
   "id": "0e12a76c-7358-4d6e-a419-dc98beeb71e9",
   "metadata": {},
   "outputs": [],
   "source": [
    "model = TfidfVectorizer(analyzer='char', ngram_range=(3,5))\n",
    "\n",
    "X_train = train['legal_company_name']\n",
    "X_val = val['legal_company_name']\n",
    "\n",
    "words_dict = model.fit_transform(X_train)\n",
    "user_input_vectors = model.transform(train['user_input'])\n",
    "\n",
    "similarity = cosine_similarity(words_dict, user_input_vectors)"
   ]
  },
  {
   "cell_type": "code",
   "execution_count": 16,
   "id": "63d29e0b-3a61-4c99-8635-182876cefe38",
   "metadata": {},
   "outputs": [],
   "source": [
    "top_1 = similarity.argmax(axis=1)"
   ]
  },
  {
   "cell_type": "code",
   "execution_count": 17,
   "id": "e38e1edc-47c5-401c-a01c-90d264cb05cf",
   "metadata": {},
   "outputs": [],
   "source": [
    "ground_truth = np.array(X_train)\n",
    "bow_idf_char_preds = np.array(train.legal_company_name.iloc[top_1])"
   ]
  },
  {
   "cell_type": "code",
   "execution_count": 18,
   "id": "a54d2552-1cd2-4cbe-9389-9ebcf8026a03",
   "metadata": {},
   "outputs": [
    {
     "name": "stdout",
     "output_type": "stream",
     "text": [
      "Precision TOP 1:: 0.355550284629981\n"
     ]
    }
   ],
   "source": [
    "precision = (ground_truth == bow_idf_char_preds)\n",
    "\n",
    "print(f'Precision TOP 1:: {precision.mean()}')"
   ]
  },
  {
   "cell_type": "code",
   "execution_count": 19,
   "id": "87e16d1c-cb6a-42d3-a974-c4d652da7df7",
   "metadata": {},
   "outputs": [],
   "source": [
    "def get_top_5(similarity_matrix):\n",
    "    \n",
    "    top_indices = []\n",
    "    top_values = []\n",
    "    \n",
    "    for row in similarity_matrix:\n",
    "        \n",
    "        indices = np.argsort(row)\n",
    "        top_indices.append(indices[-5:])\n",
    "\n",
    "    return top_indices\n",
    "\n",
    "def get_top_5_precision(top_5, groud_truth_indices):\n",
    "    precision = []\n",
    "    \n",
    "    for row, indice in zip(top_5, groud_truth_indices):\n",
    "        if indice in row:\n",
    "            precision.append(True)\n",
    "        else:\n",
    "            precision.append(False)\n",
    "\n",
    "    return precision"
   ]
  },
  {
   "cell_type": "code",
   "execution_count": 20,
   "id": "a948042a-b9c1-482f-8ec6-033d08505f12",
   "metadata": {},
   "outputs": [],
   "source": [
    "top_5 = get_top_5(similarity)\n",
    "precision = get_top_5_precision(top_5, list(range(0, similarity.shape[0])))"
   ]
  },
  {
   "cell_type": "code",
   "execution_count": 21,
   "id": "afc35849-ee23-447b-b668-c56c8ff4cbd1",
   "metadata": {},
   "outputs": [
    {
     "name": "stdout",
     "output_type": "stream",
     "text": [
      "Precision TOP 5:: 0.5147058823529411\n"
     ]
    }
   ],
   "source": [
    "print(f'Precision TOP 5:: {np.array(precision).mean()}')"
   ]
  },
  {
   "cell_type": "markdown",
   "id": "0142e319-9eb7-47fc-ab64-a4807e1fbbef",
   "metadata": {},
   "source": [
    "#### Interacting with the model"
   ]
  },
  {
   "cell_type": "code",
   "execution_count": 22,
   "id": "a0d227bd-ecc7-4c1f-9cbd-36212bbdce40",
   "metadata": {},
   "outputs": [],
   "source": [
    "def interface(input_text):\n",
    "    if not input_text: \n",
    "        return\n",
    "    \n",
    "    words_dict = model.transform(X_val)    \n",
    "    user_input_vectors = model.transform([input_text.lower()])\n",
    "    similarities = cosine_similarity(words_dict, user_input_vectors)\n",
    "    \n",
    "    for index in np.argsort(similarities.flatten())[::-1][:5]:\n",
    "        print(f\"{X_val.iloc[index]:60} SCORE:: \\x1b[6;30;42m {similarities.flatten()[index]:3.2f} \\x1b[0m\")"
   ]
  },
  {
   "cell_type": "code",
   "execution_count": 23,
   "id": "59183e40-92af-4ded-904b-857a3358508c",
   "metadata": {},
   "outputs": [
    {
     "data": {
      "application/vnd.jupyter.widget-view+json": {
       "model_id": "5c64f0bb951943eea0859fe35f695f57",
       "version_major": 2,
       "version_minor": 0
      },
      "text/plain": [
       "interactive(children=(Text(value='', description='input_text'), Output()), _dom_classes=('widget-interact',))"
      ]
     },
     "metadata": {},
     "output_type": "display_data"
    }
   ],
   "source": [
    "_ = widgets.interact(interface, input_text=\"\", model=model, X_train=X_train)"
   ]
  },
  {
   "cell_type": "markdown",
   "id": "22939d00-8b49-47f9-80e2-a5ef6acaa13e",
   "metadata": {},
   "source": [
    "#### Word-level"
   ]
  },
  {
   "cell_type": "code",
   "execution_count": 24,
   "id": "f67783e5-b449-47d7-81d6-3f22c25b3de8",
   "metadata": {},
   "outputs": [],
   "source": [
    "model = TfidfVectorizer(analyzer='word', ngram_range=(1,3))\n",
    "\n",
    "X_train = train['legal_company_name']\n",
    "\n",
    "words_dict = model.fit_transform(X_train)\n",
    "user_input_vectors = model.transform(train['user_input'])\n",
    "\n",
    "similarity = cosine_similarity(words_dict, user_input_vectors)\n",
    "\n",
    "top_1 = similarity.argmax(axis=1)\n",
    "\n",
    "ground_truth = np.array(X_train)\n",
    "bow_idf_words_preds = np.array(train.legal_company_name.iloc[top_1])\n",
    "\n",
    "precision = (ground_truth == bow_idf_words_preds)"
   ]
  },
  {
   "cell_type": "code",
   "execution_count": 25,
   "id": "46a189bd-83a5-4319-a235-e2c3ccab8b5a",
   "metadata": {},
   "outputs": [
    {
     "name": "stdout",
     "output_type": "stream",
     "text": [
      "Precision TOP 1:: 0.3394212523719165\n"
     ]
    }
   ],
   "source": [
    "print(f'Precision TOP 1:: {precision.mean()}')"
   ]
  },
  {
   "cell_type": "code",
   "execution_count": 26,
   "id": "5a434f99-6bc5-493d-87df-c913876aee5b",
   "metadata": {},
   "outputs": [],
   "source": [
    "top_5 = get_top_5(similarity)\n",
    "precision = get_top_5_precision(top_5, list(range(0, similarity.shape[0])))"
   ]
  },
  {
   "cell_type": "code",
   "execution_count": 27,
   "id": "d918a476-1b57-40e3-ac42-cc608f80b342",
   "metadata": {},
   "outputs": [
    {
     "name": "stdout",
     "output_type": "stream",
     "text": [
      "Precision TOP 5:: 0.48564990512333966\n"
     ]
    }
   ],
   "source": [
    "print(f'Precision TOP 5:: {np.array(precision).mean()}')"
   ]
  },
  {
   "cell_type": "markdown",
   "id": "66711341-eb23-44da-9313-771df2f9a658",
   "metadata": {},
   "source": [
    "#### Interacting with the model"
   ]
  },
  {
   "cell_type": "code",
   "execution_count": 28,
   "id": "2a6f4a49-62b5-46dd-8a86-cc64a749c739",
   "metadata": {},
   "outputs": [],
   "source": [
    "def interface(input_text):\n",
    "    if not input_text: \n",
    "        return\n",
    "    \n",
    "    words_dict = model.transform(X_val)    \n",
    "    user_input_vectors = model.transform([input_text.lower()])\n",
    "    similarities = cosine_similarity(words_dict, user_input_vectors)\n",
    "    \n",
    "    for index in np.argsort(similarities.flatten())[::-1][:5]:\n",
    "        print(f\"{X_val.iloc[index]:60} SCORE:: \\x1b[6;30;42m {similarities.flatten()[index]:3.2f} \\x1b[0m\")"
   ]
  },
  {
   "cell_type": "code",
   "execution_count": 29,
   "id": "eaf5b0cb-ed3e-417c-addd-24806246a800",
   "metadata": {},
   "outputs": [
    {
     "data": {
      "application/vnd.jupyter.widget-view+json": {
       "model_id": "2a5b45fe70cb4c32acd8c9e38190eb67",
       "version_major": 2,
       "version_minor": 0
      },
      "text/plain": [
       "interactive(children=(Text(value='', description='input_text'), Output()), _dom_classes=('widget-interact',))"
      ]
     },
     "metadata": {},
     "output_type": "display_data"
    }
   ],
   "source": [
    "_ = widgets.interact(interface, input_text=\"\", model=model, X_train=X_train)"
   ]
  },
  {
   "cell_type": "markdown",
   "id": "32dad5c2-a5be-462b-b555-49faddf9f248",
   "metadata": {},
   "source": [
    "## #2 - Fuzzi Matching"
   ]
  },
  {
   "cell_type": "code",
   "execution_count": 30,
   "id": "535f004b-7a79-49cb-8c18-16dd08873519",
   "metadata": {},
   "outputs": [],
   "source": [
    "fuzzy_results = []\n",
    "user_inputs = train['user_input'].tolist()\n",
    "\n",
    "for user_input in user_inputs:\n",
    "    \n",
    "    best_match = rapidfuzz_process.extract(user_input, X_train, limit=1)  \n",
    "    fuzzy_results.append(best_match[0][0])\n",
    "    "
   ]
  },
  {
   "cell_type": "code",
   "execution_count": 31,
   "id": "8dad51c2-24d3-44fd-b448-374dfe8fcd53",
   "metadata": {},
   "outputs": [],
   "source": [
    "fuzzi_preds = np.array(fuzzy_results) == np.array(X_train)"
   ]
  },
  {
   "cell_type": "code",
   "execution_count": 32,
   "id": "399c17da-46f5-428f-8b12-e6dcd8e40f03",
   "metadata": {},
   "outputs": [
    {
     "name": "stdout",
     "output_type": "stream",
     "text": [
      "Precision TOP 1:: 0.20362903225806453\n"
     ]
    }
   ],
   "source": [
    "print(f'Precision TOP 1:: {np.array(fuzzi_preds).mean()}')"
   ]
  },
  {
   "cell_type": "markdown",
   "id": "3a5e82d6-24d0-4728-b48d-f694c3b730d2",
   "metadata": {},
   "source": [
    "## #3 - Transformers\n",
    "\n",
    "**Embeddings baseline**\n",
    "\n",
    "- [x] Get multilingual bert embeddings\n",
    "- [x] Extract distancies\n",
    "- [x] Get top 1 precision\n",
    "\n",
    "**Adapting Dataset**\n",
    " - [x] anchor + negative + positive samples\n",
    " - [x] anchor + sentence + label\n",
    "\n",
    "**Finetuning**\n",
    " - [x] Funituning with Contrastive Learning loss\n",
    " - [x] Finetuning with Ranking loss\n"
   ]
  },
  {
   "cell_type": "markdown",
   "id": "e3f63fb6-c158-476b-acbf-9292df2b4395",
   "metadata": {},
   "source": [
    "#### Multilingual BERT"
   ]
  },
  {
   "cell_type": "code",
   "execution_count": 5,
   "id": "7822ce3f-2ca8-4e49-a168-73666f4d1d81",
   "metadata": {},
   "outputs": [
    {
     "name": "stderr",
     "output_type": "stream",
     "text": [
      "No sentence-transformers model found with name google-bert/bert-base-multilingual-uncased. Creating a new one with mean pooling.\n"
     ]
    }
   ],
   "source": [
    "model = SentenceTransformer('google-bert/bert-base-multilingual-uncased')"
   ]
  },
  {
   "cell_type": "code",
   "execution_count": 39,
   "id": "d2863cd0-1047-40bb-a66a-e1eac52d69e5",
   "metadata": {},
   "outputs": [],
   "source": [
    "def get_embeddings(model, list_of_sentences):\n",
    "    \n",
    "    embeddings =  model.encode(list_of_sentences, convert_to_tensor=True)\n",
    "    return embeddings\n",
    "\n",
    "def get_similarity(emb1, emb2):\n",
    "\n",
    "    similarities = util.pytorch_cos_sim(emb1, emb2)\n",
    "    top_1 = similarities.argmax(axis=1).cpu()\n",
    "\n",
    "    def get_top_5():\n",
    "        \n",
    "        top_indices = []\n",
    "        top_values = []\n",
    "        for row in similarities:\n",
    "        \n",
    "            values, indices = torch.sort(row, descending=True)\n",
    "            top_values.append(values[:5].cpu())\n",
    "            top_indices.append(indices[:5].cpu())\n",
    "\n",
    "        return top_indices, top_values\n",
    "\n",
    "    top_indices, top_values = get_top_5()\n",
    "\n",
    "    return similarities, top_1, (top_indices, top_values)"
   ]
  },
  {
   "cell_type": "code",
   "execution_count": 7,
   "id": "795f5014-7f90-49ed-bf07-cdd45790a2fd",
   "metadata": {},
   "outputs": [],
   "source": [
    "test_stage = test.copy()\n",
    "test_stage['legal_company_name'] =  test_stage['razaosocial'] + ' - ' + test_stage['nome_fantasia']\n",
    "\n",
    "companies_embeddings = get_embeddings(model, test_stage.legal_company_name.tolist())\n",
    "user_input_embeddngs = get_embeddings(model, test_stage.user_input.tolist())"
   ]
  },
  {
   "cell_type": "code",
   "execution_count": 8,
   "id": "f7e70bfb-8266-4e33-8aab-d943fcfa3090",
   "metadata": {},
   "outputs": [],
   "source": [
    "similarity, top1, (top_5_idx, top_5_values) = get_similarity(companies_embeddings, user_input_embeddngs)"
   ]
  },
  {
   "cell_type": "code",
   "execution_count": 9,
   "id": "ef1e46b3-3999-4a4f-bd21-7ba0803148d8",
   "metadata": {},
   "outputs": [],
   "source": [
    "ground_truth = test_stage['legal_company_name'].to_list()\n",
    "preds = test_stage.legal_company_name.iloc[top1.cpu()].to_list()\n",
    "\n",
    "predicted_precision = np.array(ground_truth) == np.array(preds)"
   ]
  },
  {
   "cell_type": "code",
   "execution_count": 10,
   "id": "37b2743f-9c3e-471e-a77a-2c27790cd130",
   "metadata": {},
   "outputs": [
    {
     "name": "stdout",
     "output_type": "stream",
     "text": [
      "Precision TOP 1:: 0.3120170997074128\n"
     ]
    }
   ],
   "source": [
    "print(f'Precision TOP 1:: {predicted_precision.mean()}')"
   ]
  },
  {
   "cell_type": "markdown",
   "id": "f06ab46e-7fa5-479a-bc96-070e95c34108",
   "metadata": {},
   "source": [
    "#### New Training Dataset"
   ]
  },
  {
   "cell_type": "code",
   "execution_count": 20,
   "id": "52b4235a-18c0-4ce0-8faf-e8ccde72bc8b",
   "metadata": {},
   "outputs": [],
   "source": [
    "negatives = []\n",
    "\n",
    "for idx, ground_t in zip(top_5_idx, ground_truth):\n",
    "    idx = idx.tolist()\n",
    "    preds = train.legal_company_name.iloc[idx].tolist()\n",
    "    \n",
    "    if ground_t in preds:\n",
    "        preds.remove(ground_t)\n",
    "    negatives.append(preds[-3:])"
   ]
  },
  {
   "cell_type": "code",
   "execution_count": 21,
   "id": "c961af4d-7c46-407d-9ba7-e46df58dc5fc",
   "metadata": {},
   "outputs": [
    {
     "data": {
      "text/plain": [
       "['spdm  associacao paulista para o desenvolvimento da medicina - spdm  pais  ap 40',\n",
       " 'banco bradesco sa - bradesco ag humaita',\n",
       " 'mitra arquidiocesana de sao paulo - paroquia santa generosa']"
      ]
     },
     "execution_count": 21,
     "metadata": {},
     "output_type": "execute_result"
    }
   ],
   "source": [
    "negatives[0]"
   ]
  },
  {
   "cell_type": "code",
   "execution_count": 41,
   "id": "6f01c5d4-9edb-4c36-8cf9-3e8f6200bb20",
   "metadata": {},
   "outputs": [],
   "source": [
    "train_cp = train.copy()\n",
    "train_cp['negative'] = None\n",
    "\n",
    "new_dataframe = []\n",
    "for row, negative_samples in zip(train_cp.iterrows(), negatives):\n",
    "    for i in range(3):\n",
    "        sample = row[1].copy()\n",
    "        sample.negative = negative_samples[i]\n",
    " \n",
    "        new_dataframe.append(sample)"
   ]
  },
  {
   "cell_type": "code",
   "execution_count": 45,
   "id": "02b44ee0-97cf-4434-bace-4a6ebd066af1",
   "metadata": {},
   "outputs": [
    {
     "data": {
      "text/html": [
       "<div>\n",
       "<style scoped>\n",
       "    .dataframe tbody tr th:only-of-type {\n",
       "        vertical-align: middle;\n",
       "    }\n",
       "\n",
       "    .dataframe tbody tr th {\n",
       "        vertical-align: top;\n",
       "    }\n",
       "\n",
       "    .dataframe thead th {\n",
       "        text-align: right;\n",
       "    }\n",
       "</style>\n",
       "<table border=\"1\" class=\"dataframe\">\n",
       "  <thead>\n",
       "    <tr style=\"text-align: right;\">\n",
       "      <th></th>\n",
       "      <th>legal_company_name</th>\n",
       "      <th>user_input</th>\n",
       "      <th>negative</th>\n",
       "    </tr>\n",
       "  </thead>\n",
       "  <tbody>\n",
       "    <tr>\n",
       "      <th>50222</th>\n",
       "      <td>magazine luiza sa - magazine luiza</td>\n",
       "      <td>magazine l</td>\n",
       "      <td>centro espirita allan kardec - educandario euripedes creche mae luiza</td>\n",
       "    </tr>\n",
       "    <tr>\n",
       "      <th>50222</th>\n",
       "      <td>magazine luiza sa - magazine luiza</td>\n",
       "      <td>magazine l</td>\n",
       "      <td>secretaria de estado de saude  ses - upa 24 horas  nova iguacu ii</td>\n",
       "    </tr>\n",
       "    <tr>\n",
       "      <th>50222</th>\n",
       "      <td>magazine luiza sa - magazine luiza</td>\n",
       "      <td>magazine l</td>\n",
       "      <td>expresso guanabara ltda - filial n 5</td>\n",
       "    </tr>\n",
       "    <tr>\n",
       "      <th>99431</th>\n",
       "      <td>gp pneus ltda - gp pneus</td>\n",
       "      <td>pneus gp</td>\n",
       "      <td>regia pneus ltda - regia pneus</td>\n",
       "    </tr>\n",
       "    <tr>\n",
       "      <th>99431</th>\n",
       "      <td>gp pneus ltda - gp pneus</td>\n",
       "      <td>pneus gp</td>\n",
       "      <td>pr pneus ltda - parana pneus</td>\n",
       "    </tr>\n",
       "    <tr>\n",
       "      <th>99431</th>\n",
       "      <td>gp pneus ltda - gp pneus</td>\n",
       "      <td>pneus gp</td>\n",
       "      <td>centro de treinamento p3 trainner ltda - p3 trainner</td>\n",
       "    </tr>\n",
       "    <tr>\n",
       "      <th>207820</th>\n",
       "      <td>drogal farmaceutica ltda - drogal jaguariuna</td>\n",
       "      <td>drogall</td>\n",
       "      <td>drogal farmaceutica ltda - drogal campinas xxii</td>\n",
       "    </tr>\n",
       "  </tbody>\n",
       "</table>\n",
       "</div>"
      ],
      "text/plain": [
       "                                  legal_company_name  user_input  \\\n",
       "50222             magazine luiza sa - magazine luiza  magazine l   \n",
       "50222             magazine luiza sa - magazine luiza  magazine l   \n",
       "50222             magazine luiza sa - magazine luiza  magazine l   \n",
       "99431                       gp pneus ltda - gp pneus    pneus gp   \n",
       "99431                       gp pneus ltda - gp pneus    pneus gp   \n",
       "99431                       gp pneus ltda - gp pneus    pneus gp   \n",
       "207820  drogal farmaceutica ltda - drogal jaguariuna     drogall   \n",
       "\n",
       "                                                                     negative  \n",
       "50222   centro espirita allan kardec - educandario euripedes creche mae luiza  \n",
       "50222       secretaria de estado de saude  ses - upa 24 horas  nova iguacu ii  \n",
       "50222                                    expresso guanabara ltda - filial n 5  \n",
       "99431                                          regia pneus ltda - regia pneus  \n",
       "99431                                            pr pneus ltda - parana pneus  \n",
       "99431                    centro de treinamento p3 trainner ltda - p3 trainner  \n",
       "207820                        drogal farmaceutica ltda - drogal campinas xxii  "
      ]
     },
     "execution_count": 45,
     "metadata": {},
     "output_type": "execute_result"
    }
   ],
   "source": [
    "dataset = pd.DataFrame(new_dataframe)\n",
    "dataset[['legal_company_name', 'user_input','negative']].head(7)"
   ]
  },
  {
   "cell_type": "code",
   "execution_count": 46,
   "id": "4ba6d8a0-6b9c-4d19-88cc-5c2092ecc409",
   "metadata": {},
   "outputs": [],
   "source": [
    "dataset = dataset[['legal_company_name', 'user_input','negative']]\n",
    "dataset.rename(columns={'legal_company_name':'positive','user_input':'anchor'}, inplace=True)"
   ]
  },
  {
   "cell_type": "code",
   "execution_count": 47,
   "id": "d75451ab-0e46-4d4c-be27-81f15b412f43",
   "metadata": {},
   "outputs": [],
   "source": [
    "# dataset.to_csv('../dados/augumented_train_anchor_positive_negative.csv', index=False)"
   ]
  },
  {
   "cell_type": "markdown",
   "id": "d0e49f4a-41ee-49f1-a573-a108cfcf0b1f",
   "metadata": {},
   "source": [
    "#### MultipleNegativesRanking Loss"
   ]
  },
  {
   "cell_type": "code",
   "execution_count": 53,
   "id": "4cd3f540-1817-41e2-b09a-38b7c6599d14",
   "metadata": {},
   "outputs": [],
   "source": [
    "file_dict = {\n",
    "  \"train\" : \"../dados/augumented_train_anchor_positive_negative.csv\",\n",
    "  # \"test\" : \"../dados/augumented_train.csv\"\n",
    "}\n",
    "\n",
    "data = load_dataset(\n",
    "  'csv',\n",
    "  data_files=file_dict,\n",
    "  delimiter=',',\n",
    "  column_names=['anchor', 'positive', 'negative'],\n",
    "  skiprows=1\n",
    ")\n",
    "\n",
    "train_dataset = data[\"train\"].select(range(15178))\n",
    "eval_dataset = data[\"train\"].select(range(15178, 25296))"
   ]
  },
  {
   "cell_type": "code",
   "execution_count": 54,
   "id": "9c17f85c-11be-4e9d-b7ed-8aec06a4df06",
   "metadata": {},
   "outputs": [
    {
     "name": "stderr",
     "output_type": "stream",
     "text": [
      "Currently using DataParallel (DP) for multi-gpu training, while DistributedDataParallel (DDP) is recommended for faster training. See https://sbert.net/docs/sentence_transformer/training/distributed.html for more information.\n"
     ]
    },
    {
     "data": {
      "application/vnd.jupyter.widget-view+json": {
       "model_id": "fe8afee66581419480f918f80a4e628a",
       "version_major": 2,
       "version_minor": 0
      },
      "text/plain": [
       "Computing widget examples:   0%|          | 0/1 [00:00<?, ?example/s]"
      ]
     },
     "metadata": {},
     "output_type": "display_data"
    },
    {
     "data": {
      "text/html": [
       "\n",
       "    <div>\n",
       "      \n",
       "      <progress value='1900' max='1900' style='width:300px; height:20px; vertical-align: middle;'></progress>\n",
       "      [1900/1900 31:15, Epoch 4/4]\n",
       "    </div>\n",
       "    <table border=\"1\" class=\"dataframe\">\n",
       "  <thead>\n",
       " <tr style=\"text-align: left;\">\n",
       "      <th>Step</th>\n",
       "      <th>Training Loss</th>\n",
       "    </tr>\n",
       "  </thead>\n",
       "  <tbody>\n",
       "    <tr>\n",
       "      <td>500</td>\n",
       "      <td>0.402800</td>\n",
       "    </tr>\n",
       "    <tr>\n",
       "      <td>1000</td>\n",
       "      <td>0.104300</td>\n",
       "    </tr>\n",
       "    <tr>\n",
       "      <td>1500</td>\n",
       "      <td>0.046400</td>\n",
       "    </tr>\n",
       "  </tbody>\n",
       "</table><p>"
      ],
      "text/plain": [
       "<IPython.core.display.HTML object>"
      ]
     },
     "metadata": {},
     "output_type": "display_data"
    },
    {
     "data": {
      "text/plain": [
       "TrainOutput(global_step=1900, training_loss=0.1522539690921181, metrics={'train_runtime': 1878.0161, 'train_samples_per_second': 32.328, 'train_steps_per_second': 1.012, 'total_flos': 0.0, 'train_loss': 0.1522539690921181, 'epoch': 4.0})"
      ]
     },
     "execution_count": 54,
     "metadata": {},
     "output_type": "execute_result"
    }
   ],
   "source": [
    "loss = MultipleNegativesRankingLoss(model)\n",
    "\n",
    "args = SentenceTransformerTrainingArguments(\n",
    "    # Required parameter:\n",
    "    output_dir=\"models/google-bert-MultipleNegativesRanking-loss\",\n",
    "    # Optional training parameters:\n",
    "    num_train_epochs=4,\n",
    "    batch_sampler=BatchSamplers.NO_DUPLICATES,  # MultipleNegativesRankingLoss benefits from no duplicates\n",
    ")\n",
    "\n",
    "trainer = SentenceTransformerTrainer(\n",
    "    # output_dir=\"trained_models/bert-triplet\",\n",
    "    args=args,\n",
    "    model=model,\n",
    "    train_dataset=train_dataset,\n",
    "    eval_dataset=eval_dataset,\n",
    "    loss=loss,\n",
    ")\n",
    "# trainer.train()"
   ]
  },
  {
   "cell_type": "code",
   "execution_count": 11,
   "id": "9a18ef53-c4d8-4f50-bb58-0eafb6c54ff3",
   "metadata": {},
   "outputs": [
    {
     "name": "stdout",
     "output_type": "stream",
     "text": [
      "Precision TOP 1:: 0.8506228428263574\n"
     ]
    }
   ],
   "source": [
    "test_stage = test.copy()\n",
    "test_stage['legal_company_name'] = test_stage['razaosocial'] + ' - ' + test_stage['nome_fantasia']\n",
    "\n",
    "model = SentenceTransformer('./models/google-bert-MultipleNegativesRanking-loss/checkpoint-1900')\n",
    "\n",
    "companies_embeddings = get_embeddings(model, test_stage.legal_company_name.tolist())\n",
    "user_input_embeddngs = get_embeddings(model, test_stage.user_input.tolist())\n",
    "\n",
    "similarity, top1, (top_5_idx, top_5_values) = get_similarity(companies_embeddings, user_input_embeddngs)\n",
    "\n",
    "ground_truth = test_stage['legal_company_name'].to_list()\n",
    "preds = test_stage.legal_company_name.iloc[top1.cpu()].to_list()\n",
    "\n",
    "predicted_precision = np.array(ground_truth) == np.array(preds)\n",
    "\n",
    "print(f'Precision TOP 1:: {predicted_precision.mean()}')"
   ]
  },
  {
   "cell_type": "code",
   "execution_count": 14,
   "id": "2d3e67cd-17ac-441f-89da-5a317244e598",
   "metadata": {},
   "outputs": [
    {
     "data": {
      "text/plain": [
       "50222                                             MAGAZINE LUIZA S/A - MAGAZINE LUIZA\n",
       "99431                                                        GP PNEUS LTDA - GP PNEUS\n",
       "207820                                   DROGAL FARMACEUTICA LTDA - DROGAL JAGUARIUNA\n",
       "291843                             LRE UNIVERSO DAS TINTAS LTDA - UNIVERSO DAS TINTAS\n",
       "253364    COASUL COOPERATIVA AGROINDUSTRIAL - ENTREPOSTO - FRANCISCO BELTRAO - GAUCHA\n",
       "                                             ...                                     \n",
       "178366        EMBRACON ADMINISTRADORA DE CONSORCIO LTDA - CONSORCIO NACIONAL EMBRACON\n",
       "297016        NILDA ALMEIDA DOS SANTOS SUPERMERCADO LTDA - SUPERMERCADO DOIS CORACOES\n",
       "228251                 BALAROTI - COMERCIO DE MATERIAIS DE CONSTRUCAO S.A. - BALAROTI\n",
       "306939                                           TOMORROW STORE LTDA - TOMORROW STORE\n",
       "210582                             SARAIVA E SICILIANO S.A. FALIDO - LIVRARIA SARAIVA\n",
       "Name: legal_company_name, Length: 57077, dtype: object"
      ]
     },
     "execution_count": 14,
     "metadata": {},
     "output_type": "execute_result"
    }
   ],
   "source": [
    "test_stage = test.copy()\n",
    "test_stage['legal_company_name'] = test_stage['razaosocial'] + ' - ' + test_stage['nome_fantasia']\n",
    "\n",
    "\n",
    "test_stage.legal_company_name"
   ]
  },
  {
   "cell_type": "code",
   "execution_count": 18,
   "id": "441817d7-31ce-4705-83ad-8b6724f6b0fa",
   "metadata": {},
   "outputs": [
    {
     "name": "stdout",
     "output_type": "stream",
     "text": [
      "Precision TOP 1:: 0.5291086350974931\n"
     ]
    }
   ],
   "source": [
    "test_stage = pd.read_parquet('../dados/preprocessed_test_v1.parquet')\n",
    "\n",
    "test_stage['legal_company_name'] = test_stage['razaosocial'] + ' - ' + test_stage['nome_fantasia']\n",
    "\n",
    "model = SentenceTransformer('./models/google-bert-MultipleNegativesRanking-loss/checkpoint-1900')\n",
    "\n",
    "companies_embeddings = get_embeddings(model, test_stage.legal_company_name.str.lower().tolist())\n",
    "user_input_embeddngs = get_embeddings(model, test_stage.user_input.str.lower().tolist())\n",
    "\n",
    "similarity, top1, (top_5_idx, top_5_values) = get_similarity(companies_embeddings, user_input_embeddngs)\n",
    "\n",
    "ground_truth = test_stage['legal_company_name'].str.lower().tolist()\n",
    "preds = test_stage.legal_company_name.str.lower().iloc[top1.cpu()].to_list()\n",
    "\n",
    "predicted_precision = np.array(ground_truth) == np.array(preds)\n",
    "\n",
    "print(f'Precision TOP 1:: {predicted_precision.mean()}')"
   ]
  },
  {
   "attachments": {},
   "cell_type": "markdown",
   "id": "69e3ed8a-840d-4b15-a042-5ef54a1fc74f",
   "metadata": {},
   "source": [
    "#### CachedMultipleNegativesSymmetricRankingLoss Loss\n",
    "\n",
    "\\begin{aligned}\n",
    "\\sum_{P}^{i=1}\\sum_{N}^{j=1}max(0, f(q,p_i) - f(q,n_j) + margin)\n",
    "\\end{aligned}\n",
    "\n",
    "- *P:* # positive samples\n",
    "- *N:* # of negative samples\n",
    "- *q:* input query\n",
    "- *p_i:* the *i^{th}* positive sample\n",
    "- *n_j:* the *j^{th}* negative sample\n",
    "- *f* is the similarity function measuring the distance between the query and the samples\n",
    "- *marging:* is a hyperparameter to define the desired separation between positive and negative samples\n",
    "\n",
    "---\n",
    "\n"
   ]
  },
  {
   "cell_type": "code",
   "execution_count": 58,
   "id": "e6de5102-b0d0-4fca-809e-692c21b55c19",
   "metadata": {},
   "outputs": [
    {
     "name": "stderr",
     "output_type": "stream",
     "text": [
      "No sentence-transformers model found with name google-bert/bert-base-multilingual-uncased. Creating a new one with mean pooling.\n",
      "Currently using DataParallel (DP) for multi-gpu training, while DistributedDataParallel (DDP) is recommended for faster training. See https://sbert.net/docs/sentence_transformer/training/distributed.html for more information.\n"
     ]
    },
    {
     "data": {
      "application/vnd.jupyter.widget-view+json": {
       "model_id": "3dec586be1604a70b9cc2130515b3628",
       "version_major": 2,
       "version_minor": 0
      },
      "text/plain": [
       "Computing widget examples:   0%|          | 0/1 [00:00<?, ?example/s]"
      ]
     },
     "metadata": {},
     "output_type": "display_data"
    },
    {
     "data": {
      "text/html": [
       "\n",
       "    <div>\n",
       "      \n",
       "      <progress value='1900' max='1900' style='width:300px; height:20px; vertical-align: middle;'></progress>\n",
       "      [1900/1900 45:10, Epoch 4/4]\n",
       "    </div>\n",
       "    <table border=\"1\" class=\"dataframe\">\n",
       "  <thead>\n",
       " <tr style=\"text-align: left;\">\n",
       "      <th>Step</th>\n",
       "      <th>Training Loss</th>\n",
       "    </tr>\n",
       "  </thead>\n",
       "  <tbody>\n",
       "    <tr>\n",
       "      <td>500</td>\n",
       "      <td>0.403200</td>\n",
       "    </tr>\n",
       "    <tr>\n",
       "      <td>1000</td>\n",
       "      <td>0.109400</td>\n",
       "    </tr>\n",
       "    <tr>\n",
       "      <td>1500</td>\n",
       "      <td>0.047600</td>\n",
       "    </tr>\n",
       "  </tbody>\n",
       "</table><p>"
      ],
      "text/plain": [
       "<IPython.core.display.HTML object>"
      ]
     },
     "metadata": {},
     "output_type": "display_data"
    },
    {
     "data": {
      "text/plain": [
       "TrainOutput(global_step=1900, training_loss=0.15426006517912214, metrics={'train_runtime': 2711.7727, 'train_samples_per_second': 22.388, 'train_steps_per_second': 0.701, 'total_flos': 0.0, 'train_loss': 0.15426006517912214, 'epoch': 4.0})"
      ]
     },
     "execution_count": 58,
     "metadata": {},
     "output_type": "execute_result"
    }
   ],
   "source": [
    "loss = losses.CachedMultipleNegativesSymmetricRankingLoss(model)\n",
    "\n",
    "args = SentenceTransformerTrainingArguments(\n",
    "    # Required parameter:\n",
    "    output_dir=\"models/google-bert-CachedMultipleNegativesSymmetricRankingLoss-loss\",\n",
    "    # Optional training parameters:\n",
    "    num_train_epochs=4,\n",
    "    batch_sampler=BatchSamplers.NO_DUPLICATES,  # MultipleNegativesRankingLoss benefits from no duplicates\n",
    ")\n",
    "\n",
    "trainer = SentenceTransformerTrainer(\n",
    "    # output_dir=\"trained_models/bert-triplet\",\n",
    "    args=args,\n",
    "    model=model,\n",
    "    train_dataset=train_dataset,\n",
    "    eval_dataset=eval_dataset,\n",
    "    loss=loss,\n",
    ")\n",
    "# trainer.train()"
   ]
  },
  {
   "cell_type": "code",
   "execution_count": 19,
   "id": "71f63d34-51ef-4505-a0b1-e649f2b722e2",
   "metadata": {},
   "outputs": [
    {
     "name": "stdout",
     "output_type": "stream",
     "text": [
      "Precision TOP 1:: 0.8181404068188587\n"
     ]
    }
   ],
   "source": [
    "model = SentenceTransformer('./models/google-bert-CachedMultipleNegativesSymmetricRankingLoss-loss/checkpoint-1900')\n",
    "\n",
    "test_stage = test.copy()\n",
    "test_stage['legal_company_name'] = test_stage['razaosocial'] + ' - ' + test_stage['nome_fantasia']\n",
    "\n",
    "companies_embeddings = get_embeddings(model, test_stage.legal_company_name.tolist())\n",
    "user_input_embeddngs = get_embeddings(model, test_stage.user_input.tolist())\n",
    "\n",
    "similarity, top1, (top_5_idx, top_5_values) = get_similarity(companies_embeddings, user_input_embeddngs)\n",
    "\n",
    "ground_truth = test_stage['legal_company_name'].to_list()\n",
    "preds = test_stage.legal_company_name.iloc[top1.cpu()].to_list()\n",
    "\n",
    "predicted_precision = np.array(ground_truth) == np.array(preds)\n",
    "\n",
    "print(f'Precision TOP 1:: {predicted_precision.mean()}')"
   ]
  },
  {
   "cell_type": "code",
   "execution_count": 20,
   "id": "a03e0eae-4d5e-4dd1-8e6d-5f0c21a0d931",
   "metadata": {},
   "outputs": [
    {
     "name": "stdout",
     "output_type": "stream",
     "text": [
      "Precision TOP 1:: 0.5291086350974931\n"
     ]
    }
   ],
   "source": [
    "test_stage = pd.read_parquet('../dados/preprocessed_test_v1.parquet')\n",
    "\n",
    "test_stage['legal_company_name'] = test_stage['razaosocial'] + ' - ' + test_stage['nome_fantasia']\n",
    "\n",
    "model = SentenceTransformer('./models/google-bert-MultipleNegativesRanking-loss/checkpoint-1900')\n",
    "\n",
    "companies_embeddings = get_embeddings(model, test_stage.legal_company_name.str.lower().tolist())\n",
    "user_input_embeddngs = get_embeddings(model, test_stage.user_input.str.lower().tolist())\n",
    "\n",
    "similarity, top1, (top_5_idx, top_5_values) = get_similarity(companies_embeddings, user_input_embeddngs)\n",
    "\n",
    "ground_truth = test_stage['legal_company_name'].str.lower().tolist()\n",
    "preds = test_stage.legal_company_name.str.lower().iloc[top1.cpu()].to_list()\n",
    "\n",
    "predicted_precision = np.array(ground_truth) == np.array(preds)\n",
    "\n",
    "print(f'Precision TOP 1:: {predicted_precision.mean()}')"
   ]
  },
  {
   "cell_type": "code",
   "execution_count": 66,
   "id": "7491d61d-d679-4811-8363-8337f62c219b",
   "metadata": {},
   "outputs": [
    {
     "name": "stdout",
     "output_type": "stream",
     "text": [
      "Precision TOP 5:: 0.7071030640668524\n"
     ]
    }
   ],
   "source": [
    "top_5_names = [test_stage.legal_company_name.iloc[idx].to_list() for idx in np.array(top_5_idx)]\n",
    "top_5_names\n",
    "\n",
    "top_5_precision = [True if gt in top_names else False for top_names, gt in zip(top_5_names, test_stage.legal_company_name.tolist())]\n",
    "print(f'Precision TOP 5:: {np.array(top_5_precision).mean()}')\n",
    "\n",
    "show = pd.DataFrame({\n",
    "    'ground_truth':ground_truth,\n",
    "    'prediction':preds,\n",
    "    'user_input':test_stage.user_input,\n",
    "    'top_5_names': top_5_names,\n",
    "    'top_5_indices': np.array(top_5_idx).tolist(),\n",
    "    'top_5_score':np.array(top_5_values).tolist(),\n",
    "    'is_on_top_5':top_5_precision\n",
    "})"
   ]
  },
  {
   "cell_type": "markdown",
   "id": "c4f11f70-4382-4f35-a102-8c7fb369885d",
   "metadata": {},
   "source": [
    "#### General Overview"
   ]
  },
  {
   "cell_type": "code",
   "execution_count": 69,
   "id": "3a35e4ec-c104-4d3e-902e-88ccf7f6cba3",
   "metadata": {},
   "outputs": [
    {
     "data": {
      "text/html": [
       "<div>\n",
       "<style scoped>\n",
       "    .dataframe tbody tr th:only-of-type {\n",
       "        vertical-align: middle;\n",
       "    }\n",
       "\n",
       "    .dataframe tbody tr th {\n",
       "        vertical-align: top;\n",
       "    }\n",
       "\n",
       "    .dataframe thead th {\n",
       "        text-align: right;\n",
       "    }\n",
       "</style>\n",
       "<table border=\"1\" class=\"dataframe\">\n",
       "  <thead>\n",
       "    <tr style=\"text-align: right;\">\n",
       "      <th></th>\n",
       "      <th>ground_truth</th>\n",
       "      <th>prediction</th>\n",
       "      <th>user_input</th>\n",
       "      <th>top_5_names</th>\n",
       "      <th>top_5_indices</th>\n",
       "      <th>top_5_score</th>\n",
       "      <th>is_on_top_5</th>\n",
       "    </tr>\n",
       "  </thead>\n",
       "  <tbody>\n",
       "    <tr>\n",
       "      <th>291843</th>\n",
       "      <td>lre universo das tintas ltda - universo das tintas</td>\n",
       "      <td>lissa z modas ltda - lissa z modas</td>\n",
       "      <td>unib das tintas</td>\n",
       "      <td>[lissa z modas ltda - lissa z modas, veste sa estilo - le lis blanc beaute, lux solis energy ltda - lux solis energy, tarjab incorporadora ltda - edificio estilo saude, sao paulo secretaria da educacao - diretoria de ensino regiao de lins]</td>\n",
       "      <td>[3158, 3181, 1938, 2610, 3285]</td>\n",
       "      <td>[0.4108259081840515, 0.37912145256996155, 0.37427976727485657, 0.3723595142364502, 0.3710743486881256]</td>\n",
       "      <td>False</td>\n",
       "    </tr>\n",
       "    <tr>\n",
       "      <th>33041</th>\n",
       "      <td>congregacao crista no brasil - congregacao crista no brasil</td>\n",
       "      <td>congregacao crista no brasil - congregacao crista no brasil de nova olimpia</td>\n",
       "      <td>congregacao brasil crista</td>\n",
       "      <td>[congregacao crista no brasil - congregacao crista no brasil de nova olimpia, congregacao crista no brasil - congregacacao crista no brasil, congregacao crista no brasil - congregacao crista no brasil  retiro, congregacao crista no brasil - congregao crista no brasil, congregacao crista no brasil - casa de oracao  mendonca  central]</td>\n",
       "      <td>[3409, 4359, 6950, 1811, 4560]</td>\n",
       "      <td>[0.956422746181488, 0.9564069509506226, 0.9534821510314941, 0.9419078230857849, 0.9419078230857849]</td>\n",
       "      <td>False</td>\n",
       "    </tr>\n",
       "    <tr>\n",
       "      <th>276422</th>\n",
       "      <td>instituto educacional de sao paulo ltda - iesp campo belo</td>\n",
       "      <td>banco santander brasil sa - campo belo ispsp</td>\n",
       "      <td>canpo belo</td>\n",
       "      <td>[banco santander brasil sa - campo belo ispsp, sociedade educacional iesp  sao paulo ltda - unidade de ensino iesp  colinas do tocantis, bolognesi empreendimentos ltda - cond fazenda esperanca 77  campo belo ii  lt 17 q f1, bolognesi empreendimentos ltda - cond fazenda esperanca 250 campo belo iii lt 06 q g3, bolognesi empreendimentos ltda - cond fazenda esperanca 273 campo belo iii lt 55 q i2]</td>\n",
       "      <td>[319, 7149, 186, 215, 1284]</td>\n",
       "      <td>[0.6804711222648621, 0.6479663848876953, 0.6318061947822571, 0.6318061947822571, 0.6318061947822571]</td>\n",
       "      <td>False</td>\n",
       "    </tr>\n",
       "    <tr>\n",
       "      <th>171217</th>\n",
       "      <td>mitra arquidiocesana de sao paulo - paroquia santo antonio</td>\n",
       "      <td>mitra arquidiocesana de londrina - paroquia de santo antonio</td>\n",
       "      <td>mitra santo</td>\n",
       "      <td>[mitra arquidiocesana de londrina - paroquia de santo antonio, mitra diocesana de santo andre - paroquia de santo antonio, arquidiocese de campinas - paroquia santo antonio de santana galvao, mitra da arquidiocese de porto alegre - paroquia santo antonio, mitra diocesana de campo mourao - paroquia santo antonio]</td>\n",
       "      <td>[1974, 2152, 4340, 4870, 2002]</td>\n",
       "      <td>[0.9382604956626892, 0.9346387982368469, 0.9143416881561279, 0.8398056626319885, 0.8001774549484253]</td>\n",
       "      <td>False</td>\n",
       "    </tr>\n",
       "    <tr>\n",
       "      <th>135740</th>\n",
       "      <td>fundo municipal do idoso - fundo municipal do idoso</td>\n",
       "      <td>fundo municipal do idoso - fundo municipal do idoso  mara rosa</td>\n",
       "      <td>fundo mun idoso</td>\n",
       "      <td>[fundo municipal do idoso - fundo municipal do idoso  mara rosa, fundo municipal de direitos do idoso - fundo municipal do idoso, fundo municipal de direitos do idoso - fundo municipal do idoso municipio de urucui  pi, fundo municipal de direitos do idoso - fundo idoso de vista gauchars, fundo municipal de direitos do idoso - conselho municipal de direito dos idosos]</td>\n",
       "      <td>[549, 2778, 6062, 6336, 2584]</td>\n",
       "      <td>[0.9446753263473511, 0.9446753263473511, 0.9446751475334167, 0.9398927092552185, 0.9296019077301025]</td>\n",
       "      <td>False</td>\n",
       "    </tr>\n",
       "    <tr>\n",
       "      <th>189549</th>\n",
       "      <td>uniao central brasileira da igreja adventista do setimo dia - iasd hortolandia  central</td>\n",
       "      <td>uniao central brasileira da igreja adventista do setimo dia - iasd hortolandia  jardim nova hortolndia</td>\n",
       "      <td>uniao igreja adventista</td>\n",
       "      <td>[uniao central brasileira da igreja adventista do setimo dia - iasd hortolandia  jardim nova hortolndia, uniao central brasileira da igreja adventista do setimo dia - iasd hortolndia  jardim sumarezinho, uniao central brasileira da igreja adventista do setimo dia - iasd guarulhos  picanco, uniao central brasileira da igreja adventista do setimo dia - iasd votorantim  parque jatai, uniao central brasileira da igreja adventista do setimo dia - iasd lins  jardim santa maia]</td>\n",
       "      <td>[5875, 555, 3645, 1554, 2988]</td>\n",
       "      <td>[0.7586944103240967, 0.7363190650939941, 0.6627833247184753, 0.6402422189712524, 0.6402422189712524]</td>\n",
       "      <td>False</td>\n",
       "    </tr>\n",
       "    <tr>\n",
       "      <th>226898</th>\n",
       "      <td>comercio e industria de sorvetes eskimo ltda - eskimo  atacadao tres riosrj</td>\n",
       "      <td>comercio e industria de sorvetes eskimo ltda - eskimo  atacadao cascavelpr</td>\n",
       "      <td>eskimo sorbete</td>\n",
       "      <td>[comercio e industria de sorvetes eskimo ltda - eskimo  atacadao cascavelpr, comercio e industria de sorvetes eskimo ltda - eskimo  loja de fabrica capao da canoars i zona nova, comercio e industria de sorvetes eskimo ltda - eskimo  loja de fabrica vacariars, comercio e industria de sorvetes eskimo ltda - eskimo  atacadao itusp, comercio e industria de sorvetes eskimo ltda - eskimo  atacadao cachoeiro de itapemirimes]</td>\n",
       "      <td>[191, 712, 4616, 2217, 5407]</td>\n",
       "      <td>[0.7597073912620544, 0.7515630722045898, 0.7515630722045898, 0.7442053556442261, 0.740871787071228]</td>\n",
       "      <td>False</td>\n",
       "    </tr>\n",
       "  </tbody>\n",
       "</table>\n",
       "</div>"
      ],
      "text/plain": [
       "                                                                                   ground_truth  \\\n",
       "291843                                       lre universo das tintas ltda - universo das tintas   \n",
       "33041                               congregacao crista no brasil - congregacao crista no brasil   \n",
       "276422                                instituto educacional de sao paulo ltda - iesp campo belo   \n",
       "171217                               mitra arquidiocesana de sao paulo - paroquia santo antonio   \n",
       "135740                                      fundo municipal do idoso - fundo municipal do idoso   \n",
       "189549  uniao central brasileira da igreja adventista do setimo dia - iasd hortolandia  central   \n",
       "226898              comercio e industria de sorvetes eskimo ltda - eskimo  atacadao tres riosrj   \n",
       "\n",
       "                                                                                                    prediction  \\\n",
       "291843                                                                      lissa z modas ltda - lissa z modas   \n",
       "33041                              congregacao crista no brasil - congregacao crista no brasil de nova olimpia   \n",
       "276422                                                            banco santander brasil sa - campo belo ispsp   \n",
       "171217                                            mitra arquidiocesana de londrina - paroquia de santo antonio   \n",
       "135740                                          fundo municipal do idoso - fundo municipal do idoso  mara rosa   \n",
       "189549  uniao central brasileira da igreja adventista do setimo dia - iasd hortolandia  jardim nova hortolndia   \n",
       "226898                              comercio e industria de sorvetes eskimo ltda - eskimo  atacadao cascavelpr   \n",
       "\n",
       "                       user_input  \\\n",
       "291843            unib das tintas   \n",
       "33041   congregacao brasil crista   \n",
       "276422                 canpo belo   \n",
       "171217                mitra santo   \n",
       "135740            fundo mun idoso   \n",
       "189549    uniao igreja adventista   \n",
       "226898             eskimo sorbete   \n",
       "\n",
       "                                                                                                                                                                                                                                                                                                                                                                                                                                                                                        top_5_names  \\\n",
       "291843                                                                                                                                                                                                                                              [lissa z modas ltda - lissa z modas, veste sa estilo - le lis blanc beaute, lux solis energy ltda - lux solis energy, tarjab incorporadora ltda - edificio estilo saude, sao paulo secretaria da educacao - diretoria de ensino regiao de lins]   \n",
       "33041                                                                                                                                                [congregacao crista no brasil - congregacao crista no brasil de nova olimpia, congregacao crista no brasil - congregacacao crista no brasil, congregacao crista no brasil - congregacao crista no brasil  retiro, congregacao crista no brasil - congregao crista no brasil, congregacao crista no brasil - casa de oracao  mendonca  central]   \n",
       "276422                                                                                [banco santander brasil sa - campo belo ispsp, sociedade educacional iesp  sao paulo ltda - unidade de ensino iesp  colinas do tocantis, bolognesi empreendimentos ltda - cond fazenda esperanca 77  campo belo ii  lt 17 q f1, bolognesi empreendimentos ltda - cond fazenda esperanca 250 campo belo iii lt 06 q g3, bolognesi empreendimentos ltda - cond fazenda esperanca 273 campo belo iii lt 55 q i2]   \n",
       "171217                                                                                                                                                                    [mitra arquidiocesana de londrina - paroquia de santo antonio, mitra diocesana de santo andre - paroquia de santo antonio, arquidiocese de campinas - paroquia santo antonio de santana galvao, mitra da arquidiocese de porto alegre - paroquia santo antonio, mitra diocesana de campo mourao - paroquia santo antonio]   \n",
       "135740                                                                                                            [fundo municipal do idoso - fundo municipal do idoso  mara rosa, fundo municipal de direitos do idoso - fundo municipal do idoso, fundo municipal de direitos do idoso - fundo municipal do idoso municipio de urucui  pi, fundo municipal de direitos do idoso - fundo idoso de vista gauchars, fundo municipal de direitos do idoso - conselho municipal de direito dos idosos]   \n",
       "189549  [uniao central brasileira da igreja adventista do setimo dia - iasd hortolandia  jardim nova hortolndia, uniao central brasileira da igreja adventista do setimo dia - iasd hortolndia  jardim sumarezinho, uniao central brasileira da igreja adventista do setimo dia - iasd guarulhos  picanco, uniao central brasileira da igreja adventista do setimo dia - iasd votorantim  parque jatai, uniao central brasileira da igreja adventista do setimo dia - iasd lins  jardim santa maia]   \n",
       "226898                                                        [comercio e industria de sorvetes eskimo ltda - eskimo  atacadao cascavelpr, comercio e industria de sorvetes eskimo ltda - eskimo  loja de fabrica capao da canoars i zona nova, comercio e industria de sorvetes eskimo ltda - eskimo  loja de fabrica vacariars, comercio e industria de sorvetes eskimo ltda - eskimo  atacadao itusp, comercio e industria de sorvetes eskimo ltda - eskimo  atacadao cachoeiro de itapemirimes]   \n",
       "\n",
       "                         top_5_indices  \\\n",
       "291843  [3158, 3181, 1938, 2610, 3285]   \n",
       "33041   [3409, 4359, 6950, 1811, 4560]   \n",
       "276422     [319, 7149, 186, 215, 1284]   \n",
       "171217  [1974, 2152, 4340, 4870, 2002]   \n",
       "135740   [549, 2778, 6062, 6336, 2584]   \n",
       "189549   [5875, 555, 3645, 1554, 2988]   \n",
       "226898    [191, 712, 4616, 2217, 5407]   \n",
       "\n",
       "                                                                                                   top_5_score  \\\n",
       "291843  [0.4108259081840515, 0.37912145256996155, 0.37427976727485657, 0.3723595142364502, 0.3710743486881256]   \n",
       "33041      [0.956422746181488, 0.9564069509506226, 0.9534821510314941, 0.9419078230857849, 0.9419078230857849]   \n",
       "276422    [0.6804711222648621, 0.6479663848876953, 0.6318061947822571, 0.6318061947822571, 0.6318061947822571]   \n",
       "171217    [0.9382604956626892, 0.9346387982368469, 0.9143416881561279, 0.8398056626319885, 0.8001774549484253]   \n",
       "135740    [0.9446753263473511, 0.9446753263473511, 0.9446751475334167, 0.9398927092552185, 0.9296019077301025]   \n",
       "189549    [0.7586944103240967, 0.7363190650939941, 0.6627833247184753, 0.6402422189712524, 0.6402422189712524]   \n",
       "226898     [0.7597073912620544, 0.7515630722045898, 0.7515630722045898, 0.7442053556442261, 0.740871787071228]   \n",
       "\n",
       "        is_on_top_5  \n",
       "291843        False  \n",
       "33041         False  \n",
       "276422        False  \n",
       "171217        False  \n",
       "135740        False  \n",
       "189549        False  \n",
       "226898        False  "
      ]
     },
     "execution_count": 69,
     "metadata": {},
     "output_type": "execute_result"
    }
   ],
   "source": [
    "show[show.is_on_top_5 == False].head(7)"
   ]
  },
  {
   "cell_type": "markdown",
   "id": "d79e1385-f3c9-46ee-b7cf-3ba64abaf732",
   "metadata": {},
   "source": [
    "### Building Cosine Dataset"
   ]
  },
  {
   "cell_type": "code",
   "execution_count": 70,
   "id": "7720427b-72d4-470a-9bf4-e7a9814ba129",
   "metadata": {},
   "outputs": [
    {
     "data": {
      "text/plain": [
       "(2103, 7)"
      ]
     },
     "execution_count": 70,
     "metadata": {},
     "output_type": "execute_result"
    }
   ],
   "source": [
    "fn = show[show.is_on_top_5 == False]\n",
    "fn.shape"
   ]
  },
  {
   "cell_type": "code",
   "execution_count": 75,
   "id": "3b8259f1-d6c3-4dfc-baea-fbc575a75abc",
   "metadata": {},
   "outputs": [],
   "source": [
    "new_dataset = []\n",
    "for row in fn.iterrows():\n",
    "    for i in range(5):\n",
    "        company_name = row[1].top_5_names[i]\n",
    "        similarity_score = row[1].top_5_score[i]\n",
    "        sample = {\n",
    "            'sentence1':company_name,\n",
    "            'score':similarity_score,\n",
    "            'sentence2': row[1].user_input\n",
    "        }\n",
    "        new_dataset.append(sample)\n",
    "    \n",
    "    new_dataset.append({\n",
    "            'sentence1':row[1].ground_truth,\n",
    "            'score':1.0,\n",
    "            'sentence2': row[1].user_input\n",
    "        })\n",
    "    "
   ]
  },
  {
   "cell_type": "code",
   "execution_count": 76,
   "id": "804789c9-b189-444a-8f0d-3f16ed7f7045",
   "metadata": {},
   "outputs": [
    {
     "data": {
      "text/plain": [
       "(12618, 3)"
      ]
     },
     "execution_count": 76,
     "metadata": {},
     "output_type": "execute_result"
    }
   ],
   "source": [
    "new_frame = pd.DataFrame(new_dataset)\n",
    "new_frame.shape"
   ]
  },
  {
   "cell_type": "code",
   "execution_count": 39,
   "id": "961d74ef-e41c-4b95-8f13-8f15c535de7f",
   "metadata": {},
   "outputs": [
    {
     "data": {
      "text/html": [
       "<div>\n",
       "<style scoped>\n",
       "    .dataframe tbody tr th:only-of-type {\n",
       "        vertical-align: middle;\n",
       "    }\n",
       "\n",
       "    .dataframe tbody tr th {\n",
       "        vertical-align: top;\n",
       "    }\n",
       "\n",
       "    .dataframe thead th {\n",
       "        text-align: right;\n",
       "    }\n",
       "</style>\n",
       "<table border=\"1\" class=\"dataframe\">\n",
       "  <thead>\n",
       "    <tr style=\"text-align: right;\">\n",
       "      <th></th>\n",
       "      <th>sentence1</th>\n",
       "      <th>score</th>\n",
       "      <th>sentence2</th>\n",
       "    </tr>\n",
       "  </thead>\n",
       "  <tbody>\n",
       "    <tr>\n",
       "      <th>0</th>\n",
       "      <td>lissa z modas ltda - lissa z modas</td>\n",
       "      <td>0.410826</td>\n",
       "      <td>unib das tintas</td>\n",
       "    </tr>\n",
       "    <tr>\n",
       "      <th>1</th>\n",
       "      <td>veste sa estilo - le lis blanc beaute</td>\n",
       "      <td>0.379121</td>\n",
       "      <td>unib das tintas</td>\n",
       "    </tr>\n",
       "    <tr>\n",
       "      <th>2</th>\n",
       "      <td>lux solis energy ltda - lux solis energy</td>\n",
       "      <td>0.374280</td>\n",
       "      <td>unib das tintas</td>\n",
       "    </tr>\n",
       "    <tr>\n",
       "      <th>3</th>\n",
       "      <td>tarjab incorporadora ltda - edificio estilo saude</td>\n",
       "      <td>0.372360</td>\n",
       "      <td>unib das tintas</td>\n",
       "    </tr>\n",
       "    <tr>\n",
       "      <th>4</th>\n",
       "      <td>sao paulo secretaria da educacao - diretoria de ensino regiao de lins</td>\n",
       "      <td>0.371074</td>\n",
       "      <td>unib das tintas</td>\n",
       "    </tr>\n",
       "    <tr>\n",
       "      <th>5</th>\n",
       "      <td>lre universo das tintas ltda - universo das tintas</td>\n",
       "      <td>1.000000</td>\n",
       "      <td>unib das tintas</td>\n",
       "    </tr>\n",
       "    <tr>\n",
       "      <th>6</th>\n",
       "      <td>congregacao crista no brasil - congregacao crista no brasil de nova olimpia</td>\n",
       "      <td>0.956423</td>\n",
       "      <td>congregacao brasil crista</td>\n",
       "    </tr>\n",
       "    <tr>\n",
       "      <th>7</th>\n",
       "      <td>congregacao crista no brasil - congregacacao crista no brasil</td>\n",
       "      <td>0.956407</td>\n",
       "      <td>congregacao brasil crista</td>\n",
       "    </tr>\n",
       "    <tr>\n",
       "      <th>8</th>\n",
       "      <td>congregacao crista no brasil - congregacao crista no brasil  retiro</td>\n",
       "      <td>0.953482</td>\n",
       "      <td>congregacao brasil crista</td>\n",
       "    </tr>\n",
       "    <tr>\n",
       "      <th>9</th>\n",
       "      <td>congregacao crista no brasil - congregao crista no brasil</td>\n",
       "      <td>0.941908</td>\n",
       "      <td>congregacao brasil crista</td>\n",
       "    </tr>\n",
       "    <tr>\n",
       "      <th>10</th>\n",
       "      <td>congregacao crista no brasil - casa de oracao  mendonca  central</td>\n",
       "      <td>0.941908</td>\n",
       "      <td>congregacao brasil crista</td>\n",
       "    </tr>\n",
       "    <tr>\n",
       "      <th>11</th>\n",
       "      <td>congregacao crista no brasil - congregacao crista no brasil</td>\n",
       "      <td>1.000000</td>\n",
       "      <td>congregacao brasil crista</td>\n",
       "    </tr>\n",
       "    <tr>\n",
       "      <th>12</th>\n",
       "      <td>banco santander brasil sa - campo belo ispsp</td>\n",
       "      <td>0.680471</td>\n",
       "      <td>canpo belo</td>\n",
       "    </tr>\n",
       "    <tr>\n",
       "      <th>13</th>\n",
       "      <td>sociedade educacional iesp  sao paulo ltda - unidade de ensino iesp  colinas do tocantis</td>\n",
       "      <td>0.647966</td>\n",
       "      <td>canpo belo</td>\n",
       "    </tr>\n",
       "    <tr>\n",
       "      <th>14</th>\n",
       "      <td>bolognesi empreendimentos ltda - cond fazenda esperanca 77  campo belo ii  lt 17 q f1</td>\n",
       "      <td>0.631806</td>\n",
       "      <td>canpo belo</td>\n",
       "    </tr>\n",
       "  </tbody>\n",
       "</table>\n",
       "</div>"
      ],
      "text/plain": [
       "                                                                                   sentence1  \\\n",
       "0                                                         lissa z modas ltda - lissa z modas   \n",
       "1                                                      veste sa estilo - le lis blanc beaute   \n",
       "2                                                   lux solis energy ltda - lux solis energy   \n",
       "3                                          tarjab incorporadora ltda - edificio estilo saude   \n",
       "4                      sao paulo secretaria da educacao - diretoria de ensino regiao de lins   \n",
       "5                                         lre universo das tintas ltda - universo das tintas   \n",
       "6                congregacao crista no brasil - congregacao crista no brasil de nova olimpia   \n",
       "7                              congregacao crista no brasil - congregacacao crista no brasil   \n",
       "8                        congregacao crista no brasil - congregacao crista no brasil  retiro   \n",
       "9                                  congregacao crista no brasil - congregao crista no brasil   \n",
       "10                          congregacao crista no brasil - casa de oracao  mendonca  central   \n",
       "11                               congregacao crista no brasil - congregacao crista no brasil   \n",
       "12                                              banco santander brasil sa - campo belo ispsp   \n",
       "13  sociedade educacional iesp  sao paulo ltda - unidade de ensino iesp  colinas do tocantis   \n",
       "14     bolognesi empreendimentos ltda - cond fazenda esperanca 77  campo belo ii  lt 17 q f1   \n",
       "\n",
       "       score                  sentence2  \n",
       "0   0.410826            unib das tintas  \n",
       "1   0.379121            unib das tintas  \n",
       "2   0.374280            unib das tintas  \n",
       "3   0.372360            unib das tintas  \n",
       "4   0.371074            unib das tintas  \n",
       "5   1.000000            unib das tintas  \n",
       "6   0.956423  congregacao brasil crista  \n",
       "7   0.956407  congregacao brasil crista  \n",
       "8   0.953482  congregacao brasil crista  \n",
       "9   0.941908  congregacao brasil crista  \n",
       "10  0.941908  congregacao brasil crista  \n",
       "11  1.000000  congregacao brasil crista  \n",
       "12  0.680471                 canpo belo  \n",
       "13  0.647966                 canpo belo  \n",
       "14  0.631806                 canpo belo  "
      ]
     },
     "execution_count": 39,
     "metadata": {},
     "output_type": "execute_result"
    }
   ],
   "source": [
    "# new_frame.to_csv('../dados/preprocessed_train_v1_cosine_similarity_score.csv', index=False)\n",
    "# new_frame = pd.read_csv('../dados/preprocessed_train_v1_cosine_similarity_score.csv')\n",
    "\n",
    "new_frame.head(15)"
   ]
  },
  {
   "cell_type": "markdown",
   "id": "fa2edf53-cc7f-47ba-a5bf-292ad7f745d1",
   "metadata": {},
   "source": [
    "### Cosine Loss After MultipleNegativesRanking Loss"
   ]
  },
  {
   "cell_type": "code",
   "execution_count": 52,
   "id": "7a333a1c-926d-4166-b0f6-6c270664322b",
   "metadata": {},
   "outputs": [
    {
     "data": {
      "application/vnd.jupyter.widget-view+json": {
       "model_id": "94861d0575994faa993144be0b9257c9",
       "version_major": 2,
       "version_minor": 0
      },
      "text/plain": [
       "Generating train split: 0 examples [00:00, ? examples/s]"
      ]
     },
     "metadata": {},
     "output_type": "display_data"
    }
   ],
   "source": [
    "file_dict = {\n",
    "  \"train\" : \"../dados/preprocessed_train_v1_cosine_similarity_score.csv\",\n",
    "}\n",
    "\n",
    "data = load_dataset(\n",
    "  'csv',\n",
    "  data_files=file_dict,\n",
    "  delimiter=',',\n",
    "  column_names=['sentence1', 'score', 'sentence2'],\n",
    "  skiprows=1\n",
    ")\n",
    "\n",
    "train_dataset = data[\"train\"].select(range(10000))\n",
    "eval_dataset = data[\"train\"].select(range(1000, 12618))"
   ]
  },
  {
   "cell_type": "code",
   "execution_count": 55,
   "id": "68537b93-0c12-451b-9c12-8cebd412c95c",
   "metadata": {},
   "outputs": [
    {
     "data": {
      "text/plain": [
       "Dataset({\n",
       "    features: ['sentence1', 'score', 'sentence2'],\n",
       "    num_rows: 10000\n",
       "})"
      ]
     },
     "execution_count": 55,
     "metadata": {},
     "output_type": "execute_result"
    }
   ],
   "source": [
    "train_dataset"
   ]
  },
  {
   "cell_type": "code",
   "execution_count": 56,
   "id": "356be9f9-4c6c-4344-8709-e6d9af89f273",
   "metadata": {},
   "outputs": [
    {
     "name": "stderr",
     "output_type": "stream",
     "text": [
      "Currently using DataParallel (DP) for multi-gpu training, while DistributedDataParallel (DDP) is recommended for faster training. See https://sbert.net/docs/sentence_transformer/training/distributed.html for more information.\n"
     ]
    },
    {
     "data": {
      "application/vnd.jupyter.widget-view+json": {
       "model_id": "bc584bf309774bc6a932d1474b1a381d",
       "version_major": 2,
       "version_minor": 0
      },
      "text/plain": [
       "Computing widget examples:   0%|          | 0/1 [00:00<?, ?example/s]"
      ]
     },
     "metadata": {},
     "output_type": "display_data"
    },
    {
     "data": {
      "text/html": [
       "\n",
       "    <div>\n",
       "      \n",
       "      <progress value='628' max='628' style='width:300px; height:20px; vertical-align: middle;'></progress>\n",
       "      [628/628 10:47, Epoch 4/4]\n",
       "    </div>\n",
       "    <table border=\"1\" class=\"dataframe\">\n",
       "  <thead>\n",
       " <tr style=\"text-align: left;\">\n",
       "      <th>Step</th>\n",
       "      <th>Training Loss</th>\n",
       "    </tr>\n",
       "  </thead>\n",
       "  <tbody>\n",
       "    <tr>\n",
       "      <td>500</td>\n",
       "      <td>0.023600</td>\n",
       "    </tr>\n",
       "  </tbody>\n",
       "</table><p>"
      ],
      "text/plain": [
       "<IPython.core.display.HTML object>"
      ]
     },
     "metadata": {},
     "output_type": "display_data"
    },
    {
     "data": {
      "text/plain": [
       "TrainOutput(global_step=628, training_loss=0.02217180334079038, metrics={'train_runtime': 648.5673, 'train_samples_per_second': 61.674, 'train_steps_per_second': 0.968, 'total_flos': 0.0, 'train_loss': 0.02217180334079038, 'epoch': 4.0})"
      ]
     },
     "execution_count": 56,
     "metadata": {},
     "output_type": "execute_result"
    }
   ],
   "source": [
    "model = SentenceTransformer('./models/google-bert-MultipleNegativesRanking-loss/checkpoint-1900')\n",
    "loss = losses.CosineSimilarityLoss(model)\n",
    "\n",
    "args = SentenceTransformerTrainingArguments(\n",
    "    # Required parameter:\n",
    "    output_dir=\"models/google-bert-MultipleNegativesRanking--CosineSimilarity-loss\",\n",
    "    num_train_epochs=4,\n",
    "    batch_sampler=BatchSamplers.NO_DUPLICATES,  # MultipleNegativesRankingLoss benefits from no duplicates\n",
    ")\n",
    "\n",
    "trainer = SentenceTransformerTrainer(\n",
    "    args=args,\n",
    "    model=model,\n",
    "    train_dataset=train_dataset,\n",
    "    eval_dataset=eval_dataset,\n",
    "    loss=loss,\n",
    ")\n",
    "trainer.train()"
   ]
  },
  {
   "cell_type": "code",
   "execution_count": 60,
   "id": "7df35427-9ea5-43c3-b5a4-6e6aa14009e2",
   "metadata": {},
   "outputs": [
    {
     "name": "stdout",
     "output_type": "stream",
     "text": [
      "Precision TOP 1:: 0.812236102107679\n"
     ]
    }
   ],
   "source": [
    "model = SentenceTransformer('./models/google-bert-MultipleNegativesRanking--CosineSimilarity-loss/checkpoint-628')\n",
    "\n",
    "test_stage = test.copy()\n",
    "test_stage['legal_company_name'] = test_stage['razaosocial'] + ' - ' + test_stage['nome_fantasia']\n",
    "\n",
    "companies_embeddings = get_embeddings(model, test_stage.legal_company_name.tolist())\n",
    "user_input_embeddngs = get_embeddings(model, test_stage.user_input.tolist())\n",
    "\n",
    "similarity, top1, (top_5_idx, top_5_values) = get_similarity(companies_embeddings, user_input_embeddngs)\n",
    "\n",
    "ground_truth = test_stage['legal_company_name'].to_list()\n",
    "preds = test_stage.legal_company_name.iloc[top1.cpu()].to_list()\n",
    "\n",
    "predicted_precision = np.array(ground_truth) == np.array(preds)\n",
    "\n",
    "print(f'Precision TOP 1:: {predicted_precision.mean()}')"
   ]
  },
  {
   "cell_type": "code",
   "execution_count": 66,
   "id": "9d8bceaf-0c28-4357-8da7-5c3925e462dc",
   "metadata": {},
   "outputs": [
    {
     "name": "stdout",
     "output_type": "stream",
     "text": [
      "Precision TOP 1:: 0.47075208913649025\n"
     ]
    }
   ],
   "source": [
    "test_stage = test_stage = pd.read_parquet('../dados/preprocessed_test_v1.parquet')\n",
    "\n",
    "test_stage['legal_company_name'] = test_stage['razaosocial'] + ' - ' + test_stage['nome_fantasia']\n",
    "\n",
    "companies_embeddings = get_embeddings(model, test_stage.legal_company_name.tolist())\n",
    "user_input_embeddngs = get_embeddings(model, test_stage.user_input.tolist())\n",
    "\n",
    "similarity, top1, (top_5_idx, top_5_values) = get_similarity(companies_embeddings, user_input_embeddngs)\n",
    "\n",
    "ground_truth = test_stage['legal_company_name'].to_list()\n",
    "preds = test_stage.legal_company_name.iloc[top1.cpu()].to_list()\n",
    "\n",
    "predicted_precision = np.array(ground_truth) == np.array(preds)\n",
    "\n",
    "print(f'Precision TOP 1:: {predicted_precision.mean()}')"
   ]
  },
  {
   "cell_type": "code",
   "execution_count": 67,
   "id": "222576a1-0e84-4b7b-b20b-5602e3ad5dab",
   "metadata": {},
   "outputs": [
    {
     "name": "stdout",
     "output_type": "stream",
     "text": [
      "Precision TOP 5:: 0.6537604456824513\n"
     ]
    }
   ],
   "source": [
    "top_5_names = [test_stage.legal_company_name.iloc[idx].to_list() for idx in np.array(top_5_idx)]\n",
    "top_5_names\n",
    "\n",
    "top_5_precision = [True if gt in top_names else False for top_names, gt in zip(top_5_names, test_stage.legal_company_name.tolist())]\n",
    "print(f'Precision TOP 5:: {np.array(top_5_precision).mean()}')\n",
    "\n",
    "to_print = pd.DataFrame({\n",
    "    'ground_truth':ground_truth,\n",
    "    'prediction':preds,\n",
    "    'user_input':test_stage.user_input,\n",
    "    'top_5_names': top_5_names,\n",
    "    'top_5_indices': np.array(top_5_idx).tolist(),\n",
    "    'top_5_score':np.array(top_5_values).tolist(),\n",
    "    'is_on_top_5':top_5_precision\n",
    "})"
   ]
  },
  {
   "cell_type": "code",
   "execution_count": 69,
   "id": "9c2f2f59-5716-4194-8a57-c3734c6ddbbf",
   "metadata": {},
   "outputs": [
    {
     "data": {
      "text/html": [
       "<div>\n",
       "<style scoped>\n",
       "    .dataframe tbody tr th:only-of-type {\n",
       "        vertical-align: middle;\n",
       "    }\n",
       "\n",
       "    .dataframe tbody tr th {\n",
       "        vertical-align: top;\n",
       "    }\n",
       "\n",
       "    .dataframe thead th {\n",
       "        text-align: right;\n",
       "    }\n",
       "</style>\n",
       "<table border=\"1\" class=\"dataframe\">\n",
       "  <thead>\n",
       "    <tr style=\"text-align: right;\">\n",
       "      <th></th>\n",
       "      <th>ground_truth</th>\n",
       "      <th>prediction</th>\n",
       "      <th>user_input</th>\n",
       "      <th>top_5_names</th>\n",
       "      <th>top_5_indices</th>\n",
       "      <th>top_5_score</th>\n",
       "      <th>is_on_top_5</th>\n",
       "    </tr>\n",
       "  </thead>\n",
       "  <tbody>\n",
       "    <tr>\n",
       "      <th>251682</th>\n",
       "      <td>caixa de assistencia dos advogados de sao paulo - caaspshop</td>\n",
       "      <td>caixa de assistencia dos advogados de sao paulo - caasp sorocaba</td>\n",
       "      <td>caixa assistencia</td>\n",
       "      <td>[caixa de assistencia dos advogados de sao paulo - caasp sorocaba, caixa de assistencia dos advogados de sao paulo - caasp barueri, caixa de assistencia dos advogados de sao paulo - caasp braganca paulista, banco safra s a - agencia caxias do sul, caixa de assistencia dos advogados de sao paulo - caasp jabaquara]</td>\n",
       "      <td>[1159, 2950, 5168, 1521, 3320]</td>\n",
       "      <td>[0.85704505443573, 0.8470551371574402, 0.8006576895713806, 0.7936556935310364, 0.7915828824043274]</td>\n",
       "      <td>False</td>\n",
       "    </tr>\n",
       "    <tr>\n",
       "      <th>52096</th>\n",
       "      <td>companhia de saneamento basico do estado de sao paulo  sabesp - sabesp</td>\n",
       "      <td>companhia de saneamento basico do estado de sao paulo  sabesp - cia de saneamento basico do estado de sao paulosabesp</td>\n",
       "      <td>sabesp</td>\n",
       "      <td>[companhia de saneamento basico do estado de sao paulo  sabesp - cia de saneamento basico do estado de sao paulosabesp, fundo municipal de saneamento basico  fmsb - fundo municipal de saneamento basico, fundo municipal de saneamento basico  fmsb - fmsb, companhia de saneamento basico do estado de sao paulo  sabesp - est unif, fundo municipal de saneamento basico  fmsb - fundo municipal de saneamento basico  fmsb]</td>\n",
       "      <td>[5451, 3578, 1387, 3239, 865]</td>\n",
       "      <td>[0.8331656455993652, 0.832381546497345, 0.8323813080787659, 0.8323813080787659, 0.7785709500312805]</td>\n",
       "      <td>False</td>\n",
       "    </tr>\n",
       "    <tr>\n",
       "      <th>189549</th>\n",
       "      <td>uniao central brasileira da igreja adventista do setimo dia - iasd hortolandia  central</td>\n",
       "      <td>uniao central brasileira da igreja adventista do setimo dia - iasd hortolandia  jardim nova hortolndia</td>\n",
       "      <td>uniao igreja adventista</td>\n",
       "      <td>[uniao central brasileira da igreja adventista do setimo dia - iasd hortolandia  jardim nova hortolndia, uniao central brasileira da igreja adventista do setimo dia - iasd hortolndia  jardim sumarezinho, uniao central brasileira da igreja adventista do setimo dia - iasd guarulhos  picanco, ordem dos advogados do brasil  seccao de sao paulo - subseccao de hortolandia, uniao central brasileira da igreja adventista do setimo dia - iasd sao paulo  vila nova cachoeirinha]</td>\n",
       "      <td>[5875, 555, 3645, 6981, 1731]</td>\n",
       "      <td>[0.8443944454193115, 0.8288263082504272, 0.7999941110610962, 0.7898961901664734, 0.788623034954071]</td>\n",
       "      <td>False</td>\n",
       "    </tr>\n",
       "    <tr>\n",
       "      <th>226898</th>\n",
       "      <td>comercio e industria de sorvetes eskimo ltda - eskimo  atacadao tres riosrj</td>\n",
       "      <td>comercio e industria de sorvetes eskimo ltda - eskimo  loja de fabrica capao da canoars i zona nova</td>\n",
       "      <td>eskimo sorbete</td>\n",
       "      <td>[comercio e industria de sorvetes eskimo ltda - eskimo  loja de fabrica capao da canoars i zona nova, comercio e industria de sorvetes eskimo ltda - eskimo  loja de fabrica vacariars, comercio e industria de sorvetes eskimo ltda - eskimo  loja de fabrica osoriors, comercio e industria de sorvetes eskimo ltda - eskimo  loja de fabrica uberabamg, comercio e industria de sorvetes eskimo ltda - eskimo  atacadao belo horizontemg]</td>\n",
       "      <td>[712, 4616, 2700, 3702, 6779]</td>\n",
       "      <td>[0.8923221230506897, 0.8923221230506897, 0.885158121585846, 0.885158121585846, 0.8699141144752502]</td>\n",
       "      <td>False</td>\n",
       "    </tr>\n",
       "    <tr>\n",
       "      <th>119843</th>\n",
       "      <td>banco bradesco sa - bradesco ag parintins est unif</td>\n",
       "      <td>banco bradesco sa - bradesco est unif</td>\n",
       "      <td>bradesco ag.</td>\n",
       "      <td>[banco bradesco sa - bradesco est unif, banco bradesco sa - bradesco ag amparo est unif, banco bradesco sa - bradesco ag ribas do rio pardo est unif, banco bradesco sa - bradesco ag rio das pedras est unif, banco bradesco sa - bradesco ag carlos prates est unif]</td>\n",
       "      <td>[2435, 5920, 2188, 875, 3817]</td>\n",
       "      <td>[0.797735333442688, 0.7638952732086182, 0.7513529658317566, 0.7513529062271118, 0.7513529062271118]</td>\n",
       "      <td>False</td>\n",
       "    </tr>\n",
       "    <tr>\n",
       "      <th>237564</th>\n",
       "      <td>mitra diocesana de jales - comunidade santo antonio</td>\n",
       "      <td>mitra arquidiocesana de sao paulo - paroquia santo antonio</td>\n",
       "      <td>mitra jales</td>\n",
       "      <td>[mitra arquidiocesana de sao paulo - paroquia santo antonio, igreja evangelica assembleia de deus - santo antonio, arquidiocese de campinas - paroquia santo antonio de santana galvao, mitra diocesana de santo andre - paroquia de santo antonio, mitra arquidiocesana de londrina - paroquia de santo antonio]</td>\n",
       "      <td>[22, 1897, 4340, 2152, 1974]</td>\n",
       "      <td>[0.8691129684448242, 0.8568049669265747, 0.8480963706970215, 0.8477033972740173, 0.8442274928092957]</td>\n",
       "      <td>False</td>\n",
       "    </tr>\n",
       "    <tr>\n",
       "      <th>154764</th>\n",
       "      <td>congregacao crista no brasil - casa de oracao parque santa edwiges</td>\n",
       "      <td>allpark empreendimentos participacoes e servicos sa - hosp sta casa valinhos</td>\n",
       "      <td>parke oracao</td>\n",
       "      <td>[allpark empreendimentos participacoes e servicos sa - hosp sta casa valinhos, irmandade santa casa de misericordia de maringa - santa casa de maringa  hospital e mat m auxiliadora, bispado de rio preto - paroquia santa edwiges, cooperativa de credito poupanca e investimento das regioes centro do rs e mg  sicredi regiao centro rsmg - unidade de atendimento santa luzia, congregacao crista no brasil - casa de oracao santa isabel]</td>\n",
       "      <td>[4329, 6934, 2596, 2692, 2370]</td>\n",
       "      <td>[0.8388594388961792, 0.8248725533485413, 0.8194479942321777, 0.7831618189811707, 0.7792589068412781]</td>\n",
       "      <td>False</td>\n",
       "    </tr>\n",
       "    <tr>\n",
       "      <th>176173</th>\n",
       "      <td>igreja evangelica assembleia de deus - igreja evangelica assembleia de deusvila sao miguel</td>\n",
       "      <td>igreja evangelica assembleia de deus - cerquilho</td>\n",
       "      <td>igreja evangelica assembleia</td>\n",
       "      <td>[igreja evangelica assembleia de deus - cerquilho, igreja evangelica assembleia de deus - waldemar hauer, igreja evangelica assembleia de deus - igreja evangelica assembleia, igreja evangelica assembleia de deus - balsamo, igreja evangelica assembleia de deus - ieaderp  joquei clube]</td>\n",
       "      <td>[241, 493, 3943, 5781, 6502]</td>\n",
       "      <td>[0.8975933194160461, 0.8975933194160461, 0.8975933194160461, 0.8975932598114014, 0.8975932598114014]</td>\n",
       "      <td>False</td>\n",
       "    </tr>\n",
       "    <tr>\n",
       "      <th>207800</th>\n",
       "      <td>drogal farmaceutica ltda - drogal taquarituba</td>\n",
       "      <td>drogal farmaceutica ltda - drogal casa branca ii</td>\n",
       "      <td>drogal farmaceutica</td>\n",
       "      <td>[drogal farmaceutica ltda - drogal casa branca ii, drogal farmaceutica ltda - drogal laranjal paulista, drogal farmaceutica ltda - drogal agudos, drogal farmaceutica ltda - drogal cabreuva, drogal farmaceutica ltda - drogal ribeirao preto viii]</td>\n",
       "      <td>[3969, 804, 828, 1539, 1944]</td>\n",
       "      <td>[0.766386866569519, 0.7539625763893127, 0.7539625763893127, 0.7539625763893127, 0.7539625763893127]</td>\n",
       "      <td>False</td>\n",
       "    </tr>\n",
       "    <tr>\n",
       "      <th>158783</th>\n",
       "      <td>allpark empreendimentos participacoes e servicos sa - allpark empreendimentos participacoes e servicos ltda</td>\n",
       "      <td>allpark empreendimentos participacoes e servicos sa - ed com merit office  mall</td>\n",
       "      <td>al park empreendimentos</td>\n",
       "      <td>[allpark empreendimentos participacoes e servicos sa - ed com merit office  mall, allpark empreendimentos participacoes e servicos sa - ed com torre sul, allpark empreendimentos participacoes e servicos sa - shop west plaza, allpark empreendimentos participacoes e servicos sa - allpark empreendimentos participacoes e servicos, allpark empreendimentos participacoes e servicos sa - inst en uniceplac]</td>\n",
       "      <td>[2857, 2235, 4039, 1194, 5160]</td>\n",
       "      <td>[0.9587953686714172, 0.9532070755958557, 0.9532070755958557, 0.9532069563865662, 0.9520962238311768]</td>\n",
       "      <td>False</td>\n",
       "    </tr>\n",
       "    <tr>\n",
       "      <th>132281</th>\n",
       "      <td>banco bradesco sa - bradesco pa avenida adolfo pinheiro  urb sao paulo sp</td>\n",
       "      <td>banco bradesco sa - bradesco pa avenida itavuvu  urb sorocaba sp</td>\n",
       "      <td>bradesco</td>\n",
       "      <td>[banco bradesco sa - bradesco pa avenida itavuvu  urb sorocaba sp, banco bradesco sa - bradesco pa avenida do forte  urb porto alegre rs, banco bradesco sa - bradesco pa avenida paschoal ardito  urb americana sp, banco bradesco sa - bradesco pa  avenida liberdade  urb viamao rs, banco bradesco sa - bradesco ag avenida braz leme]</td>\n",
       "      <td>[3244, 5136, 1577, 4077, 3424]</td>\n",
       "      <td>[0.8790419697761536, 0.8790419697761536, 0.876437246799469, 0.876437246799469, 0.8764371871948242]</td>\n",
       "      <td>False</td>\n",
       "    </tr>\n",
       "    <tr>\n",
       "      <th>228115</th>\n",
       "      <td>supermercado hirota ltda - hirota food express  loja 15</td>\n",
       "      <td>bolognesi empreendimentos ltda - cond fazenda esperanca 75  campo belo ii  lt 15 q f1</td>\n",
       "      <td>hirota fod expres</td>\n",
       "      <td>[bolognesi empreendimentos ltda - cond fazenda esperanca 75  campo belo ii  lt 15 q f1, bolognesi empreendimentos ltda - cond fazenda esperanca 359  campo belo 4  lt 15 q j1, banco bradesco sa - bradesco ag praca 14 de janeiro, supermercado hirota ltda - hirota supermercados  loja 08, supermercado hirota ltda - hirota express em casa cond resid dez anhaia mello]</td>\n",
       "      <td>[1033, 2571, 1602, 5284, 4370]</td>\n",
       "      <td>[0.7435967326164246, 0.7392190098762512, 0.7190993428230286, 0.6756484508514404, 0.6701688170433044]</td>\n",
       "      <td>False</td>\n",
       "    </tr>\n",
       "    <tr>\n",
       "      <th>232063</th>\n",
       "      <td>fundo municipal do meio ambiente - fundo municipal do meio ambiente  fmma</td>\n",
       "      <td>fundo municipal do meio ambiente - fmma</td>\n",
       "      <td>meio anbiente</td>\n",
       "      <td>[fundo municipal do meio ambiente - fmma, fundo municipal do meio ambiente  fmma - fmma, fundo municipal de meio ambiente - fundo municipal de meio ambiente  fmma, fundo municipal do meio ambiente  fmma - fmma de vera, fundo municipal de meio ambiente - fmme]</td>\n",
       "      <td>[1290, 566, 3406, 2304, 1862]</td>\n",
       "      <td>[0.9503999948501587, 0.9423304796218872, 0.9362497925758362, 0.9230492115020752, 0.9167177677154541]</td>\n",
       "      <td>False</td>\n",
       "    </tr>\n",
       "    <tr>\n",
       "      <th>249169</th>\n",
       "      <td>mitra diocesana de sao carlos - paroquia sao nicolau de flue</td>\n",
       "      <td>mitra diocesana de sao carlos - paroquia de sao sebastiao</td>\n",
       "      <td>mitra diocesana</td>\n",
       "      <td>[mitra diocesana de sao carlos - paroquia de sao sebastiao, mitra diocesana de sao miguel paulista - paroquia nossa senhora do caminho, mitra diocesana de sao carlos - paroquia de sao judas tadeu, mitra diocesana de sao carlos - paroquia do divino espirito santo, mitra arquidiocesana de sao paulo - paroquia sao miguel arcanjo]</td>\n",
       "      <td>[1103, 3874, 57, 3278, 4391]</td>\n",
       "      <td>[0.830600380897522, 0.7942572236061096, 0.7936580181121826, 0.7936580181121826, 0.7882480025291443]</td>\n",
       "      <td>False</td>\n",
       "    </tr>\n",
       "    <tr>\n",
       "      <th>105095</th>\n",
       "      <td>comercio de medicamentos brair ltda - farmacias sao joao</td>\n",
       "      <td>comercio de medicamentos brair ltda - sao joao farmacia</td>\n",
       "      <td>farmasia são joão</td>\n",
       "      <td>[comercio de medicamentos brair ltda - sao joao farmacia, comercio de medicamentos brair ltda - farmacias melhor preco, comercio de medicamentos brair ltda - sao joao farmacias, farmacia e drogaria nissei sa - farmacias nissei, comercio de medicamentos brair ltda - sao joao farmaciais]</td>\n",
       "      <td>[5676, 1864, 20, 4231, 5763]</td>\n",
       "      <td>[0.8775720596313477, 0.858375608921051, 0.8467568159103394, 0.8232858777046204, 0.8169785737991333]</td>\n",
       "      <td>False</td>\n",
       "    </tr>\n",
       "    <tr>\n",
       "      <th>296524</th>\n",
       "      <td>andrea carvalho de macedo - qualytech const e assesso tec em seg alimt e dietetica</td>\n",
       "      <td>banco bradesco sa - bradesco pa serrano do maranhao ma</td>\n",
       "      <td>kalytex seguranca</td>\n",
       "      <td>[banco bradesco sa - bradesco pa serrano do maranhao ma, j costa e ribeiro administracao e participacoes sa - estacionamento brigadeirotobias, instituto hoc de hemoterapia ltda - escritorio administrativo, karabet bagdasaryan  cia ltda - o boticario, igreja evangelica assembleia de deus - conjunto habit maria cecilia serrano de oliveira]</td>\n",
       "      <td>[3994, 5876, 2061, 1436, 4314]</td>\n",
       "      <td>[0.7507646679878235, 0.7480445504188538, 0.7458316087722778, 0.7447436451911926, 0.7383145689964294]</td>\n",
       "      <td>False</td>\n",
       "    </tr>\n",
       "    <tr>\n",
       "      <th>287629</th>\n",
       "      <td>ministerio familia de cristo na terra  ministerio familia - ministerio familia</td>\n",
       "      <td>mitra da arquidiocese de curitiba - paroquia sagrada familia</td>\n",
       "      <td>ministerio</td>\n",
       "      <td>[mitra da arquidiocese de curitiba - paroquia sagrada familia, mitra arquidiocesana de sao paulo - paroquia sagrada familia, fundacao centro de atendimento socioeducativo ao adolescente  fundacao casa  sp - casa paulista  casa nova vida, hapvida assistencia medica sa - hospital geral padre cicero, arquidiocese de ribeirao preto - casa de retiros dom luiz do amaral mousinho]</td>\n",
       "      <td>[2715, 923, 6834, 2430, 6067]</td>\n",
       "      <td>[0.7815076112747192, 0.6927860975265503, 0.6784040331840515, 0.6702303290367126, 0.6682338714599609]</td>\n",
       "      <td>False</td>\n",
       "    </tr>\n",
       "    <tr>\n",
       "      <th>97441</th>\n",
       "      <td>diagnosticos da america sa - cerpe</td>\n",
       "      <td>diagnosticos da america sa - ghanem laboratorio e saude</td>\n",
       "      <td>serpe america</td>\n",
       "      <td>[diagnosticos da america sa - ghanem laboratorio e saude, diagnosticos da america sa - vitalamina medicina diagnostica, diagnosticos da america sa - lavoisier, diagnosticos da america sa - laboratorio santa luzia, diagnosticos da america sa - delboni auriemo sa]</td>\n",
       "      <td>[2730, 3661, 1163, 4706, 6836]</td>\n",
       "      <td>[0.8805738091468811, 0.8805736899375916, 0.8708702325820923, 0.8708702325820923, 0.870870053768158]</td>\n",
       "      <td>False</td>\n",
       "    </tr>\n",
       "    <tr>\n",
       "      <th>158112</th>\n",
       "      <td>fundo municipal de cultura - fundo municipal de cultura</td>\n",
       "      <td>fundo municipal de cultura  fmc - fundo municipal de cultura  fmc  batalha</td>\n",
       "      <td>fundo muni</td>\n",
       "      <td>[fundo municipal de cultura  fmc - fundo municipal de cultura  fmc  batalha, fundo municipal de cultura  fmc - fmc  fundo municipal de cultura, fundo municipal de cultura - fmc, fundo municipal de cultura - fundocult, fundo municipal de cultura  fmc - fmc  reboucas]</td>\n",
       "      <td>[4817, 6637, 472, 4712, 2298]</td>\n",
       "      <td>[0.9848413467407227, 0.9589112997055054, 0.9587477445602417, 0.9587477445602417, 0.9578866362571716]</td>\n",
       "      <td>False</td>\n",
       "    </tr>\n",
       "    <tr>\n",
       "      <th>238766</th>\n",
       "      <td>spdm  associacao paulista para o desenvolvimento da medicina - faculdade cearense de ciencias da saude</td>\n",
       "      <td>spdm  associacao paulista para o desenvolvimento da medicina - cei estrelinha</td>\n",
       "      <td>faculdade c. saude</td>\n",
       "      <td>[spdm  associacao paulista para o desenvolvimento da medicina - cei estrelinha, spdm  associacao paulista para o desenvolvimento da medicina - spdmsaude indigena para, spdm  associacao paulista para o desenvolvimento da medicina - spdm  pais  ap32, spdm  associacao paulista para o desenvolvimento da medicina - spdm  pais  servicos de saude diadema, spdm  associacao paulista para o desenvolvimento da medicina - cei conv nova luz]</td>\n",
       "      <td>[1265, 1872, 3104, 6281, 4374]</td>\n",
       "      <td>[0.8269393444061279, 0.7980053424835205, 0.7878081202507019, 0.782374382019043, 0.7353476285934448]</td>\n",
       "      <td>False</td>\n",
       "    </tr>\n",
       "    <tr>\n",
       "      <th>131793</th>\n",
       "      <td>banco bradesco sa - ag palmeira dos indios</td>\n",
       "      <td>banco bradesco sa - bradesco pa cachoeira dos indios pb</td>\n",
       "      <td>bradesco ag</td>\n",
       "      <td>[banco bradesco sa - bradesco pa cachoeira dos indios pb, banco bradesco sa - bradesco paa aguiar pb, banco bradesco sa - bradesco ag porto alegre est unif, banco bradesco sa - bradesco ag itaquaquecetubacentro est unif, banco bradesco sa - bradesco ag rua antonio de barros]</td>\n",
       "      <td>[2349, 6963, 1806, 3343, 3565]</td>\n",
       "      <td>[0.7761434316635132, 0.7709488868713379, 0.7344779968261719, 0.7344779968261719, 0.7344779968261719]</td>\n",
       "      <td>False</td>\n",
       "    </tr>\n",
       "    <tr>\n",
       "      <th>269633</th>\n",
       "      <td>davo supermercados ltda - auto posto poupaki guarulhos</td>\n",
       "      <td>via brasil fashion comercio de roupas ltda - polo wear outlet guarulhos</td>\n",
       "      <td>davo posto</td>\n",
       "      <td>[via brasil fashion comercio de roupas ltda - polo wear outlet guarulhos, jjc assessoria e intermediacao de negocios ltda  scp - scp  the valehoso partnership, via brasil fashion comercio de roupas ltda - polo wear tambore, silvano autocar ltda - silva autocar ltda, banco santander brasil sa - pa shop int guarulhossp i]</td>\n",
       "      <td>[5747, 5856, 1844, 1339, 3853]</td>\n",
       "      <td>[0.7789009213447571, 0.7476000785827637, 0.7452154755592346, 0.7447847723960876, 0.7389079928398132]</td>\n",
       "      <td>False</td>\n",
       "    </tr>\n",
       "    <tr>\n",
       "      <th>173632</th>\n",
       "      <td>sapore sa - fleury</td>\n",
       "      <td>fleury sa - fleury sa</td>\n",
       "      <td>sapore</td>\n",
       "      <td>[fleury sa - fleury sa, fleury sa - fleury medicina e saude, fleury sa - clinica luiz felippe mattoso, fleury sa - cip, sapore sa - cr 4652]</td>\n",
       "      <td>[950, 410, 2324, 3602, 935]</td>\n",
       "      <td>[0.9695499539375305, 0.931007444858551, 0.8968227505683899, 0.8940073847770691, 0.8349003195762634]</td>\n",
       "      <td>False</td>\n",
       "    </tr>\n",
       "    <tr>\n",
       "      <th>144344</th>\n",
       "      <td>banco santander brasil sa - select vila olimpia</td>\n",
       "      <td>banco santander brasil sa - vila olimpiasp ii</td>\n",
       "      <td>select</td>\n",
       "      <td>[banco santander brasil sa - vila olimpiasp ii, banco santander brasil sa - select pres prudente, banco santander brasil sa - pa sao carlos sp ii, banco santander brasil sa - jd paulistanosp ii, banco santander brasil sa - fco politospsp]</td>\n",
       "      <td>[920, 2376, 2263, 4082, 4088]</td>\n",
       "      <td>[0.9246834516525269, 0.847815752029419, 0.8138444423675537, 0.8138444423675537, 0.8138444423675537]</td>\n",
       "      <td>False</td>\n",
       "    </tr>\n",
       "    <tr>\n",
       "      <th>130328</th>\n",
       "      <td>banco bradesco sa - bradesco ag centro empresarial mario henrique simonsen</td>\n",
       "      <td>allpark empreendimentos participacoes e servicos sa - centro empresarial vergueiro</td>\n",
       "      <td>banco bradesco</td>\n",
       "      <td>[allpark empreendimentos participacoes e servicos sa - centro empresarial vergueiro, j costa e ribeiro administracao e participacoes sa - estacionamento brigadeirotobias, banco santander brasil sa - henrique schaumannsp vi, banco bradesco sa - bradesco ag lauro de freitas  centro, banco bradesco sa - bradesco ag goiania  centro est unif]</td>\n",
       "      <td>[2365, 5876, 535, 6839, 6882]</td>\n",
       "      <td>[0.7763861417770386, 0.7705288529396057, 0.7402488589286804, 0.7395811080932617, 0.7395811080932617]</td>\n",
       "      <td>False</td>\n",
       "    </tr>\n",
       "    <tr>\n",
       "      <th>171156</th>\n",
       "      <td>ca modas sa - ca modas ltda</td>\n",
       "      <td>ca modas sa - ca modas</td>\n",
       "      <td>c&amp;a loja</td>\n",
       "      <td>[ca modas sa - ca modas, ca modas sa - ca, ca modas sa - c e a, ca modas sa - c e a modas ltda, ca modas sa - c  a]</td>\n",
       "      <td>[51, 581, 989, 4009, 361]</td>\n",
       "      <td>[0.9102628231048584, 0.8002327084541321, 0.8002327084541321, 0.8002327084541321, 0.7926661968231201]</td>\n",
       "      <td>False</td>\n",
       "    </tr>\n",
       "    <tr>\n",
       "      <th>130869</th>\n",
       "      <td>banco bradesco sa - agencia empresas mogi guacu  urb mogi guacu sp</td>\n",
       "      <td>secretaria de estado da saude - ambulatorio medico de especialidades mogiguacu</td>\n",
       "      <td>bradesco moji</td>\n",
       "      <td>[secretaria de estado da saude - ambulatorio medico de especialidades mogiguacu, banco bradesco sa - agencia empresas joao pessoa  urb joao pessoa pb, banco bradesco sa - bradesco ag nova vicosa, banco bradesco sa - bradesco ag boquira, banco bradesco sa - bradesco ag jussara]</td>\n",
       "      <td>[4205, 629, 1067, 1694, 2565]</td>\n",
       "      <td>[0.7723007202148438, 0.7721460461616516, 0.7666333317756653, 0.7666333317756653, 0.7666333317756653]</td>\n",
       "      <td>False</td>\n",
       "    </tr>\n",
       "    <tr>\n",
       "      <th>152912</th>\n",
       "      <td>banco santander brasil sa - av brasilfoz iguacupr</td>\n",
       "      <td>banco santander brasil sa - av stos dumontuberabamg iii</td>\n",
       "      <td>santander</td>\n",
       "      <td>[banco santander brasil sa - av stos dumontuberabamg iii, banco santander brasil sa - agencia av das torrescappr, banco santander brasil sa - janaubamg, banco santander brasil sa - rio grandebarreirasba, banco santander brasil sa - rio do sulsc]</td>\n",
       "      <td>[1977, 2745, 1808, 2848, 3904]</td>\n",
       "      <td>[0.8249866962432861, 0.8180024027824402, 0.8104215264320374, 0.8104215264320374, 0.8104215264320374]</td>\n",
       "      <td>False</td>\n",
       "    </tr>\n",
       "    <tr>\n",
       "      <th>82510</th>\n",
       "      <td>igreja evangelica assembleia de deus - igreja evangelica assembleia de deus</td>\n",
       "      <td>igreja evangelica assembleia de deus - cerquilho</td>\n",
       "      <td>asenbleia ebanjelica</td>\n",
       "      <td>[igreja evangelica assembleia de deus - cerquilho, igreja evangelica assembleia de deus - waldemar hauer, igreja evangelica assembleia de deus - igreja evangelica assembleia, igreja evangelica assembleia de deus - balsamo, igreja evangelica assembleia de deus - ieaderp  joquei clube]</td>\n",
       "      <td>[241, 493, 3943, 5781, 6502]</td>\n",
       "      <td>[0.9568628668785095, 0.9568628668785095, 0.9568628668785095, 0.95686274766922, 0.95686274766922]</td>\n",
       "      <td>False</td>\n",
       "    </tr>\n",
       "    <tr>\n",
       "      <th>243261</th>\n",
       "      <td>secretaria municipal de educacao - secretaria municipal de educacao de mato queimado</td>\n",
       "      <td>secretaria municipal de educacao - superintendencia municipal de educacao  supeme</td>\n",
       "      <td>secretaria munisipal</td>\n",
       "      <td>[secretaria municipal de educacao - superintendencia municipal de educacao  supeme, municipio de jandira - secretaria municipal de educacao, fundo municipal do idoso - fundo muinicipal do idoso fmismbv, fundo municipal de educacao  fme - fundo municipal de educacao  fme, fundo municipal do meio ambiente  fmma - fundo municipal do meio ambiente  fmma]</td>\n",
       "      <td>[2446, 1842, 4650, 90, 550]</td>\n",
       "      <td>[0.8318243622779846, 0.8272088766098022, 0.8094853162765503, 0.7877323627471924, 0.7853839993476868]</td>\n",
       "      <td>False</td>\n",
       "    </tr>\n",
       "  </tbody>\n",
       "</table>\n",
       "</div>"
      ],
      "text/plain": [
       "                                                                                                       ground_truth  \\\n",
       "251682                                                  caixa de assistencia dos advogados de sao paulo - caaspshop   \n",
       "52096                                        companhia de saneamento basico do estado de sao paulo  sabesp - sabesp   \n",
       "189549                      uniao central brasileira da igreja adventista do setimo dia - iasd hortolandia  central   \n",
       "226898                                  comercio e industria de sorvetes eskimo ltda - eskimo  atacadao tres riosrj   \n",
       "119843                                                           banco bradesco sa - bradesco ag parintins est unif   \n",
       "237564                                                          mitra diocesana de jales - comunidade santo antonio   \n",
       "154764                                           congregacao crista no brasil - casa de oracao parque santa edwiges   \n",
       "176173                   igreja evangelica assembleia de deus - igreja evangelica assembleia de deusvila sao miguel   \n",
       "207800                                                                drogal farmaceutica ltda - drogal taquarituba   \n",
       "158783  allpark empreendimentos participacoes e servicos sa - allpark empreendimentos participacoes e servicos ltda   \n",
       "132281                                    banco bradesco sa - bradesco pa avenida adolfo pinheiro  urb sao paulo sp   \n",
       "228115                                                      supermercado hirota ltda - hirota food express  loja 15   \n",
       "232063                                    fundo municipal do meio ambiente - fundo municipal do meio ambiente  fmma   \n",
       "249169                                                 mitra diocesana de sao carlos - paroquia sao nicolau de flue   \n",
       "105095                                                     comercio de medicamentos brair ltda - farmacias sao joao   \n",
       "296524                           andrea carvalho de macedo - qualytech const e assesso tec em seg alimt e dietetica   \n",
       "287629                               ministerio familia de cristo na terra  ministerio familia - ministerio familia   \n",
       "97441                                                                            diagnosticos da america sa - cerpe   \n",
       "158112                                                      fundo municipal de cultura - fundo municipal de cultura   \n",
       "238766       spdm  associacao paulista para o desenvolvimento da medicina - faculdade cearense de ciencias da saude   \n",
       "131793                                                                   banco bradesco sa - ag palmeira dos indios   \n",
       "269633                                                       davo supermercados ltda - auto posto poupaki guarulhos   \n",
       "173632                                                                                           sapore sa - fleury   \n",
       "144344                                                              banco santander brasil sa - select vila olimpia   \n",
       "130328                                   banco bradesco sa - bradesco ag centro empresarial mario henrique simonsen   \n",
       "171156                                                                                  ca modas sa - ca modas ltda   \n",
       "130869                                           banco bradesco sa - agencia empresas mogi guacu  urb mogi guacu sp   \n",
       "152912                                                            banco santander brasil sa - av brasilfoz iguacupr   \n",
       "82510                                   igreja evangelica assembleia de deus - igreja evangelica assembleia de deus   \n",
       "243261                         secretaria municipal de educacao - secretaria municipal de educacao de mato queimado   \n",
       "\n",
       "                                                                                                                   prediction  \\\n",
       "251682                                                       caixa de assistencia dos advogados de sao paulo - caasp sorocaba   \n",
       "52096   companhia de saneamento basico do estado de sao paulo  sabesp - cia de saneamento basico do estado de sao paulosabesp   \n",
       "189549                 uniao central brasileira da igreja adventista do setimo dia - iasd hortolandia  jardim nova hortolndia   \n",
       "226898                    comercio e industria de sorvetes eskimo ltda - eskimo  loja de fabrica capao da canoars i zona nova   \n",
       "119843                                                                                  banco bradesco sa - bradesco est unif   \n",
       "237564                                                             mitra arquidiocesana de sao paulo - paroquia santo antonio   \n",
       "154764                                           allpark empreendimentos participacoes e servicos sa - hosp sta casa valinhos   \n",
       "176173                                                                       igreja evangelica assembleia de deus - cerquilho   \n",
       "207800                                                                       drogal farmaceutica ltda - drogal casa branca ii   \n",
       "158783                                        allpark empreendimentos participacoes e servicos sa - ed com merit office  mall   \n",
       "132281                                                       banco bradesco sa - bradesco pa avenida itavuvu  urb sorocaba sp   \n",
       "228115                                  bolognesi empreendimentos ltda - cond fazenda esperanca 75  campo belo ii  lt 15 q f1   \n",
       "232063                                                                                fundo municipal do meio ambiente - fmma   \n",
       "249169                                                              mitra diocesana de sao carlos - paroquia de sao sebastiao   \n",
       "105095                                                                comercio de medicamentos brair ltda - sao joao farmacia   \n",
       "296524                                                                 banco bradesco sa - bradesco pa serrano do maranhao ma   \n",
       "287629                                                           mitra da arquidiocese de curitiba - paroquia sagrada familia   \n",
       "97441                                                                 diagnosticos da america sa - ghanem laboratorio e saude   \n",
       "158112                                             fundo municipal de cultura  fmc - fundo municipal de cultura  fmc  batalha   \n",
       "238766                                          spdm  associacao paulista para o desenvolvimento da medicina - cei estrelinha   \n",
       "131793                                                                banco bradesco sa - bradesco pa cachoeira dos indios pb   \n",
       "269633                                                via brasil fashion comercio de roupas ltda - polo wear outlet guarulhos   \n",
       "173632                                                                                                  fleury sa - fleury sa   \n",
       "144344                                                                          banco santander brasil sa - vila olimpiasp ii   \n",
       "130328                                     allpark empreendimentos participacoes e servicos sa - centro empresarial vergueiro   \n",
       "171156                                                                                                 ca modas sa - ca modas   \n",
       "130869                                         secretaria de estado da saude - ambulatorio medico de especialidades mogiguacu   \n",
       "152912                                                                banco santander brasil sa - av stos dumontuberabamg iii   \n",
       "82510                                                                        igreja evangelica assembleia de deus - cerquilho   \n",
       "243261                                      secretaria municipal de educacao - superintendencia municipal de educacao  supeme   \n",
       "\n",
       "                          user_input  \\\n",
       "251682             caixa assistencia   \n",
       "52096                         sabesp   \n",
       "189549       uniao igreja adventista   \n",
       "226898                eskimo sorbete   \n",
       "119843                  bradesco ag.   \n",
       "237564                   mitra jales   \n",
       "154764                  parke oracao   \n",
       "176173  igreja evangelica assembleia   \n",
       "207800           drogal farmaceutica   \n",
       "158783       al park empreendimentos   \n",
       "132281                      bradesco   \n",
       "228115             hirota fod expres   \n",
       "232063                 meio anbiente   \n",
       "249169               mitra diocesana   \n",
       "105095             farmasia são joão   \n",
       "296524             kalytex seguranca   \n",
       "287629                    ministerio   \n",
       "97441                  serpe america   \n",
       "158112                    fundo muni   \n",
       "238766            faculdade c. saude   \n",
       "131793                   bradesco ag   \n",
       "269633                    davo posto   \n",
       "173632                        sapore   \n",
       "144344                        select   \n",
       "130328                banco bradesco   \n",
       "171156                      c&a loja   \n",
       "130869                 bradesco moji   \n",
       "152912                     santander   \n",
       "82510           asenbleia ebanjelica   \n",
       "243261          secretaria munisipal   \n",
       "\n",
       "                                                                                                                                                                                                                                                                                                                                                                                                                                                                                    top_5_names  \\\n",
       "251682                                                                                                                                                               [caixa de assistencia dos advogados de sao paulo - caasp sorocaba, caixa de assistencia dos advogados de sao paulo - caasp barueri, caixa de assistencia dos advogados de sao paulo - caasp braganca paulista, banco safra s a - agencia caxias do sul, caixa de assistencia dos advogados de sao paulo - caasp jabaquara]   \n",
       "52096                                                          [companhia de saneamento basico do estado de sao paulo  sabesp - cia de saneamento basico do estado de sao paulosabesp, fundo municipal de saneamento basico  fmsb - fundo municipal de saneamento basico, fundo municipal de saneamento basico  fmsb - fmsb, companhia de saneamento basico do estado de sao paulo  sabesp - est unif, fundo municipal de saneamento basico  fmsb - fundo municipal de saneamento basico  fmsb]   \n",
       "189549  [uniao central brasileira da igreja adventista do setimo dia - iasd hortolandia  jardim nova hortolndia, uniao central brasileira da igreja adventista do setimo dia - iasd hortolndia  jardim sumarezinho, uniao central brasileira da igreja adventista do setimo dia - iasd guarulhos  picanco, ordem dos advogados do brasil  seccao de sao paulo - subseccao de hortolandia, uniao central brasileira da igreja adventista do setimo dia - iasd sao paulo  vila nova cachoeirinha]   \n",
       "226898                                             [comercio e industria de sorvetes eskimo ltda - eskimo  loja de fabrica capao da canoars i zona nova, comercio e industria de sorvetes eskimo ltda - eskimo  loja de fabrica vacariars, comercio e industria de sorvetes eskimo ltda - eskimo  loja de fabrica osoriors, comercio e industria de sorvetes eskimo ltda - eskimo  loja de fabrica uberabamg, comercio e industria de sorvetes eskimo ltda - eskimo  atacadao belo horizontemg]   \n",
       "119843                                                                                                                                                                                                                   [banco bradesco sa - bradesco est unif, banco bradesco sa - bradesco ag amparo est unif, banco bradesco sa - bradesco ag ribas do rio pardo est unif, banco bradesco sa - bradesco ag rio das pedras est unif, banco bradesco sa - bradesco ag carlos prates est unif]   \n",
       "237564                                                                                                                                                                        [mitra arquidiocesana de sao paulo - paroquia santo antonio, igreja evangelica assembleia de deus - santo antonio, arquidiocese de campinas - paroquia santo antonio de santana galvao, mitra diocesana de santo andre - paroquia de santo antonio, mitra arquidiocesana de londrina - paroquia de santo antonio]   \n",
       "154764                                          [allpark empreendimentos participacoes e servicos sa - hosp sta casa valinhos, irmandade santa casa de misericordia de maringa - santa casa de maringa  hospital e mat m auxiliadora, bispado de rio preto - paroquia santa edwiges, cooperativa de credito poupanca e investimento das regioes centro do rs e mg  sicredi regiao centro rsmg - unidade de atendimento santa luzia, congregacao crista no brasil - casa de oracao santa isabel]   \n",
       "176173                                                                                                                                                                                             [igreja evangelica assembleia de deus - cerquilho, igreja evangelica assembleia de deus - waldemar hauer, igreja evangelica assembleia de deus - igreja evangelica assembleia, igreja evangelica assembleia de deus - balsamo, igreja evangelica assembleia de deus - ieaderp  joquei clube]   \n",
       "207800                                                                                                                                                                                                                                     [drogal farmaceutica ltda - drogal casa branca ii, drogal farmaceutica ltda - drogal laranjal paulista, drogal farmaceutica ltda - drogal agudos, drogal farmaceutica ltda - drogal cabreuva, drogal farmaceutica ltda - drogal ribeirao preto viii]   \n",
       "158783                                                                        [allpark empreendimentos participacoes e servicos sa - ed com merit office  mall, allpark empreendimentos participacoes e servicos sa - ed com torre sul, allpark empreendimentos participacoes e servicos sa - shop west plaza, allpark empreendimentos participacoes e servicos sa - allpark empreendimentos participacoes e servicos, allpark empreendimentos participacoes e servicos sa - inst en uniceplac]   \n",
       "132281                                                                                                                                               [banco bradesco sa - bradesco pa avenida itavuvu  urb sorocaba sp, banco bradesco sa - bradesco pa avenida do forte  urb porto alegre rs, banco bradesco sa - bradesco pa avenida paschoal ardito  urb americana sp, banco bradesco sa - bradesco pa  avenida liberdade  urb viamao rs, banco bradesco sa - bradesco ag avenida braz leme]   \n",
       "228115                                                                                                             [bolognesi empreendimentos ltda - cond fazenda esperanca 75  campo belo ii  lt 15 q f1, bolognesi empreendimentos ltda - cond fazenda esperanca 359  campo belo 4  lt 15 q j1, banco bradesco sa - bradesco ag praca 14 de janeiro, supermercado hirota ltda - hirota supermercados  loja 08, supermercado hirota ltda - hirota express em casa cond resid dez anhaia mello]   \n",
       "232063                                                                                                                                                                                                                      [fundo municipal do meio ambiente - fmma, fundo municipal do meio ambiente  fmma - fmma, fundo municipal de meio ambiente - fundo municipal de meio ambiente  fmma, fundo municipal do meio ambiente  fmma - fmma de vera, fundo municipal de meio ambiente - fmme]   \n",
       "249169                                                                                                                                                 [mitra diocesana de sao carlos - paroquia de sao sebastiao, mitra diocesana de sao miguel paulista - paroquia nossa senhora do caminho, mitra diocesana de sao carlos - paroquia de sao judas tadeu, mitra diocesana de sao carlos - paroquia do divino espirito santo, mitra arquidiocesana de sao paulo - paroquia sao miguel arcanjo]   \n",
       "105095                                                                                                                                                                                           [comercio de medicamentos brair ltda - sao joao farmacia, comercio de medicamentos brair ltda - farmacias melhor preco, comercio de medicamentos brair ltda - sao joao farmacias, farmacia e drogaria nissei sa - farmacias nissei, comercio de medicamentos brair ltda - sao joao farmaciais]   \n",
       "296524                                                                                                                                      [banco bradesco sa - bradesco pa serrano do maranhao ma, j costa e ribeiro administracao e participacoes sa - estacionamento brigadeirotobias, instituto hoc de hemoterapia ltda - escritorio administrativo, karabet bagdasaryan  cia ltda - o boticario, igreja evangelica assembleia de deus - conjunto habit maria cecilia serrano de oliveira]   \n",
       "287629                                                                                                 [mitra da arquidiocese de curitiba - paroquia sagrada familia, mitra arquidiocesana de sao paulo - paroquia sagrada familia, fundacao centro de atendimento socioeducativo ao adolescente  fundacao casa  sp - casa paulista  casa nova vida, hapvida assistencia medica sa - hospital geral padre cicero, arquidiocese de ribeirao preto - casa de retiros dom luiz do amaral mousinho]   \n",
       "97441                                                                                                                                                                                                                    [diagnosticos da america sa - ghanem laboratorio e saude, diagnosticos da america sa - vitalamina medicina diagnostica, diagnosticos da america sa - lavoisier, diagnosticos da america sa - laboratorio santa luzia, diagnosticos da america sa - delboni auriemo sa]   \n",
       "158112                                                                                                                                                                                                               [fundo municipal de cultura  fmc - fundo municipal de cultura  fmc  batalha, fundo municipal de cultura  fmc - fmc  fundo municipal de cultura, fundo municipal de cultura - fmc, fundo municipal de cultura - fundocult, fundo municipal de cultura  fmc - fmc  reboucas]   \n",
       "238766                                         [spdm  associacao paulista para o desenvolvimento da medicina - cei estrelinha, spdm  associacao paulista para o desenvolvimento da medicina - spdmsaude indigena para, spdm  associacao paulista para o desenvolvimento da medicina - spdm  pais  ap32, spdm  associacao paulista para o desenvolvimento da medicina - spdm  pais  servicos de saude diadema, spdm  associacao paulista para o desenvolvimento da medicina - cei conv nova luz]   \n",
       "131793                                                                                                                                                                                                      [banco bradesco sa - bradesco pa cachoeira dos indios pb, banco bradesco sa - bradesco paa aguiar pb, banco bradesco sa - bradesco ag porto alegre est unif, banco bradesco sa - bradesco ag itaquaquecetubacentro est unif, banco bradesco sa - bradesco ag rua antonio de barros]   \n",
       "269633                                                                                                                                                        [via brasil fashion comercio de roupas ltda - polo wear outlet guarulhos, jjc assessoria e intermediacao de negocios ltda  scp - scp  the valehoso partnership, via brasil fashion comercio de roupas ltda - polo wear tambore, silvano autocar ltda - silva autocar ltda, banco santander brasil sa - pa shop int guarulhossp i]   \n",
       "173632                                                                                                                                                                                                                                                                                                                                             [fleury sa - fleury sa, fleury sa - fleury medicina e saude, fleury sa - clinica luiz felippe mattoso, fleury sa - cip, sapore sa - cr 4652]   \n",
       "144344                                                                                                                                                                                                                                           [banco santander brasil sa - vila olimpiasp ii, banco santander brasil sa - select pres prudente, banco santander brasil sa - pa sao carlos sp ii, banco santander brasil sa - jd paulistanosp ii, banco santander brasil sa - fco politospsp]   \n",
       "130328                                                                                                                                      [allpark empreendimentos participacoes e servicos sa - centro empresarial vergueiro, j costa e ribeiro administracao e participacoes sa - estacionamento brigadeirotobias, banco santander brasil sa - henrique schaumannsp vi, banco bradesco sa - bradesco ag lauro de freitas  centro, banco bradesco sa - bradesco ag goiania  centro est unif]   \n",
       "171156                                                                                                                                                                                                                                                                                                                                                                      [ca modas sa - ca modas, ca modas sa - ca, ca modas sa - c e a, ca modas sa - c e a modas ltda, ca modas sa - c  a]   \n",
       "130869                                                                                                                                                                                                    [secretaria de estado da saude - ambulatorio medico de especialidades mogiguacu, banco bradesco sa - agencia empresas joao pessoa  urb joao pessoa pb, banco bradesco sa - bradesco ag nova vicosa, banco bradesco sa - bradesco ag boquira, banco bradesco sa - bradesco ag jussara]   \n",
       "152912                                                                                                                                                                                                                                    [banco santander brasil sa - av stos dumontuberabamg iii, banco santander brasil sa - agencia av das torrescappr, banco santander brasil sa - janaubamg, banco santander brasil sa - rio grandebarreirasba, banco santander brasil sa - rio do sulsc]   \n",
       "82510                                                                                                                                                                                              [igreja evangelica assembleia de deus - cerquilho, igreja evangelica assembleia de deus - waldemar hauer, igreja evangelica assembleia de deus - igreja evangelica assembleia, igreja evangelica assembleia de deus - balsamo, igreja evangelica assembleia de deus - ieaderp  joquei clube]   \n",
       "243261                                                                                                                         [secretaria municipal de educacao - superintendencia municipal de educacao  supeme, municipio de jandira - secretaria municipal de educacao, fundo municipal do idoso - fundo muinicipal do idoso fmismbv, fundo municipal de educacao  fme - fundo municipal de educacao  fme, fundo municipal do meio ambiente  fmma - fundo municipal do meio ambiente  fmma]   \n",
       "\n",
       "                         top_5_indices  \\\n",
       "251682  [1159, 2950, 5168, 1521, 3320]   \n",
       "52096    [5451, 3578, 1387, 3239, 865]   \n",
       "189549   [5875, 555, 3645, 6981, 1731]   \n",
       "226898   [712, 4616, 2700, 3702, 6779]   \n",
       "119843   [2435, 5920, 2188, 875, 3817]   \n",
       "237564    [22, 1897, 4340, 2152, 1974]   \n",
       "154764  [4329, 6934, 2596, 2692, 2370]   \n",
       "176173    [241, 493, 3943, 5781, 6502]   \n",
       "207800    [3969, 804, 828, 1539, 1944]   \n",
       "158783  [2857, 2235, 4039, 1194, 5160]   \n",
       "132281  [3244, 5136, 1577, 4077, 3424]   \n",
       "228115  [1033, 2571, 1602, 5284, 4370]   \n",
       "232063   [1290, 566, 3406, 2304, 1862]   \n",
       "249169    [1103, 3874, 57, 3278, 4391]   \n",
       "105095    [5676, 1864, 20, 4231, 5763]   \n",
       "296524  [3994, 5876, 2061, 1436, 4314]   \n",
       "287629   [2715, 923, 6834, 2430, 6067]   \n",
       "97441   [2730, 3661, 1163, 4706, 6836]   \n",
       "158112   [4817, 6637, 472, 4712, 2298]   \n",
       "238766  [1265, 1872, 3104, 6281, 4374]   \n",
       "131793  [2349, 6963, 1806, 3343, 3565]   \n",
       "269633  [5747, 5856, 1844, 1339, 3853]   \n",
       "173632     [950, 410, 2324, 3602, 935]   \n",
       "144344   [920, 2376, 2263, 4082, 4088]   \n",
       "130328   [2365, 5876, 535, 6839, 6882]   \n",
       "171156       [51, 581, 989, 4009, 361]   \n",
       "130869   [4205, 629, 1067, 1694, 2565]   \n",
       "152912  [1977, 2745, 1808, 2848, 3904]   \n",
       "82510     [241, 493, 3943, 5781, 6502]   \n",
       "243261     [2446, 1842, 4650, 90, 550]   \n",
       "\n",
       "                                                                                                 top_5_score  \\\n",
       "251682    [0.85704505443573, 0.8470551371574402, 0.8006576895713806, 0.7936556935310364, 0.7915828824043274]   \n",
       "52096    [0.8331656455993652, 0.832381546497345, 0.8323813080787659, 0.8323813080787659, 0.7785709500312805]   \n",
       "189549   [0.8443944454193115, 0.8288263082504272, 0.7999941110610962, 0.7898961901664734, 0.788623034954071]   \n",
       "226898    [0.8923221230506897, 0.8923221230506897, 0.885158121585846, 0.885158121585846, 0.8699141144752502]   \n",
       "119843   [0.797735333442688, 0.7638952732086182, 0.7513529658317566, 0.7513529062271118, 0.7513529062271118]   \n",
       "237564  [0.8691129684448242, 0.8568049669265747, 0.8480963706970215, 0.8477033972740173, 0.8442274928092957]   \n",
       "154764  [0.8388594388961792, 0.8248725533485413, 0.8194479942321777, 0.7831618189811707, 0.7792589068412781]   \n",
       "176173  [0.8975933194160461, 0.8975933194160461, 0.8975933194160461, 0.8975932598114014, 0.8975932598114014]   \n",
       "207800   [0.766386866569519, 0.7539625763893127, 0.7539625763893127, 0.7539625763893127, 0.7539625763893127]   \n",
       "158783  [0.9587953686714172, 0.9532070755958557, 0.9532070755958557, 0.9532069563865662, 0.9520962238311768]   \n",
       "132281    [0.8790419697761536, 0.8790419697761536, 0.876437246799469, 0.876437246799469, 0.8764371871948242]   \n",
       "228115  [0.7435967326164246, 0.7392190098762512, 0.7190993428230286, 0.6756484508514404, 0.6701688170433044]   \n",
       "232063  [0.9503999948501587, 0.9423304796218872, 0.9362497925758362, 0.9230492115020752, 0.9167177677154541]   \n",
       "249169   [0.830600380897522, 0.7942572236061096, 0.7936580181121826, 0.7936580181121826, 0.7882480025291443]   \n",
       "105095   [0.8775720596313477, 0.858375608921051, 0.8467568159103394, 0.8232858777046204, 0.8169785737991333]   \n",
       "296524  [0.7507646679878235, 0.7480445504188538, 0.7458316087722778, 0.7447436451911926, 0.7383145689964294]   \n",
       "287629  [0.7815076112747192, 0.6927860975265503, 0.6784040331840515, 0.6702303290367126, 0.6682338714599609]   \n",
       "97441    [0.8805738091468811, 0.8805736899375916, 0.8708702325820923, 0.8708702325820923, 0.870870053768158]   \n",
       "158112  [0.9848413467407227, 0.9589112997055054, 0.9587477445602417, 0.9587477445602417, 0.9578866362571716]   \n",
       "238766   [0.8269393444061279, 0.7980053424835205, 0.7878081202507019, 0.782374382019043, 0.7353476285934448]   \n",
       "131793  [0.7761434316635132, 0.7709488868713379, 0.7344779968261719, 0.7344779968261719, 0.7344779968261719]   \n",
       "269633  [0.7789009213447571, 0.7476000785827637, 0.7452154755592346, 0.7447847723960876, 0.7389079928398132]   \n",
       "173632   [0.9695499539375305, 0.931007444858551, 0.8968227505683899, 0.8940073847770691, 0.8349003195762634]   \n",
       "144344   [0.9246834516525269, 0.847815752029419, 0.8138444423675537, 0.8138444423675537, 0.8138444423675537]   \n",
       "130328  [0.7763861417770386, 0.7705288529396057, 0.7402488589286804, 0.7395811080932617, 0.7395811080932617]   \n",
       "171156  [0.9102628231048584, 0.8002327084541321, 0.8002327084541321, 0.8002327084541321, 0.7926661968231201]   \n",
       "130869  [0.7723007202148438, 0.7721460461616516, 0.7666333317756653, 0.7666333317756653, 0.7666333317756653]   \n",
       "152912  [0.8249866962432861, 0.8180024027824402, 0.8104215264320374, 0.8104215264320374, 0.8104215264320374]   \n",
       "82510       [0.9568628668785095, 0.9568628668785095, 0.9568628668785095, 0.95686274766922, 0.95686274766922]   \n",
       "243261  [0.8318243622779846, 0.8272088766098022, 0.8094853162765503, 0.7877323627471924, 0.7853839993476868]   \n",
       "\n",
       "        is_on_top_5  \n",
       "251682        False  \n",
       "52096         False  \n",
       "189549        False  \n",
       "226898        False  \n",
       "119843        False  \n",
       "237564        False  \n",
       "154764        False  \n",
       "176173        False  \n",
       "207800        False  \n",
       "158783        False  \n",
       "132281        False  \n",
       "228115        False  \n",
       "232063        False  \n",
       "249169        False  \n",
       "105095        False  \n",
       "296524        False  \n",
       "287629        False  \n",
       "97441         False  \n",
       "158112        False  \n",
       "238766        False  \n",
       "131793        False  \n",
       "269633        False  \n",
       "173632        False  \n",
       "144344        False  \n",
       "130328        False  \n",
       "171156        False  \n",
       "130869        False  \n",
       "152912        False  \n",
       "82510         False  \n",
       "243261        False  "
      ]
     },
     "execution_count": 69,
     "metadata": {},
     "output_type": "execute_result"
    }
   ],
   "source": [
    "to_print[to_print.is_on_top_5 == False].head(30)"
   ]
  },
  {
   "cell_type": "markdown",
   "id": "b5f1cd4c-6190-46db-a935-fda3317ccd89",
   "metadata": {
    "jp-MarkdownHeadingCollapsed": true
   },
   "source": [
    "##### Cosine Loss ONLY"
   ]
  },
  {
   "cell_type": "code",
   "execution_count": 70,
   "id": "b3324b3a-cab6-4ece-80c4-8461867f8dc1",
   "metadata": {},
   "outputs": [
    {
     "name": "stderr",
     "output_type": "stream",
     "text": [
      "No sentence-transformers model found with name google-bert/bert-base-multilingual-uncased. Creating a new one with mean pooling.\n",
      "Currently using DataParallel (DP) for multi-gpu training, while DistributedDataParallel (DDP) is recommended for faster training. See https://sbert.net/docs/sentence_transformer/training/distributed.html for more information.\n"
     ]
    },
    {
     "data": {
      "application/vnd.jupyter.widget-view+json": {
       "model_id": "2522b2d3681146c8ba28d25ddf999f82",
       "version_major": 2,
       "version_minor": 0
      },
      "text/plain": [
       "Computing widget examples:   0%|          | 0/1 [00:00<?, ?example/s]"
      ]
     },
     "metadata": {},
     "output_type": "display_data"
    },
    {
     "data": {
      "text/html": [
       "\n",
       "    <div>\n",
       "      \n",
       "      <progress value='628' max='628' style='width:300px; height:20px; vertical-align: middle;'></progress>\n",
       "      [628/628 09:59, Epoch 4/4]\n",
       "    </div>\n",
       "    <table border=\"1\" class=\"dataframe\">\n",
       "  <thead>\n",
       " <tr style=\"text-align: left;\">\n",
       "      <th>Step</th>\n",
       "      <th>Training Loss</th>\n",
       "    </tr>\n",
       "  </thead>\n",
       "  <tbody>\n",
       "    <tr>\n",
       "      <td>500</td>\n",
       "      <td>0.025900</td>\n",
       "    </tr>\n",
       "  </tbody>\n",
       "</table><p>"
      ],
      "text/plain": [
       "<IPython.core.display.HTML object>"
      ]
     },
     "metadata": {},
     "output_type": "display_data"
    },
    {
     "data": {
      "text/plain": [
       "TrainOutput(global_step=628, training_loss=0.024741656840986507, metrics={'train_runtime': 601.4289, 'train_samples_per_second': 66.508, 'train_steps_per_second': 1.044, 'total_flos': 0.0, 'train_loss': 0.024741656840986507, 'epoch': 4.0})"
      ]
     },
     "execution_count": 70,
     "metadata": {},
     "output_type": "execute_result"
    }
   ],
   "source": [
    "model = SentenceTransformer('google-bert/bert-base-multilingual-uncased')\n",
    "loss = losses.CosineSimilarityLoss(model)\n",
    "\n",
    "args = SentenceTransformerTrainingArguments(\n",
    "    # Required parameter:\n",
    "    output_dir=\"models/google-bert-CosineSimilarity-loss\",\n",
    "    num_train_epochs=4,\n",
    "    batch_sampler=BatchSamplers.NO_DUPLICATES,  # MultipleNegativesRankingLoss benefits from no duplicates\n",
    ")\n",
    "\n",
    "trainer = SentenceTransformerTrainer(\n",
    "    args=args,\n",
    "    model=model,\n",
    "    train_dataset=train_dataset,\n",
    "    eval_dataset=eval_dataset,\n",
    "    loss=loss,\n",
    ")\n",
    "trainer.train()"
   ]
  },
  {
   "cell_type": "code",
   "execution_count": 71,
   "id": "1fe466e4-f8b8-441a-b773-828734e912fa",
   "metadata": {},
   "outputs": [
    {
     "name": "stdout",
     "output_type": "stream",
     "text": [
      "Precision TOP 1:: 0.6510678557036985\n"
     ]
    }
   ],
   "source": [
    "model = SentenceTransformer('./models/google-bert-CosineSimilarity-loss/checkpoint-628')\n",
    "\n",
    "test_stage = test.copy()\n",
    "test_stage['legal_company_name'] = test_stage['razaosocial'] + ' - ' + test_stage['nome_fantasia']\n",
    "\n",
    "companies_embeddings = get_embeddings(model, test_stage.legal_company_name.tolist())\n",
    "user_input_embeddngs = get_embeddings(model, test_stage.user_input.tolist())\n",
    "\n",
    "similarity, top1, (top_5_idx, top_5_values) = get_similarity(companies_embeddings, user_input_embeddngs)\n",
    "\n",
    "ground_truth = test_stage['legal_company_name'].to_list()\n",
    "preds = test_stage.legal_company_name.iloc[top1.cpu()].to_list()\n",
    "\n",
    "predicted_precision = np.array(ground_truth) == np.array(preds)\n",
    "\n",
    "print(f'Precision TOP 1:: {predicted_precision.mean()}')"
   ]
  },
  {
   "cell_type": "markdown",
   "id": "29728fa0-110a-4640-85a6-3147cc5199f2",
   "metadata": {},
   "source": [
    "### Inverse Cosine"
   ]
  },
  {
   "cell_type": "markdown",
   "id": "4f2e78e3-213f-4eeb-aa3c-6affe898f9ee",
   "metadata": {},
   "source": [
    "#### Inverse Cosine + Multiple Negative Ranking"
   ]
  },
  {
   "cell_type": "code",
   "execution_count": 75,
   "id": "b40f6e11-2d8e-44b5-8e59-00b2a0e412aa",
   "metadata": {},
   "outputs": [],
   "source": [
    "# new_frame.to_csv('../dados/preprocessed_train_v1_inverse_cosine_similarity_score.csv', index=False)\n",
    "new_frame = pd.read_csv('../dados/preprocessed_train_v1_inverse_cosine_similarity_score.csv')"
   ]
  },
  {
   "cell_type": "code",
   "execution_count": 77,
   "id": "c449b3de-7d16-497c-9af3-982ea37aa56a",
   "metadata": {},
   "outputs": [
    {
     "data": {
      "application/vnd.jupyter.widget-view+json": {
       "model_id": "ea029e203d6c4b5ab6886a83c2299db5",
       "version_major": 2,
       "version_minor": 0
      },
      "text/plain": [
       "Generating train split: 0 examples [00:00, ? examples/s]"
      ]
     },
     "metadata": {},
     "output_type": "display_data"
    }
   ],
   "source": [
    "file_dict = {\n",
    "  \"train\" : \"../dados/preprocessed_train_v1_inverse_cosine_similarity_score.csv\",\n",
    "}\n",
    "\n",
    "data = load_dataset(\n",
    "  'csv',\n",
    "  data_files=file_dict,\n",
    "  delimiter=',',\n",
    "  column_names=['sentence1', 'score', 'sentence2'],\n",
    "  skiprows=1\n",
    ")\n",
    "\n",
    "train_dataset = data[\"train\"].select(range(10000))\n",
    "eval_dataset = data[\"train\"].select(range(1000, 12618))"
   ]
  },
  {
   "cell_type": "code",
   "execution_count": 78,
   "id": "8441409e-334c-4084-b00a-9e170bc5ace4",
   "metadata": {},
   "outputs": [
    {
     "name": "stderr",
     "output_type": "stream",
     "text": [
      "Currently using DataParallel (DP) for multi-gpu training, while DistributedDataParallel (DDP) is recommended for faster training. See https://sbert.net/docs/sentence_transformer/training/distributed.html for more information.\n"
     ]
    },
    {
     "data": {
      "application/vnd.jupyter.widget-view+json": {
       "model_id": "22a3a1ac175f45898d7ec9efdfb6232e",
       "version_major": 2,
       "version_minor": 0
      },
      "text/plain": [
       "Computing widget examples:   0%|          | 0/1 [00:00<?, ?example/s]"
      ]
     },
     "metadata": {},
     "output_type": "display_data"
    },
    {
     "data": {
      "text/html": [
       "\n",
       "    <div>\n",
       "      \n",
       "      <progress value='628' max='628' style='width:300px; height:20px; vertical-align: middle;'></progress>\n",
       "      [628/628 10:01, Epoch 4/4]\n",
       "    </div>\n",
       "    <table border=\"1\" class=\"dataframe\">\n",
       "  <thead>\n",
       " <tr style=\"text-align: left;\">\n",
       "      <th>Step</th>\n",
       "      <th>Training Loss</th>\n",
       "    </tr>\n",
       "  </thead>\n",
       "  <tbody>\n",
       "    <tr>\n",
       "      <td>500</td>\n",
       "      <td>0.034300</td>\n",
       "    </tr>\n",
       "  </tbody>\n",
       "</table><p>"
      ],
      "text/plain": [
       "<IPython.core.display.HTML object>"
      ]
     },
     "metadata": {},
     "output_type": "display_data"
    },
    {
     "data": {
      "text/plain": [
       "TrainOutput(global_step=628, training_loss=0.033021929157767325, metrics={'train_runtime': 603.1124, 'train_samples_per_second': 66.323, 'train_steps_per_second': 1.041, 'total_flos': 0.0, 'train_loss': 0.033021929157767325, 'epoch': 4.0})"
      ]
     },
     "execution_count": 78,
     "metadata": {},
     "output_type": "execute_result"
    }
   ],
   "source": [
    "model = SentenceTransformer('./models/google-bert-MultipleNegativesRanking-loss/checkpoint-1900')\n",
    "loss = losses.CosineSimilarityLoss(model)\n",
    "\n",
    "args = SentenceTransformerTrainingArguments(\n",
    "    # Required parameter:\n",
    "    output_dir=\"models/google-bert-MultipleNegativesRanking--InverseCosineSimilarity-loss\",\n",
    "    num_train_epochs=4,\n",
    "    batch_sampler=BatchSamplers.NO_DUPLICATES,  # MultipleNegativesRankingLoss benefits from no duplicates\n",
    ")\n",
    "\n",
    "trainer = SentenceTransformerTrainer(\n",
    "    args=args,\n",
    "    model=model,\n",
    "    train_dataset=train_dataset,\n",
    "    eval_dataset=eval_dataset,\n",
    "    loss=loss,\n",
    ")\n",
    "trainer.train()"
   ]
  },
  {
   "cell_type": "code",
   "execution_count": 79,
   "id": "ad449d85-c31d-485b-8406-67402f6ed756",
   "metadata": {},
   "outputs": [
    {
     "name": "stdout",
     "output_type": "stream",
     "text": [
      "Precision TOP 1:: 0.0008356545961002785\n"
     ]
    }
   ],
   "source": [
    "# model = SentenceTransformer('./models/google-bert-MultipleNegativesRanking--CosineSimilarity-loss/checkpoint-628')\n",
    "\n",
    "test_stage = test_stage = pd.read_parquet('../dados/preprocessed_test_v1.parquet')\n",
    "\n",
    "test_stage['legal_company_name'] = test_stage['razaosocial'] + ' - ' + test_stage['nome_fantasia']\n",
    "\n",
    "companies_embeddings = get_embeddings(model, test_stage.legal_company_name.tolist())\n",
    "user_input_embeddngs = get_embeddings(model, test_stage.user_input.tolist())\n",
    "\n",
    "similarity, top1, (top_5_idx, top_5_values) = get_similarity(companies_embeddings, user_input_embeddngs)\n",
    "\n",
    "ground_truth = test_stage['legal_company_name'].to_list()\n",
    "preds = test_stage.legal_company_name.iloc[top1.cpu()].to_list()\n",
    "\n",
    "predicted_precision = np.array(ground_truth) == np.array(preds)\n",
    "\n",
    "print(f'Precision TOP 1:: {predicted_precision.mean()}')"
   ]
  },
  {
   "cell_type": "markdown",
   "id": "352875e7-ae3f-45fa-aeac-343185c2e9ed",
   "metadata": {},
   "source": [
    "#### Inverse Cosine + Bert"
   ]
  },
  {
   "cell_type": "code",
   "execution_count": 80,
   "id": "30a3bced-ea6b-40ae-8d02-853bab2e0401",
   "metadata": {},
   "outputs": [
    {
     "name": "stderr",
     "output_type": "stream",
     "text": [
      "No sentence-transformers model found with name google-bert/bert-base-multilingual-uncased. Creating a new one with mean pooling.\n",
      "Currently using DataParallel (DP) for multi-gpu training, while DistributedDataParallel (DDP) is recommended for faster training. See https://sbert.net/docs/sentence_transformer/training/distributed.html for more information.\n"
     ]
    },
    {
     "data": {
      "application/vnd.jupyter.widget-view+json": {
       "model_id": "12626b9cb8c840d5af3c1ddd57b40fd3",
       "version_major": 2,
       "version_minor": 0
      },
      "text/plain": [
       "Computing widget examples:   0%|          | 0/1 [00:00<?, ?example/s]"
      ]
     },
     "metadata": {},
     "output_type": "display_data"
    },
    {
     "data": {
      "text/html": [
       "\n",
       "    <div>\n",
       "      \n",
       "      <progress value='628' max='628' style='width:300px; height:20px; vertical-align: middle;'></progress>\n",
       "      [628/628 10:00, Epoch 4/4]\n",
       "    </div>\n",
       "    <table border=\"1\" class=\"dataframe\">\n",
       "  <thead>\n",
       " <tr style=\"text-align: left;\">\n",
       "      <th>Step</th>\n",
       "      <th>Training Loss</th>\n",
       "    </tr>\n",
       "  </thead>\n",
       "  <tbody>\n",
       "    <tr>\n",
       "      <td>500</td>\n",
       "      <td>0.031900</td>\n",
       "    </tr>\n",
       "  </tbody>\n",
       "</table><p>"
      ],
      "text/plain": [
       "<IPython.core.display.HTML object>"
      ]
     },
     "metadata": {},
     "output_type": "display_data"
    },
    {
     "data": {
      "text/plain": [
       "TrainOutput(global_step=628, training_loss=0.031030650351457537, metrics={'train_runtime': 602.1021, 'train_samples_per_second': 66.434, 'train_steps_per_second': 1.043, 'total_flos': 0.0, 'train_loss': 0.031030650351457537, 'epoch': 4.0})"
      ]
     },
     "execution_count": 80,
     "metadata": {},
     "output_type": "execute_result"
    }
   ],
   "source": [
    "model = SentenceTransformer('google-bert/bert-base-multilingual-uncased')\n",
    "loss = losses.CosineSimilarityLoss(model)\n",
    "\n",
    "args = SentenceTransformerTrainingArguments(\n",
    "    # Required parameter:\n",
    "    output_dir=\"models/google-bert-InverseCosineSimilarity-loss\",\n",
    "    num_train_epochs=4,\n",
    "    batch_sampler=BatchSamplers.NO_DUPLICATES,  # MultipleNegativesRankingLoss benefits from no duplicates\n",
    ")\n",
    "\n",
    "trainer = SentenceTransformerTrainer(\n",
    "    args=args,\n",
    "    model=model,\n",
    "    train_dataset=train_dataset,\n",
    "    eval_dataset=eval_dataset,\n",
    "    loss=loss,\n",
    ")\n",
    "trainer.train()"
   ]
  },
  {
   "cell_type": "code",
   "execution_count": 81,
   "id": "40a02020-f2fe-4067-9049-5d3ae555d988",
   "metadata": {},
   "outputs": [
    {
     "name": "stdout",
     "output_type": "stream",
     "text": [
      "Precision TOP 1:: 0.002628028803195683\n"
     ]
    }
   ],
   "source": [
    "model = SentenceTransformer('./models/google-bert-InverseCosineSimilarity-loss/checkpoint-628')\n",
    "\n",
    "test_stage = test.copy()\n",
    "test_stage['legal_company_name'] = test_stage['razaosocial'] + ' - ' + test_stage['nome_fantasia']\n",
    "\n",
    "companies_embeddings = get_embeddings(model, test_stage.legal_company_name.tolist())\n",
    "user_input_embeddngs = get_embeddings(model, test_stage.user_input.tolist())\n",
    "\n",
    "similarity, top1, (top_5_idx, top_5_values) = get_similarity(companies_embeddings, user_input_embeddngs)\n",
    "\n",
    "ground_truth = test_stage['legal_company_name'].to_list()\n",
    "preds = test_stage.legal_company_name.iloc[top1.cpu()].to_list()\n",
    "\n",
    "predicted_precision = np.array(ground_truth) == np.array(preds)\n",
    "\n",
    "print(f'Precision TOP 1:: {predicted_precision.mean()}')"
   ]
  },
  {
   "cell_type": "markdown",
   "id": "f9fb7546-e2cc-4f4a-ad2b-1b860c8dca6f",
   "metadata": {},
   "source": [
    "### Contrastive Tension Loss"
   ]
  },
  {
   "cell_type": "code",
   "execution_count": 41,
   "id": "2a165ecf-d933-4566-937a-53306ac09b2c",
   "metadata": {},
   "outputs": [],
   "source": [
    "data = pd.read_parquet('../dados/preprocessed_train_v1.parquet')\n",
    "data = data.legal_company_name.to_list()\n",
    "\n",
    "train_dataset = losses.ContrastiveTensionDataLoader(data, batch_size=12, pos_neg_ratio=3)"
   ]
  },
  {
   "cell_type": "code",
   "execution_count": 42,
   "id": "6bcd3d20-6a53-48b7-98c1-ea5b417c178a",
   "metadata": {},
   "outputs": [
    {
     "name": "stderr",
     "output_type": "stream",
     "text": [
      "No sentence-transformers model found with name google-bert/bert-base-multilingual-uncased. Creating a new one with mean pooling.\n",
      "Currently using DataParallel (DP) for multi-gpu training, while DistributedDataParallel (DDP) is recommended for faster training. See https://sbert.net/docs/sentence_transformer/training/distributed.html for more information.\n"
     ]
    },
    {
     "data": {
      "application/vnd.jupyter.widget-view+json": {
       "model_id": "2474317d06e542e3ad9f58945ea5835f",
       "version_major": 2,
       "version_minor": 0
      },
      "text/plain": [
       "Computing widget examples:   0%|          | 0/1 [00:00<?, ?example/s]"
      ]
     },
     "metadata": {},
     "output_type": "display_data"
    },
    {
     "data": {
      "text/html": [
       "\n",
       "    <div>\n",
       "      \n",
       "      <progress value='530' max='530' style='width:300px; height:20px; vertical-align: middle;'></progress>\n",
       "      [530/530 03:04, Epoch 10/10]\n",
       "    </div>\n",
       "    <table border=\"1\" class=\"dataframe\">\n",
       "  <thead>\n",
       " <tr style=\"text-align: left;\">\n",
       "      <th>Step</th>\n",
       "      <th>Training Loss</th>\n",
       "    </tr>\n",
       "  </thead>\n",
       "  <tbody>\n",
       "    <tr>\n",
       "      <td>500</td>\n",
       "      <td>778.645800</td>\n",
       "    </tr>\n",
       "  </tbody>\n",
       "</table><p>"
      ],
      "text/plain": [
       "<IPython.core.display.HTML object>"
      ]
     },
     "metadata": {},
     "output_type": "display_data"
    }
   ],
   "source": [
    "model = SentenceTransformer('google-bert/bert-base-multilingual-uncased')\n",
    "\n",
    "loss = losses.ContrastiveTensionLoss(model=model)\n",
    "\n",
    "model.fit(\n",
    "    [(train_dataset, loss)],\n",
    "    epochs=10,\n",
    ")"
   ]
  },
  {
   "cell_type": "code",
   "execution_count": 43,
   "id": "48636108-61cb-4fcf-bf0d-b36a35005cd7",
   "metadata": {},
   "outputs": [
    {
     "name": "stdout",
     "output_type": "stream",
     "text": [
      "Precision TOP 1:: 0.574697338682832\n"
     ]
    }
   ],
   "source": [
    "test_stage = test.copy()\n",
    "test_stage['legal_company_name'] = test_stage['razaosocial'] + ' - ' + test_stage['nome_fantasia']\n",
    "\n",
    "companies_embeddings = get_embeddings(model, test_stage.legal_company_name.tolist())\n",
    "user_input_embeddngs = get_embeddings(model, test_stage.user_input.tolist())\n",
    "\n",
    "similarity, top1, (top_5_idx, top_5_values) = get_similarity(companies_embeddings, user_input_embeddngs)\n",
    "\n",
    "ground_truth = test_stage['legal_company_name'].to_list()\n",
    "preds = test_stage.legal_company_name.iloc[top1.cpu()].to_list()\n",
    "\n",
    "predicted_precision = np.array(ground_truth) == np.array(preds)\n",
    "\n",
    "print(f'Precision TOP 1:: {predicted_precision.mean()}')"
   ]
  },
  {
   "cell_type": "code",
   "execution_count": 44,
   "id": "ae1bdb23-7285-4362-b212-43cce5476e73",
   "metadata": {},
   "outputs": [
    {
     "name": "stdout",
     "output_type": "stream",
     "text": [
      "Precision TOP 1:: 0.1671309192200557\n"
     ]
    }
   ],
   "source": [
    "test_stage = test_stage = pd.read_parquet('../dados/preprocessed_test_v1.parquet')\n",
    "\n",
    "test_stage['legal_company_name'] = test_stage['razaosocial'] + ' - ' + test_stage['nome_fantasia']\n",
    "\n",
    "companies_embeddings = get_embeddings(model, test_stage.legal_company_name.tolist())\n",
    "user_input_embeddngs = get_embeddings(model, test_stage.user_input.tolist())\n",
    "\n",
    "similarity, top1, (top_5_idx, top_5_values) = get_similarity(companies_embeddings, user_input_embeddngs)\n",
    "\n",
    "ground_truth = test_stage['legal_company_name'].to_list()\n",
    "preds = test_stage.legal_company_name.iloc[top1.cpu()].to_list()\n",
    "\n",
    "predicted_precision = np.array(ground_truth) == np.array(preds)\n",
    "\n",
    "print(f'Precision TOP 1:: {predicted_precision.mean()}')"
   ]
  },
  {
   "cell_type": "markdown",
   "id": "2a4e91e9-9f4f-43e2-b3ed-cbc00c1bff10",
   "metadata": {},
   "source": [
    "## Plug and Play"
   ]
  },
  {
   "cell_type": "code",
   "execution_count": 60,
   "id": "57e4d178-2f1c-40b4-a279-877a790c0623",
   "metadata": {},
   "outputs": [],
   "source": [
    "def get_predictions(model_path, legal_company_name, user_inputs):\n",
    "    \n",
    "    model = SentenceTransformer(model_path)\n",
    "    ground_truth = legal_company_name.to_list()\n",
    "\n",
    "    companies_embeddings = get_embeddings(model, ground_truth)\n",
    "    user_input_embeddngs = get_embeddings(model, user_inputs.tolist())\n",
    "    \n",
    "    similarity, top1, (top_5_idx, top_5_values) = get_similarity(companies_embeddings, user_input_embeddngs)\n",
    "    \n",
    "    preds = legal_company_name.iloc[top1.cpu()].to_list()\n",
    "    \n",
    "    predicted_precision = np.array(ground_truth) == np.array(preds)\n",
    "\n",
    "    top_5_names = [legal_company_name.iloc[idx].to_list() for idx in np.array(top_5_idx)]\n",
    "    \n",
    "    top_5_precision = [True if gt in top_names else False for top_names, gt in zip(top_5_names, legal_company_name.tolist())]\n",
    "    \n",
    "    show = pd.DataFrame({\n",
    "    'ground_truth':ground_truth,\n",
    "    'prediction':preds,\n",
    "    'user_input':user_inputs,\n",
    "    'top_5_names': top_5_names,\n",
    "    'top_5_indices': np.array(top_5_idx).tolist(),\n",
    "    'top_5_score':np.array(top_5_values).tolist(),\n",
    "    'is_on_top_5':top_5_precision\n",
    "    })\n",
    "        \n",
    "\n",
    "    return {\"precision_top_1\" : predicted_precision.mean(), \n",
    "            \"precision_top_5\" : np.array(top_5_precision).mean(), \n",
    "            \"show\" : show}\n",
    "\n"
   ]
  },
  {
   "cell_type": "code",
   "execution_count": null,
   "id": "1499758f-da8d-4376-84c9-b07dee86a10e",
   "metadata": {},
   "outputs": [],
   "source": []
  },
  {
   "cell_type": "code",
   "execution_count": 49,
   "id": "a14b8072-6d34-4850-aa5a-be18b5845e82",
   "metadata": {},
   "outputs": [],
   "source": [
    "model_list = ['models/google-bert-CachedMultipleNegativesSymmetricRankingLoss-loss/checkpoint-1900',\n",
    "             'models/google-bert-MultipleNegativesRanking-loss/checkpoint-1900',\n",
    "             'models/google-bert-CosineSimilarity-loss/checkpoint-628',\n",
    "             'models/google-bert-MultipleNegativesRanking--CosineSimilarity-loss/checkpoint-628',\n",
    "             ]\n",
    "\n"
   ]
  },
  {
   "cell_type": "code",
   "execution_count": 61,
   "id": "cf714b3d-641f-48f4-9c56-a3e33949b6c3",
   "metadata": {},
   "outputs": [
    {
     "name": "stdout",
     "output_type": "stream",
     "text": [
      "************************************************************\n",
      "*** google-bert-CachedMultipleNegativesSymmetricRankingLoss-loss \n",
      "\n",
      "Precision TOP 1:: 0.8181404068188587\n",
      "Precision TOP 5:: 0.8756767174168228\n",
      "**************************************************************\n",
      "*****************************************\n",
      "*** google-bert-MultipleNegativesRanking-loss \n",
      "\n",
      "Precision TOP 1:: 0.8506228428263574\n",
      "Precision TOP 5:: 0.928780419433397\n",
      "*******************************************\n",
      "*********************************\n",
      "*** google-bert-CosineSimilarity-loss \n",
      "\n",
      "Precision TOP 1:: 0.6510678557036985\n",
      "Precision TOP 5:: 0.7463251397235313\n",
      "***********************************\n",
      "***********************************************************\n",
      "*** google-bert-MultipleNegativesRanking--CosineSimilarity-loss \n",
      "\n",
      "Precision TOP 1:: 0.812236102107679\n",
      "Precision TOP 5:: 0.9033060602344202\n",
      "*************************************************************\n"
     ]
    }
   ],
   "source": [
    "results = []\n",
    "test_stage = pd.read_parquet('../dados/preprocessed_test.parquet')\n",
    "test_stage['legal_company_name'] = test_stage['razaosocial'] + ' - ' + test_stage['nome_fantasia']\n",
    "\n",
    "\n",
    "for model_path in model_list:\n",
    "    \n",
    "    r = get_predictions(model_path, test_stage.legal_company_name, test_stage.user_input)\n",
    "\n",
    "    size = model_path.split('/')[1]\n",
    "    print('*'*len(size))\n",
    "    print(f'*** {size} \\n')\n",
    "    \n",
    "    results.append(r)\n",
    "    \n",
    "    print(f'Precision TOP 1:: {r[\"precision_top_1\"]}')\n",
    "    print(f'Precision TOP 5:: {r[\"precision_top_5\"]}')\n",
    "    \n",
    "    print('*'*len(model_path.split(\"/\")[1] + '\\n\\n'))\n",
    "    "
   ]
  },
  {
   "cell_type": "code",
   "execution_count": 63,
   "id": "11956011-a49d-4f28-a20f-5eb5909e481d",
   "metadata": {},
   "outputs": [
    {
     "name": "stdout",
     "output_type": "stream",
     "text": [
      "\n",
      "\n",
      "*** google-bert-CachedMultipleNegativesSymmetricRankingLoss-loss ***\n",
      "\n",
      "Precision TOP 1:: 0.5227019498607243\n",
      "Precision TOP 5:: 0.7025069637883008\n",
      "**************************************************************\n",
      "\n",
      "\n",
      "*** google-bert-MultipleNegativesRanking-loss ***\n",
      "\n",
      "Precision TOP 1:: 0.5291086350974931\n",
      "Precision TOP 5:: 0.7071030640668524\n",
      "*******************************************\n",
      "\n",
      "\n",
      "*** google-bert-CosineSimilarity-loss ***\n",
      "\n",
      "Precision TOP 1:: 0.27019498607242337\n",
      "Precision TOP 5:: 0.40487465181058496\n",
      "***********************************\n",
      "\n",
      "\n",
      "*** google-bert-MultipleNegativesRanking--CosineSimilarity-loss ***\n",
      "\n",
      "Precision TOP 1:: 0.47075208913649025\n",
      "Precision TOP 5:: 0.6537604456824513\n",
      "*************************************************************\n"
     ]
    }
   ],
   "source": [
    "results = []\n",
    "test_stage = pd.read_parquet('../dados/preprocessed_test_v1.parquet')\n",
    "test_stage['legal_company_name'] = test_stage['razaosocial'] + ' - ' + test_stage['nome_fantasia']\n",
    "\n",
    "\n",
    "for model_path in model_list:\n",
    "    \n",
    "    r = get_predictions(model_path, test_stage.legal_company_name, test_stage.user_input)\n",
    "\n",
    "    size = model_path.split('/')[1]\n",
    "    print('\\n')\n",
    "    print(f'*** {size} ***\\n')\n",
    "    \n",
    "    results.append(r)\n",
    "    \n",
    "    print(f'Precision TOP 1:: {r[\"precision_top_1\"]}')\n",
    "    print(f'Precision TOP 5:: {r[\"precision_top_5\"]}')\n",
    "    \n",
    "    print('*'*len(model_path.split(\"/\")[1] + '\\n\\n'))\n",
    "    "
   ]
  },
  {
   "cell_type": "code",
   "execution_count": null,
   "id": "921dbf77-49be-4b6f-b7ef-24401ac445e9",
   "metadata": {},
   "outputs": [],
   "source": []
  }
 ],
 "metadata": {
  "kernelspec": {
   "display_name": "Python 3 (ipykernel)",
   "language": "python",
   "name": "python3"
  },
  "language_info": {
   "codemirror_mode": {
    "name": "ipython",
    "version": 3
   },
   "file_extension": ".py",
   "mimetype": "text/x-python",
   "name": "python",
   "nbconvert_exporter": "python",
   "pygments_lexer": "ipython3",
   "version": "3.10.13"
  }
 },
 "nbformat": 4,
 "nbformat_minor": 5
}
